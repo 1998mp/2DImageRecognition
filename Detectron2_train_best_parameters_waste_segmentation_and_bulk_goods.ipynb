{
  "cells": [
    {
      "cell_type": "code",
      "execution_count": null,
      "metadata": {
        "id": "ZGbKnXj8Zequ"
      },
      "outputs": [],
      "source": [
        "!nvidia-smi -L"
      ]
    },
    {
      "cell_type": "code",
      "execution_count": null,
      "metadata": {
        "id": "0d288Z2mF5dC"
      },
      "outputs": [],
      "source": [
        "import torch, detectron2\n",
        "!nvcc --version\n",
        "TORCH_VERSION = \".\".join(torch.__version__.split(\".\")[:2])\n",
        "CUDA_VERSION = torch.__version__.split(\"+\")[-1]\n",
        "print(\"torch: \", TORCH_VERSION, \"; cuda: \", CUDA_VERSION)\n",
        "print(\"detectron2:\", detectron2.__version__)"
      ]
    },
    {
      "cell_type": "markdown",
      "metadata": {
        "id": "KoOhp5ABsmt9"
      },
      "source": [
        "### Some basic setup, import:"
      ]
    },
    {
      "cell_type": "code",
      "execution_count": null,
      "metadata": {
        "id": "ZyAvNCJMmvFF"
      },
      "outputs": [],
      "source": [
        "# %matplotlib inline\n",
        "\n",
        "# Setup detectron2 logger\n",
        "import detectron2\n",
        "from detectron2.utils.logger import setup_logger\n",
        "setup_logger()\n",
        "\n",
        "# import some common libraries\n",
        "import pandas as pd\n",
        "import numpy as np\n",
        "import os, json, cv2, random\n",
        "import glob\n",
        "# from matplotlib import pyplot as plt\n",
        "from IPython import display\n",
        "from IPython.display import Image\n",
        "# from google.colab.patches import cv2_imshow\n",
        "\n",
        "# import some common detectron2 utilities\n",
        "from detectron2 import model_zoo\n",
        "from detectron2.engine import DefaultPredictor\n",
        "from detectron2.config import get_cfg\n",
        "from detectron2.utils.visualizer import Visualizer\n",
        "from detectron2.data import MetadataCatalog, DatasetCatalog\n",
        "\n",
        "from detectron2.data.datasets import register_coco_instances\n",
        "from detectron2.engine import DefaultTrainer\n",
        "from detectron2.utils.visualizer import ColorMode\n",
        "from detectron2.evaluation import COCOEvaluator, inference_on_dataset\n",
        "from detectron2.data import build_detection_test_loader\n",
        "\n",
        "from detectron2.checkpoint import DetectionCheckpointer\n",
        "from detectron2.modeling import build_model\n",
        "\n",
        "import IPython"
      ]
    },
    {
      "cell_type": "markdown",
      "metadata": {
        "id": "mA4U08qHshSs"
      },
      "source": [
        "Set seed for reproducibility"
      ]
    },
    {
      "cell_type": "code",
      "execution_count": null,
      "metadata": {
        "id": "HFjEIXlFfYRg"
      },
      "outputs": [],
      "source": [
        "SEED = 1234\n",
        "random.seed(SEED)\n",
        "np.random.seed(seed=SEED)\n",
        "torch.manual_seed(SEED)"
      ]
    },
    {
      "cell_type": "code",
      "execution_count": null,
      "metadata": {
        "id": "Jh2cizYCtyU0"
      },
      "outputs": [],
      "source": [
        "def imshow(img):\n",
        "    _, ret = cv2.imencode('.jpg', img) \n",
        "    i = IPython.display.Image(data=ret)\n",
        "    IPython.display.display(i)"
      ]
    },
    {
      "cell_type": "markdown",
      "metadata": {
        "id": "b2bjrfb2LDeo"
      },
      "source": [
        "# Train on a custom dataset"
      ]
    },
    {
      "cell_type": "markdown",
      "metadata": {
        "id": "tjbUIhSxUdm_"
      },
      "source": [
        "\n",
        "## Prepare the dataset"
      ]
    },
    {
      "cell_type": "code",
      "execution_count": null,
      "metadata": {
        "id": "Vsy4HuCcj7E2"
      },
      "outputs": [],
      "source": [
        "# dataset_name = \"my_dataset_train\"\n",
        "# metadata = {}\n",
        "# json_file = \"path_to_.json\"\n",
        "# image_root = \"path_to_image_root\""
      ]
    },
    {
      "cell_type": "code",
      "source": [
        "dataset_name = \"BigScrew\"\n",
        "metadata = {}\n",
        "json_file = \"./data/bigscrew/result.json\"\n",
        "image_root = \"./data/bigscrew\"\n",
        "\n",
        "register_coco_instances(dataset_name, metadata, json_file, image_root)\n",
        "metadata = MetadataCatalog.get(dataset_name)\n",
        "dataset_dicts = DatasetCatalog.get(dataset_name)"
      ],
      "metadata": {
        "id": "9wMPuWDNZJj5"
      },
      "execution_count": null,
      "outputs": []
    },
    {
      "cell_type": "code",
      "source": [
        "val_dataset_name = \"BigScrewValid\"\n",
        "val_metadata = {}\n",
        "val_json_file = \"./data/bigscrewvalid/result.json\"\n",
        "val_image_root = \"./data/bigscrewvalid\"\n",
        "\n",
        "register_coco_instances(val_dataset_name, val_metadata, val_json_file, val_image_root)\n",
        "val_metadata = MetadataCatalog.get(val_dataset_name)\n",
        "val_dataset_dicts = DatasetCatalog.get(val_dataset_name)"
      ],
      "metadata": {
        "id": "6c2q44oNZJhj"
      },
      "execution_count": null,
      "outputs": []
    },
    {
      "cell_type": "code",
      "execution_count": null,
      "metadata": {
        "id": "5iS_VZJ0Pgs5"
      },
      "outputs": [],
      "source": [
        "dataset_name = \"BigScrewScrewWasher\"\n",
        "metadata = {}\n",
        "json_file = \"./data/screwwasherANDbigscrew/result.json\"\n",
        "image_root = \"./data/screwwasherANDbigscrew\"\n",
        "\n",
        "register_coco_instances(dataset_name, metadata, json_file, image_root)\n",
        "metadata = MetadataCatalog.get(dataset_name)\n",
        "dataset_dicts = DatasetCatalog.get(dataset_name)"
      ]
    },
    {
      "cell_type": "code",
      "execution_count": null,
      "metadata": {
        "id": "ueUALGpDPgs6"
      },
      "outputs": [],
      "source": [
        "val_dataset_name = \"BigScrewScrewWasherValid\"\n",
        "val_metadata = {}\n",
        "val_json_file = \"./data/screwwasherANDbigscrewvalid/result.json\"\n",
        "val_image_root = \"./data/screwwasherANDbigscrewvalid\"\n",
        "\n",
        "register_coco_instances(val_dataset_name, val_metadata, val_json_file, val_image_root)\n",
        "val_metadata = MetadataCatalog.get(val_dataset_name)\n",
        "val_dataset_dicts = DatasetCatalog.get(val_dataset_name)"
      ]
    },
    {
      "cell_type": "code",
      "execution_count": null,
      "metadata": {
        "id": "iN-_OHhpl59_"
      },
      "outputs": [],
      "source": [
        "dataset_name = \"glassMetalPapperPlastic\"\n",
        "metadata = {}\n",
        "json_file = \"./data/glassMetalPapperPlastic/result.json\"\n",
        "image_root = \"./data/glassMetalPapperPlastic\"\n",
        "\n",
        "register_coco_instances(dataset_name, metadata, json_file, image_root)\n",
        "metadata = MetadataCatalog.get(dataset_name).set(thing_classes=[\"Glass\", \"Metal\", \"Paper\", \"Plastic\"])\n",
        "dataset_dicts = DatasetCatalog.get(dataset_name)"
      ]
    },
    {
      "cell_type": "code",
      "execution_count": null,
      "metadata": {
        "id": "vqxvEXnseONY"
      },
      "outputs": [],
      "source": [
        "val_dataset_name = \"valid25\"\n",
        "val_metadata = {}\n",
        "val_json_file = \"./data/valid25/result.json\"\n",
        "val_image_root = \"./data/valid25\"\n",
        "\n",
        "register_coco_instances(val_dataset_name, val_metadata, val_json_file, val_image_root)\n",
        "val_metadata = MetadataCatalog.get(val_dataset_name).set(thing_classes=[\"Glass\", \"Metal\", \"Paper\", \"Plastic\"])\n",
        "val_dataset_dicts = DatasetCatalog.get(val_dataset_name)"
      ]
    },
    {
      "cell_type": "code",
      "source": [
        "dataset_name = \"GlassMetalPaperPlasticAndShowroom\"\n",
        "metadata = {}\n",
        "json_file = \"./data/GlassMetalPaperPlasticAndShowroom/result.json\"\n",
        "image_root = \"./data/GlassMetalPaperPlasticAndShowroom\"\n",
        "\n",
        "register_coco_instances(dataset_name, metadata, json_file, image_root)\n",
        "metadata = MetadataCatalog.get(dataset_name)\n",
        "dataset_dicts = DatasetCatalog.get(dataset_name)"
      ],
      "metadata": {
        "id": "05stkat4PzEU"
      },
      "execution_count": null,
      "outputs": []
    },
    {
      "cell_type": "code",
      "source": [
        "val_dataset_name = \"GlassMetalPaperPlasticAndShowroomValid\"\n",
        "val_metadata = {}\n",
        "val_json_file = \"./data/GlassMetalPaperPlasticAndShowroomValid/result.json\"\n",
        "val_image_root = \"./data/GlassMetalPaperPlasticAndShowroomValid\"\n",
        "\n",
        "register_coco_instances(val_dataset_name, val_metadata, val_json_file, val_image_root)\n",
        "val_metadata = MetadataCatalog.get(val_dataset_name)\n",
        "val_dataset_dicts = DatasetCatalog.get(val_dataset_name)"
      ],
      "metadata": {
        "id": "yxr9uNzsPzCD"
      },
      "execution_count": null,
      "outputs": []
    },
    {
      "cell_type": "code",
      "execution_count": null,
      "metadata": {
        "id": "0d6tkUXbmmtK"
      },
      "outputs": [],
      "source": [
        "def random_sample(dataset_dicts, number, metadata):\n",
        "    for d in random.sample(dataset_dicts, number):\n",
        "        img = cv2.imread(d[\"file_name\"])\n",
        "        visualizer = Visualizer(img[:, :, ::-1], metadata=metadata, scale=0.5)\n",
        "        vis = visualizer.draw_dataset_dict(d)\n",
        "        imshow(vis.get_image()[:, :, ::-1])"
      ]
    },
    {
      "cell_type": "code",
      "execution_count": null,
      "metadata": {
        "id": "MP0RODGMtyU_"
      },
      "outputs": [],
      "source": [
        "random_sample(dataset_dicts, 5, metadata)"
      ]
    },
    {
      "cell_type": "markdown",
      "metadata": {
        "id": "wlqXIXXhW8dA"
      },
      "source": [
        "## Train\n",
        "\n",
        "Now, let's fine-tune a COCO-pretrained R50-FPN Mask R-CNN model on the dataset.\n"
      ]
    },
    {
      "cell_type": "code",
      "execution_count": null,
      "metadata": {
        "id": "pB3e3EYgoG7J"
      },
      "outputs": [],
      "source": [
        "def train(dataset_name, \n",
        "          images_per_batch=2, \n",
        "          learning_rate=0.00025, \n",
        "          iteration=300, \n",
        "          batch_size_per_image=512, \n",
        "          num_classes=1, \n",
        "          test=False, \n",
        "          test_dataset_name=\"\",\n",
        "          init_model=\"COCO-InstanceSegmentation/mask_rcnn_R_50_FPN_3x.yaml\",\n",
        "          retinaNet=False):\n",
        "    \n",
        "    cfg = get_cfg()\n",
        "    \n",
        "    # minimum image size for the train set\n",
        "    cfg.INPUT.MIN_SIZE_TRAIN = (512,)\n",
        "    # maximum image size for the train set\n",
        "    cfg.INPUT.MAX_SIZE_TRAIN = 512\n",
        "    # minimum image size for the test set\n",
        "    cfg.INPUT.MIN_SIZE_TEST = 512\n",
        "    # maximum image size for the test set\n",
        "    cfg.INPUT.MAX_SIZE_TEST = 512\n",
        "\n",
        "    # cfg.MODEL.DEVICE='cpu'\n",
        "\n",
        "    cfg.merge_from_file(model_zoo.get_config_file(init_model))\n",
        "    cfg.DATASETS.TRAIN = (dataset_name,)\n",
        "\n",
        "    if test:\n",
        "        cfg.DATASETS.TEST = (test_dataset_name,)\n",
        "    else:\n",
        "        cfg.DATASETS.TEST = ()\n",
        "\n",
        "    cfg.DATALOADER.NUM_WORKERS = 2\n",
        "    cfg.MODEL.WEIGHTS = model_zoo.get_checkpoint_url(init_model)  # Let training initialize from model zoo\n",
        "    cfg.SOLVER.IMS_PER_BATCH = images_per_batch  # This is the real \"batch size\" commonly known to deep learning people (number of images per batch)\n",
        "    cfg.SOLVER.BASE_LR = learning_rate  \n",
        "    cfg.SOLVER.MAX_ITER = iteration\n",
        "    cfg.SOLVER.STEPS = []        # do not decay learning rate\n",
        "    cfg.MODEL.ROI_HEADS.BATCH_SIZE_PER_IMAGE = batch_size_per_image   # The \"RoIHead batch size\". 128 is faster, (default: 512). Number of regions per image used to train RPN.\n",
        "    cfg.MODEL.ROI_HEADS.NUM_CLASSES = num_classes  \n",
        "    \n",
        "    if retinaNet:\n",
        "        cfg.MODEL.RETINANET.NUM_CLASSES = num_classes\n",
        "    \n",
        "    os.makedirs(cfg.OUTPUT_DIR, exist_ok=True)\n",
        "    trainer = DefaultTrainer(cfg) \n",
        "    trainer.resume_or_load(resume=False)\n",
        "    trainer.train()\n",
        "\n",
        "    if test:\n",
        "        cfg.MODEL.WEIGHTS = os.path.join(cfg.OUTPUT_DIR, \"model_final.pth\")\n",
        "        predictor = DefaultPredictor(cfg)\n",
        "        evaluator = COCOEvaluator(test_dataset_name, output_dir=\"./output\")\n",
        "        test_result = trainer.test(cfg, predictor.model, evaluator)\n",
        "        return cfg, test_result\n",
        "\n",
        "    return cfg, \"\""
      ]
    },
    {
      "cell_type": "code",
      "execution_count": null,
      "metadata": {
        "id": "ZPgRxhWfPgtD"
      },
      "outputs": [],
      "source": [
        "# images_per_batch = 16\n",
        "# learning_rate = 0.01\n",
        "# batch_size_per_image = 512 \n",
        "# iteration = 300\n",
        "# num_classes = 4\n",
        "# init_model=\"COCO-InstanceSegmentation/mask_rcnn_R_50_FPN_3x.yaml\""
      ]
    },
    {
      "cell_type": "code",
      "execution_count": null,
      "metadata": {
        "id": "VIhsj-4SPgtD"
      },
      "outputs": [],
      "source": [
        "# cfg, test_result = train(dataset_name,\n",
        "#                          images_per_batch=images_per_batch, \n",
        "#                          learning_rate=learning_rate, \n",
        "#                          iteration=iteration, \n",
        "#                          batch_size_per_image=batch_size_per_image,\n",
        "#                          num_classes=num_classes, \n",
        "#                          test=True, \n",
        "#                          test_dataset_name=val_dataset_name,\n",
        "#                          init_model=init_model,\n",
        "#                          retinaNet=False)"
      ]
    },
    {
      "cell_type": "code",
      "execution_count": null,
      "metadata": {
        "id": "LNWuyAcU0BMB"
      },
      "outputs": [],
      "source": [
        "# df = pd.DataFrame(test_result, columns=test_result.keys())"
      ]
    },
    {
      "cell_type": "code",
      "execution_count": null,
      "metadata": {
        "id": "AdguXTIn0OU2"
      },
      "outputs": [],
      "source": [
        "# df"
      ]
    },
    {
      "cell_type": "markdown",
      "metadata": {
        "id": "0e4vdDIOXyxF"
      },
      "source": [
        "## Inference & evaluation using the trained model\n",
        "Let's run inference with the trained model on the validation dataset. First, let's create a predictor using the model we just trained:\n",
        "\n"
      ]
    },
    {
      "cell_type": "code",
      "execution_count": null,
      "metadata": {
        "id": "Ya5nEuMELeq8"
      },
      "outputs": [],
      "source": [
        "# # Inference should use the config with parameters that are used in training\n",
        "# # cfg now already contains everything we've set previously. We changed it a little bit for inference:\n",
        "# cfg.MODEL.WEIGHTS = os.path.join(cfg.OUTPUT_DIR, \"model_final.pth\")  # path to the model we just trained\n",
        "# cfg.MODEL.ROI_HEADS.SCORE_THRESH_TEST = 0.7   # set a custom testing threshold\n",
        "# predictor = DefaultPredictor(cfg)"
      ]
    },
    {
      "cell_type": "code",
      "execution_count": null,
      "metadata": {
        "id": "hJHEvtFgqVim"
      },
      "outputs": [],
      "source": [
        "# evaluator = COCOEvaluator(\"val_glass3\", output_dir=\"./output\")\n",
        "# val_loader = build_detection_test_loader(cfg, \"val_glass3\")\n",
        "# print(inference_on_dataset(predictor.model, val_loader, evaluator))"
      ]
    },
    {
      "cell_type": "code",
      "execution_count": null,
      "metadata": {
        "id": "CWd5DP8V0eo3"
      },
      "outputs": [],
      "source": [
        "def evaluate(image, metadata, instance_mode=False):\n",
        "    im = cv2.imread(image)\n",
        "    outputs = predictor(im)  # format is documented at https://detectron2.readthedocs.io/tutorials/models.html#model-output-format\n",
        "    \n",
        "    v = {}\n",
        "    if instance_mode:\n",
        "        v = Visualizer(im[:, :, ::-1],\n",
        "                        metadata=metadata, \n",
        "                        scale=0.5, \n",
        "                        instance_mode=ColorMode.IMAGE_BW   # remove the colors of unsegmented pixels. This option is only available for segmentation models\n",
        "        )\n",
        "    else:\n",
        "        v = Visualizer(im[:, :, ::-1],\n",
        "                        metadata=metadata, \n",
        "                        scale=0.5,\n",
        "        )\n",
        "    out = v.draw_instance_predictions(outputs[\"instances\"].to(\"cpu\"))\n",
        "    imshow(out.get_image()[:, :, ::-1])"
      ]
    },
    {
      "cell_type": "code",
      "execution_count": null,
      "metadata": {
        "id": "hY_XGTd1uRYh"
      },
      "outputs": [],
      "source": [
        "# evaluate(\"/content/drive/MyDrive/Detectron/data/dataset-resized/glass/test/glass451.jpg\", metadata, instance_mode=True)"
      ]
    },
    {
      "cell_type": "code",
      "execution_count": null,
      "metadata": {
        "id": "X9v-7Oq6uRuZ"
      },
      "outputs": [],
      "source": [
        "# evaluate(\"/content/drive/MyDrive/Detectron/data/dataset-resized/glass/test/glass451.jpg\", metadata, instance_mode=False)"
      ]
    },
    {
      "cell_type": "code",
      "execution_count": null,
      "metadata": {
        "id": "rOqK4tJ50kLt"
      },
      "outputs": [],
      "source": [
        "def random_test_sample(dataset_dicts, number, metadata, instance_mode=False):\n",
        "    for i in range(number):\n",
        "        images = glob.glob(dataset_dicts + \"*.jpg\")\n",
        "        random_image = random.choice(images)\n",
        "        evaluate(random_image, metadata, instance_mode)"
      ]
    },
    {
      "cell_type": "code",
      "execution_count": null,
      "metadata": {
        "id": "GoViowC80jm_"
      },
      "outputs": [],
      "source": [
        "# test_dataset_path = \"/content/drive/MyDrive/Detectron/data/dataset-resized/glass/test/\"\n",
        "# random_test_sample(test_dataset_path, 5, metadata)"
      ]
    },
    {
      "cell_type": "markdown",
      "metadata": {
        "id": "3vXtheaYjWPa"
      },
      "source": [
        "## Best parameters bulk goods"
      ]
    },
    {
      "cell_type": "markdown",
      "metadata": {
        "id": "KXGN3do2tyW1"
      },
      "source": [
        "#### NO pretrained model"
      ]
    },
    {
      "cell_type": "code",
      "execution_count": null,
      "metadata": {
        "id": "Zf6OESGftyW1"
      },
      "outputs": [],
      "source": [
        "# init_model=\"Misc/scratch_mask_rcnn_R_50_FPN_9x_gn.yaml\""
      ]
    },
    {
      "cell_type": "markdown",
      "metadata": {
        "id": "gGGkEOQGtyW5"
      },
      "source": [
        "#### COCO-pretrained R50-FPN Mask R-CNN"
      ]
    },
    {
      "cell_type": "code",
      "execution_count": null,
      "metadata": {
        "id": "IWTwWYcXPgtg"
      },
      "outputs": [],
      "source": [
        "import gc\n",
        "gc.collect()\n",
        "torch.cuda.empty_cache()"
      ]
    },
    {
      "cell_type": "code",
      "execution_count": null,
      "metadata": {
        "id": "RiuFK9knPgth"
      },
      "outputs": [],
      "source": [
        "t = torch.cuda.get_device_properties(0).total_memory\n",
        "r = torch.cuda.memory_reserved(0)\n",
        "a = torch.cuda.memory_allocated(0)\n",
        "f = r-a  # free inside reserved"
      ]
    },
    {
      "cell_type": "code",
      "execution_count": null,
      "metadata": {
        "id": "VC6IBr6sPgti"
      },
      "outputs": [],
      "source": [
        "f"
      ]
    },
    {
      "cell_type": "code",
      "execution_count": null,
      "metadata": {
        "id": "Cc94NvQftyW5"
      },
      "outputs": [],
      "source": [
        "images_per_batch = 8\n",
        "learning_rate = 0.01\n",
        "batch_size_per_image = 256 \n",
        "iteration = 10000\n",
        "num_classes = 2\n",
        "# images_per_batch = 2\n",
        "# learning_rate = 0.01\n",
        "# batch_size_per_image = 128 \n",
        "# iteration = 30000\n",
        "# num_classes = 1"
      ]
    },
    {
      "cell_type": "code",
      "execution_count": null,
      "metadata": {
        "id": "uR1SX32gtyW5"
      },
      "outputs": [],
      "source": [
        "init_model=\"COCO-InstanceSegmentation/mask_rcnn_R_50_FPN_3x.yaml\""
      ]
    },
    {
      "cell_type": "code",
      "execution_count": null,
      "metadata": {
        "id": "zgpdYNRUilTp"
      },
      "outputs": [],
      "source": [
        "cfg, test_result = train(dataset_name,\n",
        "                         images_per_batch=images_per_batch, \n",
        "                         learning_rate=learning_rate, \n",
        "                         iteration=iteration, \n",
        "                         batch_size_per_image=batch_size_per_image,\n",
        "                         num_classes=num_classes, \n",
        "                         test=False, \n",
        "#                          test=True, \n",
        "#                          test_dataset_name=val_dataset_name,\n",
        "                         init_model=init_model,\n",
        "                         retinaNet=False)"
      ]
    },
    {
      "cell_type": "code",
      "execution_count": null,
      "metadata": {
        "id": "azpmhu_bi2YD"
      },
      "outputs": [],
      "source": [
        "model = build_model(cfg)\n",
        "checkpointer = DetectionCheckpointer(model, save_dir=\"output\")\n",
        "checkpointer.save(\"model_mask_rcnn_R_50_FPN_3x\")"
      ]
    },
    {
      "cell_type": "code",
      "execution_count": null,
      "metadata": {
        "id": "4U3G_4cjtyW7"
      },
      "outputs": [],
      "source": [
        "cfg.MODEL.WEIGHTS = os.path.join(cfg.OUTPUT_DIR, \"model_final.pth\")  # path to the model we just trained\n",
        "cfg.MODEL.ROI_HEADS.SCORE_THRESH_TEST = 0.7   # set a custom testing threshold\n",
        "predictor = DefaultPredictor(cfg)"
      ]
    },
    {
      "cell_type": "code",
      "execution_count": null,
      "metadata": {
        "id": "a5WvItbctyW7"
      },
      "outputs": [],
      "source": [
        "# with open(\"output.yaml\", \"w\") as f:\n",
        "#     f.write(cfg.dump())\n",
        "with open(os.path.join(cfg.OUTPUT_DIR, \"model_mask_rcnn_R_50_FPN_3x.yaml\"), \"w\") as f:\n",
        "    f.write(cfg.dump())"
      ]
    },
    {
      "cell_type": "code",
      "execution_count": null,
      "metadata": {
        "id": "EAqqho7zPgtn"
      },
      "outputs": [],
      "source": [
        "test_dataset_path = \"C:/Users/digman/Desktop/Bulk goods/BigScrew/test/\"\n",
        "random_test_sample(test_dataset_path, 10, metadata)"
      ]
    },
    {
      "cell_type": "code",
      "execution_count": null,
      "metadata": {
        "id": "TNEpB6YEPgto"
      },
      "outputs": [],
      "source": [
        "test_dataset_path = \"C:/Users/digman/Desktop/Bulk goods/ScrewWasher/test/\"\n",
        "random_test_sample(test_dataset_path, 10, metadata)"
      ]
    },
    {
      "cell_type": "code",
      "execution_count": null,
      "metadata": {
        "id": "itzD_huEtyW8"
      },
      "outputs": [],
      "source": [
        "cfg.MODEL.WEIGHTS = os.path.join(cfg.OUTPUT_DIR, \"model_mask_rcnn_R_50_FPN_3x.pth\")  # path to the model we just trained\n",
        "cfg.MODEL.ROI_HEADS.SCORE_THRESH_TEST = 0.7   # set a custom testing threshold\n",
        "predictor = DefaultPredictor(cfg)"
      ]
    },
    {
      "cell_type": "code",
      "execution_count": null,
      "metadata": {
        "id": "8rhM-85AjHKi"
      },
      "outputs": [],
      "source": [
        "os.rename(\"./output\",\"./output_mask_rcnn_R_50_FPN_3x\")"
      ]
    },
    {
      "cell_type": "code",
      "execution_count": null,
      "metadata": {
        "id": "gbZwCHVMPgtq"
      },
      "outputs": [],
      "source": [
        "# images_per_batch = 8\n",
        "# learning_rate = 0.01\n",
        "# batch_size_per_image = 256 \n",
        "# iteration = 10000\n",
        "# num_classes = 1\n",
        "images_per_batch = 2\n",
        "learning_rate = 0.01\n",
        "batch_size_per_image = 128 \n",
        "iteration = 10000\n",
        "num_classes = 1"
      ]
    },
    {
      "cell_type": "code",
      "execution_count": null,
      "metadata": {
        "id": "BrnCtFkpPgtr"
      },
      "outputs": [],
      "source": [
        "init_model=\"COCO-InstanceSegmentation/mask_rcnn_R_50_FPN_3x.yaml\""
      ]
    },
    {
      "cell_type": "code",
      "execution_count": null,
      "metadata": {
        "id": "_WbkoM6dPgts"
      },
      "outputs": [],
      "source": [
        "cfg, test_result = train(dataset_name,\n",
        "                         images_per_batch=images_per_batch, \n",
        "                         learning_rate=learning_rate, \n",
        "                         iteration=iteration, \n",
        "                         batch_size_per_image=batch_size_per_image,\n",
        "                         num_classes=num_classes, \n",
        "                         test=True, \n",
        "                         test_dataset_name=val_dataset_name,\n",
        "                         init_model=init_model,\n",
        "                         retinaNet=False)"
      ]
    },
    {
      "cell_type": "code",
      "execution_count": null,
      "metadata": {
        "id": "di6p_QZzPgts"
      },
      "outputs": [],
      "source": [
        "model = build_model(cfg)\n",
        "checkpointer = DetectionCheckpointer(model, save_dir=\"output\")\n",
        "checkpointer.save(\"model_mask_rcnn_R_50_FPN_3x\")"
      ]
    },
    {
      "cell_type": "code",
      "execution_count": null,
      "metadata": {
        "id": "0CUclTg4Pgtt"
      },
      "outputs": [],
      "source": [
        "cfg.MODEL.WEIGHTS = os.path.join(cfg.OUTPUT_DIR, \"model_final.pth\")  # path to the model we just trained\n",
        "cfg.MODEL.ROI_HEADS.SCORE_THRESH_TEST = 0.7   # set a custom testing threshold\n",
        "predictor = DefaultPredictor(cfg)"
      ]
    },
    {
      "cell_type": "code",
      "execution_count": null,
      "metadata": {
        "id": "2Zwc_-UoPgtu"
      },
      "outputs": [],
      "source": [
        "with open(os.path.join(cfg.OUTPUT_DIR, \"model_mask_rcnn_R_50_FPN_3x.yaml\"), \"w\") as f:\n",
        "    f.write(cfg.dump())"
      ]
    },
    {
      "cell_type": "code",
      "execution_count": null,
      "metadata": {
        "id": "i1JS_1lDPgtv"
      },
      "outputs": [],
      "source": [
        "test_dataset_path = \"C:/Users/digman/Desktop/Bulk goods/BigScrew/test/\"\n",
        "random_test_sample(test_dataset_path, 10, metadata)"
      ]
    },
    {
      "cell_type": "code",
      "execution_count": null,
      "metadata": {
        "id": "SE3CmerEPgtw"
      },
      "outputs": [],
      "source": [
        "cfg.MODEL.WEIGHTS = os.path.join(cfg.OUTPUT_DIR, \"model_mask_rcnn_R_50_FPN_3x.pth\")  # path to the model we just trained\n",
        "cfg.MODEL.ROI_HEADS.SCORE_THRESH_TEST = 0.7   # set a custom testing threshold\n",
        "predictor = DefaultPredictor(cfg)"
      ]
    },
    {
      "cell_type": "code",
      "execution_count": null,
      "metadata": {
        "id": "z4Kav8dmPgtx"
      },
      "outputs": [],
      "source": [
        "os.rename(\"./output\",\"./output_mask_rcnn_R_50_FPN_3x_10000\")"
      ]
    },
    {
      "cell_type": "markdown",
      "metadata": {
        "id": "4FcUevKxtyW9"
      },
      "source": [
        "#### COCO-pretrained R50-FPN Faster R-CNN"
      ]
    },
    {
      "cell_type": "code",
      "execution_count": null,
      "metadata": {
        "id": "-ZxTYyV7tyW9"
      },
      "outputs": [],
      "source": [
        "# images_per_batch = 16\n",
        "# learning_rate = 0.01\n",
        "# batch_size_per_image = 128 \n",
        "# iteration = 30000\n",
        "# num_classes = 4\n",
        "images_per_batch = 2\n",
        "learning_rate = 0.01\n",
        "batch_size_per_image = 512 \n",
        "iteration = 30000\n",
        "num_classes = 1"
      ]
    },
    {
      "cell_type": "code",
      "execution_count": null,
      "metadata": {
        "id": "SN4Hq4HKjIzP"
      },
      "outputs": [],
      "source": [
        "init_model=\"COCO-Detection/faster_rcnn_R_50_FPN_3x.yaml\""
      ]
    },
    {
      "cell_type": "code",
      "execution_count": null,
      "metadata": {
        "id": "9TgRDOQptyW-"
      },
      "outputs": [],
      "source": [
        "cfg, test_result = train(dataset_name,\n",
        "                         images_per_batch=images_per_batch, \n",
        "                         learning_rate=learning_rate, \n",
        "                         iteration=iteration, \n",
        "                         batch_size_per_image=batch_size_per_image,\n",
        "                         num_classes=num_classes, \n",
        "                         test=True, \n",
        "                         test_dataset_name=val_dataset_name,\n",
        "                         init_model=init_model,\n",
        "                         retinaNet=False)"
      ]
    },
    {
      "cell_type": "code",
      "execution_count": null,
      "metadata": {
        "id": "PjT4a8-ctyXB"
      },
      "outputs": [],
      "source": [
        "model = build_model(cfg)\n",
        "checkpointer = DetectionCheckpointer(model, save_dir=\"output\")\n",
        "checkpointer.save(\"model_faster_rcnn_R_50_FPN_3x\")"
      ]
    },
    {
      "cell_type": "code",
      "execution_count": null,
      "metadata": {
        "id": "w0qxO37ZtyXC"
      },
      "outputs": [],
      "source": [
        "cfg.MODEL.WEIGHTS = os.path.join(cfg.OUTPUT_DIR, \"model_final.pth\")  # path to the model we just trained\n",
        "cfg.MODEL.ROI_HEADS.SCORE_THRESH_TEST = 0.7   # set a custom testing threshold\n",
        "predictor = DefaultPredictor(cfg)"
      ]
    },
    {
      "cell_type": "code",
      "execution_count": null,
      "metadata": {
        "id": "Gg_FaM9-Pgt2"
      },
      "outputs": [],
      "source": [
        "with open(os.path.join(cfg.OUTPUT_DIR, \"output_faster_rcnn_R_50_FPN_3x.yaml\"), \"w\") as f:\n",
        "    f.write(cfg.dump())"
      ]
    },
    {
      "cell_type": "code",
      "execution_count": null,
      "metadata": {
        "id": "KxjFe9D-Pgt2"
      },
      "outputs": [],
      "source": [
        "test_dataset_path = \"C:/Users/digman/Desktop/Bulk goods/BigScrew/test/\"\n",
        "random_test_sample(test_dataset_path, 10, metadata)"
      ]
    },
    {
      "cell_type": "code",
      "execution_count": null,
      "metadata": {
        "id": "056WmHbztyXE"
      },
      "outputs": [],
      "source": [
        "os.rename(\"./output\",\"./output_faster_rcnn_R_50_FPN_3x\")"
      ]
    },
    {
      "cell_type": "code",
      "execution_count": null,
      "metadata": {
        "id": "JcEpXEMaPgt4"
      },
      "outputs": [],
      "source": [
        "# images_per_batch = 16\n",
        "# learning_rate = 0.01\n",
        "# batch_size_per_image = 128 \n",
        "# iteration = 30000\n",
        "# num_classes = 4\n",
        "images_per_batch = 2\n",
        "learning_rate = 0.01\n",
        "batch_size_per_image = 512 \n",
        "iteration = 10000\n",
        "num_classes = 1"
      ]
    },
    {
      "cell_type": "code",
      "execution_count": null,
      "metadata": {
        "id": "k0YYp1bIPgt4"
      },
      "outputs": [],
      "source": [
        "init_model=\"COCO-Detection/faster_rcnn_R_50_FPN_3x.yaml\""
      ]
    },
    {
      "cell_type": "code",
      "execution_count": null,
      "metadata": {
        "id": "K7Fq0xbtPgt5"
      },
      "outputs": [],
      "source": [
        "cfg, test_result = train(dataset_name,\n",
        "                         images_per_batch=images_per_batch, \n",
        "                         learning_rate=learning_rate, \n",
        "                         iteration=iteration, \n",
        "                         batch_size_per_image=batch_size_per_image,\n",
        "                         num_classes=num_classes, \n",
        "                         test=True, \n",
        "                         test_dataset_name=val_dataset_name,\n",
        "                         init_model=init_model,\n",
        "                         retinaNet=False)"
      ]
    },
    {
      "cell_type": "code",
      "execution_count": null,
      "metadata": {
        "id": "6H-Tr_wdPgt5"
      },
      "outputs": [],
      "source": [
        "model = build_model(cfg)\n",
        "checkpointer = DetectionCheckpointer(model, save_dir=\"output\")\n",
        "checkpointer.save(\"model_faster_rcnn_R_50_FPN_3x\")"
      ]
    },
    {
      "cell_type": "code",
      "execution_count": null,
      "metadata": {
        "id": "dzB07QjCPgt6"
      },
      "outputs": [],
      "source": [
        "cfg.MODEL.WEIGHTS = os.path.join(cfg.OUTPUT_DIR, \"model_final.pth\")  # path to the model we just trained\n",
        "cfg.MODEL.ROI_HEADS.SCORE_THRESH_TEST = 0.7   # set a custom testing threshold\n",
        "predictor = DefaultPredictor(cfg)"
      ]
    },
    {
      "cell_type": "code",
      "execution_count": null,
      "metadata": {
        "id": "a7bwlp0NPgt7"
      },
      "outputs": [],
      "source": [
        "with open(os.path.join(cfg.OUTPUT_DIR, \"output_faster_rcnn_R_50_FPN_3x.yaml\"), \"w\") as f:\n",
        "    f.write(cfg.dump())"
      ]
    },
    {
      "cell_type": "code",
      "execution_count": null,
      "metadata": {
        "id": "61PpmHX2Pgt7"
      },
      "outputs": [],
      "source": [
        "test_dataset_path = \"C:/Users/digman/Desktop/Bulk goods/BigScrew/test/\"\n",
        "random_test_sample(test_dataset_path, 10, metadata)"
      ]
    },
    {
      "cell_type": "code",
      "execution_count": null,
      "metadata": {
        "id": "5gb8aBXUPgt8"
      },
      "outputs": [],
      "source": [
        "os.rename(\"./output\",\"./output_faster_rcnn_R_50_FPN_3x_10000\")"
      ]
    },
    {
      "cell_type": "markdown",
      "metadata": {
        "id": "z7lCexpMtyXE"
      },
      "source": [
        "#### COCO-pretrained R50-FPN RetinaNet"
      ]
    },
    {
      "cell_type": "code",
      "execution_count": null,
      "metadata": {
        "id": "HNEJlk4otyXE"
      },
      "outputs": [],
      "source": [
        "# images_per_batch = 8\n",
        "# learning_rate = 0.001\n",
        "# batch_size_per_image = 512 \n",
        "# iteration = 30000\n",
        "# num_classes = 4\n",
        "images_per_batch = 2\n",
        "learning_rate = 0.01\n",
        "batch_size_per_image = 256 \n",
        "iteration = 30000\n",
        "num_classes = 1"
      ]
    },
    {
      "cell_type": "code",
      "execution_count": null,
      "metadata": {
        "id": "xtW8D9J4tyXF"
      },
      "outputs": [],
      "source": [
        "init_model=\"COCO-Detection/retinanet_R_50_FPN_3x.yaml\""
      ]
    },
    {
      "cell_type": "code",
      "execution_count": null,
      "metadata": {
        "id": "Cyi1P-gPtyXF"
      },
      "outputs": [],
      "source": [
        "cfg, test_result = train(dataset_name,\n",
        "                         images_per_batch=images_per_batch, \n",
        "                         learning_rate=learning_rate, \n",
        "                         iteration=iteration, \n",
        "                         batch_size_per_image=batch_size_per_image,\n",
        "                         num_classes=num_classes, \n",
        "                         test=True, \n",
        "                         test_dataset_name=val_dataset_name,\n",
        "                         init_model=init_model,\n",
        "                         retinaNet=True)"
      ]
    },
    {
      "cell_type": "code",
      "execution_count": null,
      "metadata": {
        "id": "EH9kYMShtyXF"
      },
      "outputs": [],
      "source": [
        "model = build_model(cfg)\n",
        "checkpointer = DetectionCheckpointer(model, save_dir=\"output\")\n",
        "checkpointer.save(\"model_retinanet_R_50_FPN_3x\")"
      ]
    },
    {
      "cell_type": "code",
      "execution_count": null,
      "metadata": {
        "id": "hOnP6roatyXF"
      },
      "outputs": [],
      "source": [
        "cfg.MODEL.WEIGHTS = os.path.join(cfg.OUTPUT_DIR, \"model_final.pth\")  # path to the model we just trained\n",
        "cfg.MODEL.ROI_HEADS.SCORE_THRESH_TEST = 0.7   # set a custom testing threshold\n",
        "predictor = DefaultPredictor(cfg)"
      ]
    },
    {
      "cell_type": "code",
      "execution_count": null,
      "metadata": {
        "id": "zuGX0k6fPguB"
      },
      "outputs": [],
      "source": [
        "with open(os.path.join(cfg.OUTPUT_DIR, \"output_retinanet_R_50_FPN_3x.yaml\"), \"w\") as f:\n",
        "    f.write(cfg.dump())"
      ]
    },
    {
      "cell_type": "code",
      "execution_count": null,
      "metadata": {
        "id": "18gBy3KrPguB"
      },
      "outputs": [],
      "source": [
        "test_dataset_path = \"C:/Users/digman/Desktop/Bulk goods/BigScrew/test/\"\n",
        "random_test_sample(test_dataset_path, 10, metadata)"
      ]
    },
    {
      "cell_type": "code",
      "execution_count": null,
      "metadata": {
        "id": "NBUU3tCNtyXG"
      },
      "outputs": [],
      "source": [
        "os.rename(\"./output\",\"./output_retinanet_R_50_FPN_3x\")"
      ]
    },
    {
      "cell_type": "code",
      "execution_count": null,
      "metadata": {
        "id": "Jdezc3qgPguD"
      },
      "outputs": [],
      "source": [
        "# images_per_batch = 8\n",
        "# learning_rate = 0.001\n",
        "# batch_size_per_image = 512 \n",
        "# iteration = 30000\n",
        "# num_classes = 4\n",
        "images_per_batch = 2\n",
        "learning_rate = 0.01\n",
        "batch_size_per_image = 256 \n",
        "iteration = 10000\n",
        "num_classes = 1"
      ]
    },
    {
      "cell_type": "code",
      "execution_count": null,
      "metadata": {
        "id": "wIgj7ROjPguE"
      },
      "outputs": [],
      "source": [
        "init_model=\"COCO-Detection/retinanet_R_50_FPN_3x.yaml\""
      ]
    },
    {
      "cell_type": "code",
      "execution_count": null,
      "metadata": {
        "id": "eSKf_Q5EPguF"
      },
      "outputs": [],
      "source": [
        "cfg, test_result = train(dataset_name,\n",
        "                         images_per_batch=images_per_batch, \n",
        "                         learning_rate=learning_rate, \n",
        "                         iteration=iteration, \n",
        "                         batch_size_per_image=batch_size_per_image,\n",
        "                         num_classes=num_classes, \n",
        "                         test=True, \n",
        "                         test_dataset_name=val_dataset_name,\n",
        "                         init_model=init_model,\n",
        "                         retinaNet=True)"
      ]
    },
    {
      "cell_type": "code",
      "execution_count": null,
      "metadata": {
        "id": "zpCbFtqMPguF"
      },
      "outputs": [],
      "source": [
        "model = build_model(cfg)\n",
        "checkpointer = DetectionCheckpointer(model, save_dir=\"output\")\n",
        "checkpointer.save(\"model_retinanet_R_50_FPN_3x\")"
      ]
    },
    {
      "cell_type": "code",
      "execution_count": null,
      "metadata": {
        "id": "-sp9IkUOPguG"
      },
      "outputs": [],
      "source": [
        "cfg.MODEL.WEIGHTS = os.path.join(cfg.OUTPUT_DIR, \"model_final.pth\")  # path to the model we just trained\n",
        "cfg.MODEL.ROI_HEADS.SCORE_THRESH_TEST = 0.7   # set a custom testing threshold\n",
        "predictor = DefaultPredictor(cfg)"
      ]
    },
    {
      "cell_type": "code",
      "execution_count": null,
      "metadata": {
        "id": "jY6OEnl6PguH"
      },
      "outputs": [],
      "source": [
        "with open(os.path.join(cfg.OUTPUT_DIR, \"output_retinanet_R_50_FPN_3x.yaml\"), \"w\") as f:\n",
        "    f.write(cfg.dump())"
      ]
    },
    {
      "cell_type": "code",
      "execution_count": null,
      "metadata": {
        "id": "vfnltYX5PguH"
      },
      "outputs": [],
      "source": [
        "test_dataset_path = \"C:/Users/digman/Desktop/Bulk goods/BigScrew/test/\"\n",
        "random_test_sample(test_dataset_path, 10, metadata)"
      ]
    },
    {
      "cell_type": "code",
      "execution_count": null,
      "metadata": {
        "id": "rsaKYVM2PguI"
      },
      "outputs": [],
      "source": [
        "os.rename(\"./output\",\"./output_retinanet_R_50_FPN_3x_10000\")"
      ]
    },
    {
      "cell_type": "markdown",
      "source": [
        "## Best parameters waste segmentation"
      ],
      "metadata": {
        "id": "95Gl1FocaRRz"
      }
    },
    {
      "cell_type": "markdown",
      "metadata": {
        "id": "w8LkDgImPguI"
      },
      "source": [
        "#### COCO-pretrained R50-FPN Mask R-CNN"
      ]
    },
    {
      "cell_type": "code",
      "execution_count": null,
      "metadata": {
        "id": "CHD1VnNvPguJ"
      },
      "outputs": [],
      "source": [
        "images_per_batch = 8\n",
        "learning_rate = 0.01\n",
        "batch_size_per_image = 512 \n",
        "iteration = 10000\n",
        "num_classes = 4"
      ]
    },
    {
      "cell_type": "code",
      "execution_count": null,
      "metadata": {
        "id": "XuZozSSVPguK"
      },
      "outputs": [],
      "source": [
        "init_model=\"COCO-InstanceSegmentation/mask_rcnn_R_50_FPN_3x.yaml\""
      ]
    },
    {
      "cell_type": "code",
      "execution_count": null,
      "metadata": {
        "id": "Ph6_ERHuPguK"
      },
      "outputs": [],
      "source": [
        "cfg, test_result = train(dataset_name,\n",
        "                         images_per_batch=images_per_batch, \n",
        "                         learning_rate=learning_rate, \n",
        "                         iteration=iteration, \n",
        "                         batch_size_per_image=batch_size_per_image,\n",
        "                         num_classes=num_classes, \n",
        "                         test=True, \n",
        "                         test_dataset_name=val_dataset_name,\n",
        "                         init_model=init_model,\n",
        "                         retinaNet=False)"
      ]
    },
    {
      "cell_type": "code",
      "execution_count": null,
      "metadata": {
        "id": "J6bfatURPguL"
      },
      "outputs": [],
      "source": [
        "model = build_model(cfg)\n",
        "checkpointer = DetectionCheckpointer(model, save_dir=\"output\")\n",
        "checkpointer.save(\"model_mask_rcnn_R_50_FPN_3x\")"
      ]
    },
    {
      "cell_type": "code",
      "execution_count": null,
      "metadata": {
        "id": "2HUShtNwPguM"
      },
      "outputs": [],
      "source": [
        "cfg.MODEL.WEIGHTS = os.path.join(cfg.OUTPUT_DIR, \"model_final.pth\")  # path to the model we just trained\n",
        "cfg.MODEL.ROI_HEADS.SCORE_THRESH_TEST = 0.7   # set a custom testing threshold\n",
        "predictor = DefaultPredictor(cfg)"
      ]
    },
    {
      "cell_type": "code",
      "execution_count": null,
      "metadata": {
        "id": "0VtMrcUpPguM"
      },
      "outputs": [],
      "source": [
        "test_dataset_path = \"./data/dataset-resized/test/\"\n",
        "random_test_sample(test_dataset_path, 10, metadata)"
      ]
    },
    {
      "cell_type": "code",
      "execution_count": null,
      "metadata": {
        "id": "wn_3a-6SPguN"
      },
      "outputs": [],
      "source": [
        "test_dataset_path = \"./data/showroomImagesResized/test/\"\n",
        "random_test_sample(test_dataset_path, 10, metadata)"
      ]
    },
    {
      "cell_type": "code",
      "execution_count": null,
      "metadata": {
        "id": "dcg46MMTPguO"
      },
      "outputs": [],
      "source": [
        "os.rename(\"./output\",\"./output_mask_rcnn_R_50_FPN_3x_10000\")"
      ]
    },
    {
      "cell_type": "markdown",
      "metadata": {
        "id": "bgB1Pd1WPguO"
      },
      "source": [
        "#### COCO-pretrained R50-FPN Faster R-CNN"
      ]
    },
    {
      "cell_type": "code",
      "execution_count": null,
      "metadata": {
        "id": "Huaxp_LYPguP"
      },
      "outputs": [],
      "source": [
        "images_per_batch = 16\n",
        "learning_rate = 0.01\n",
        "batch_size_per_image = 128 \n",
        "iteration = 10000\n",
        "num_classes = 4"
      ]
    },
    {
      "cell_type": "code",
      "execution_count": null,
      "metadata": {
        "id": "o9YRx5DqPguQ"
      },
      "outputs": [],
      "source": [
        "init_model=\"COCO-Detection/faster_rcnn_R_50_FPN_3x.yaml\""
      ]
    },
    {
      "cell_type": "code",
      "execution_count": null,
      "metadata": {
        "id": "a8VBeLnJPguQ"
      },
      "outputs": [],
      "source": [
        "cfg, test_result = train(dataset_name,\n",
        "                         images_per_batch=images_per_batch, \n",
        "                         learning_rate=learning_rate, \n",
        "                         iteration=iteration, \n",
        "                         batch_size_per_image=batch_size_per_image,\n",
        "                         num_classes=num_classes, \n",
        "                         test=True, \n",
        "                         test_dataset_name=val_dataset_name,\n",
        "                         init_model=init_model,\n",
        "                         retinaNet=False)"
      ]
    },
    {
      "cell_type": "code",
      "execution_count": null,
      "metadata": {
        "id": "l96e7OmpPguT"
      },
      "outputs": [],
      "source": [
        "model = build_model(cfg)\n",
        "checkpointer = DetectionCheckpointer(model, save_dir=\"output\")\n",
        "checkpointer.save(\"model_faster_rcnn_R_50_FPN_3x\")"
      ]
    },
    {
      "cell_type": "code",
      "execution_count": null,
      "metadata": {
        "id": "1YJsw3JiPguT"
      },
      "outputs": [],
      "source": [
        "cfg.MODEL.WEIGHTS = os.path.join(cfg.OUTPUT_DIR, \"model_final.pth\")  # path to the model we just trained\n",
        "cfg.MODEL.ROI_HEADS.SCORE_THRESH_TEST = 0.7   # set a custom testing threshold\n",
        "predictor = DefaultPredictor(cfg)"
      ]
    },
    {
      "cell_type": "code",
      "execution_count": null,
      "metadata": {
        "id": "71MIwZi4PguU"
      },
      "outputs": [],
      "source": [
        "test_dataset_path = \"./data/dataset-resized/test/\"\n",
        "random_test_sample(test_dataset_path, 10, metadata)"
      ]
    },
    {
      "cell_type": "code",
      "execution_count": null,
      "metadata": {
        "id": "AA7NxTLqPguV"
      },
      "outputs": [],
      "source": [
        "test_dataset_path = \"./data/showroomImagesResized/test/\"\n",
        "random_test_sample(test_dataset_path, 10, metadata)"
      ]
    },
    {
      "cell_type": "code",
      "execution_count": null,
      "metadata": {
        "id": "0musL7Q6PguW"
      },
      "outputs": [],
      "source": [
        "os.rename(\"./output\",\"./output_faster_rcnn_R_50_FPN_3x_10000\")"
      ]
    },
    {
      "cell_type": "markdown",
      "metadata": {
        "id": "zhVdaDA2PguW"
      },
      "source": [
        "#### COCO-pretrained R50-FPN RetinaNet"
      ]
    },
    {
      "cell_type": "code",
      "execution_count": null,
      "metadata": {
        "id": "boq3yhuHPguX"
      },
      "outputs": [],
      "source": [
        "images_per_batch = 8\n",
        "learning_rate = 0.001\n",
        "batch_size_per_image = 512 \n",
        "iteration = 10000\n",
        "num_classes = 4"
      ]
    },
    {
      "cell_type": "code",
      "execution_count": null,
      "metadata": {
        "id": "p8dKGzE8PguY"
      },
      "outputs": [],
      "source": [
        "init_model=\"COCO-Detection/retinanet_R_50_FPN_3x.yaml\""
      ]
    },
    {
      "cell_type": "code",
      "execution_count": null,
      "metadata": {
        "id": "Cqlm0tWoPguY"
      },
      "outputs": [],
      "source": [
        "cfg, test_result = train(dataset_name,\n",
        "                         images_per_batch=images_per_batch, \n",
        "                         learning_rate=learning_rate, \n",
        "                         iteration=iteration, \n",
        "                         batch_size_per_image=batch_size_per_image,\n",
        "                         num_classes=num_classes, \n",
        "                         test=True, \n",
        "                         test_dataset_name=val_dataset_name,\n",
        "                         init_model=init_model,\n",
        "                         retinaNet=True)"
      ]
    },
    {
      "cell_type": "code",
      "execution_count": null,
      "metadata": {
        "id": "52fa4XkJPguZ"
      },
      "outputs": [],
      "source": [
        "model = build_model(cfg)\n",
        "checkpointer = DetectionCheckpointer(model, save_dir=\"output\")\n",
        "checkpointer.save(\"model_retinanet_R_50_FPN_3x\")"
      ]
    },
    {
      "cell_type": "code",
      "execution_count": null,
      "metadata": {
        "id": "m0YDPwplPgua"
      },
      "outputs": [],
      "source": [
        "cfg.MODEL.WEIGHTS = os.path.join(cfg.OUTPUT_DIR, \"model_final.pth\")  # path to the model we just trained\n",
        "cfg.MODEL.ROI_HEADS.SCORE_THRESH_TEST = 0.7   # set a custom testing threshold\n",
        "predictor = DefaultPredictor(cfg)"
      ]
    },
    {
      "cell_type": "code",
      "execution_count": null,
      "metadata": {
        "id": "ZFdVHbS2Pgua"
      },
      "outputs": [],
      "source": [
        "test_dataset_path = \"./data/dataset-resized/test/\"\n",
        "random_test_sample(test_dataset_path, 10, metadata)"
      ]
    },
    {
      "cell_type": "code",
      "execution_count": null,
      "metadata": {
        "id": "fq49kYioPgub"
      },
      "outputs": [],
      "source": [
        "test_dataset_path = \"./data/showroomImagesResized/test/\"\n",
        "random_test_sample(test_dataset_path, 10, metadata)"
      ]
    },
    {
      "cell_type": "code",
      "execution_count": null,
      "metadata": {
        "id": "gyso9glOPguc"
      },
      "outputs": [],
      "source": [
        "os.rename(\"./output\",\"./output_retinanet_R_50_FPN_3x_10000\")"
      ]
    }
  ],
  "metadata": {
    "accelerator": "GPU",
    "colab": {
      "provenance": [],
      "toc_visible": true
    },
    "gpuClass": "standard",
    "kernelspec": {
      "display_name": "Python 3 (ipykernel)",
      "language": "python",
      "name": "python3"
    },
    "language_info": {
      "codemirror_mode": {
        "name": "ipython",
        "version": 3
      },
      "file_extension": ".py",
      "mimetype": "text/x-python",
      "name": "python",
      "nbconvert_exporter": "python",
      "pygments_lexer": "ipython3",
      "version": "3.7.0"
    }
  },
  "nbformat": 4,
  "nbformat_minor": 0
}