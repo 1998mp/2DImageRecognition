{
  "nbformat": 4,
  "nbformat_minor": 0,
  "metadata": {
    "colab": {
      "provenance": []
    },
    "kernelspec": {
      "name": "python3",
      "display_name": "Python 3"
    },
    "language_info": {
      "name": "python"
    }
  },
  "cells": [
    {
      "cell_type": "code",
      "metadata": {
        "id": "g9k5kUAWfsLb"
      },
      "source": [
        "import cv2"
      ],
      "execution_count": null,
      "outputs": []
    },
    {
      "cell_type": "code",
      "metadata": {
        "id": "Xk59AYe9hCSQ"
      },
      "source": [
        "!mkdir images"
      ],
      "execution_count": null,
      "outputs": []
    },
    {
      "cell_type": "code",
      "metadata": {
        "id": "GtI-bKMBfsv9"
      },
      "source": [
        "def saveImages(pathIn, pathOut):\n",
        "    count = 0\n",
        "    time = 1000\n",
        "    videoCapture = cv2.VideoCapture(pathIn)\n",
        "    success,image = videoCapture.read()\n",
        "    success = True\n",
        "\n",
        "    while success:\n",
        "        videoCapture.set(cv2.CAP_PROP_POS_MSEC,(count*time))    \n",
        "        success,image = videoCapture.read()\n",
        "        if (success):\n",
        "            cv2.imwrite(pathOut + \"image%d.jpg\" % count, image)     \n",
        "        count += 1"
      ],
      "execution_count": null,
      "outputs": []
    },
    {
      "cell_type": "code",
      "metadata": {
        "id": "wfho4mwpfsrA"
      },
      "source": [
        "saveImages(\"/content/video.mp4\",\"/content/images/\")"
      ],
      "execution_count": null,
      "outputs": []
    }
  ]
}