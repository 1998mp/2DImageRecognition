{
  "nbformat": 4,
  "nbformat_minor": 0,
  "metadata": {
    "colab": {
      "provenance": [],
      "toc_visible": true
    },
    "kernelspec": {
      "name": "python3",
      "display_name": "Python 3"
    },
    "accelerator": "GPU"
  },
  "cells": [
    {
      "cell_type": "code",
      "metadata": {
        "id": "Pkp9Iu0oDIpN"
      },
      "source": [
        "!pip3 install torch torchvision Pillow"
      ],
      "execution_count": null,
      "outputs": []
    },
    {
      "cell_type": "code",
      "metadata": {
        "id": "VasaKxqGDQyP"
      },
      "source": [
        "!nvcc --version\n",
        "import torch\n",
        "import torchvision\n",
        "import torchvision.transforms as transforms\n",
        "print(torch.cuda.is_available())"
      ],
      "execution_count": null,
      "outputs": []
    },
    {
      "cell_type": "code",
      "metadata": {
        "id": "obVdHWcTFcBs"
      },
      "source": [
        "haveCuda = torch.cuda.is_available()"
      ],
      "execution_count": null,
      "outputs": []
    },
    {
      "cell_type": "code",
      "metadata": {
        "id": "y8SdaQ66FfbJ"
      },
      "source": [
        "haveCuda"
      ],
      "execution_count": null,
      "outputs": []
    },
    {
      "cell_type": "markdown",
      "metadata": {
        "id": "ZRVhyPADFEDk"
      },
      "source": [
        "#Data"
      ]
    },
    {
      "cell_type": "markdown",
      "metadata": {
        "id": "699yQjoVk5HO"
      },
      "source": [
        "##CIFAR10"
      ]
    },
    {
      "cell_type": "code",
      "metadata": {
        "id": "3CaRWdbVOTTg"
      },
      "source": [
        "train_set = torchvision.datasets.CIFAR10(\n",
        "    root='./data'\n",
        "    ,train=True\n",
        "    ,download=True\n",
        "    ,transform=transforms.Compose([\n",
        "        transforms.RandomCrop(32, padding=0),\n",
        "        transforms.RandomHorizontalFlip(),\n",
        "        transforms.ToTensor(),\n",
        "    ])\n",
        ")"
      ],
      "execution_count": null,
      "outputs": []
    },
    {
      "cell_type": "code",
      "metadata": {
        "id": "kdHK4I7DOTRX"
      },
      "source": [
        "test_set = torchvision.datasets.CIFAR10(\n",
        "    root='./data'\n",
        "    ,train=False\n",
        "    ,download=True\n",
        "    ,transform=transforms.Compose([\n",
        "        transforms.ToTensor(),\n",
        "    ])\n",
        ")"
      ],
      "execution_count": null,
      "outputs": []
    },
    {
      "cell_type": "code",
      "metadata": {
        "id": "K78RXZo0OTOz"
      },
      "source": [
        "loader = torch.utils.data.DataLoader(train_set, batch_size=len(train_set), num_workers=1)\n",
        "data = next(iter(loader))\n",
        "trainMean = data[0].mean()\n",
        "trainStd = data[0].std()"
      ],
      "execution_count": null,
      "outputs": []
    },
    {
      "cell_type": "code",
      "metadata": {
        "colab": {
          "base_uri": "https://localhost:8080/"
        },
        "id": "s0GcOkN4OTMY",
        "outputId": "c2925efb-9a19-4088-877f-37757a89bfe7"
      },
      "source": [
        "trainMean"
      ],
      "execution_count": null,
      "outputs": [
        {
          "output_type": "execute_result",
          "data": {
            "text/plain": [
              "tensor(0.4734)"
            ]
          },
          "metadata": {
            "tags": []
          },
          "execution_count": 102
        }
      ]
    },
    {
      "cell_type": "code",
      "metadata": {
        "colab": {
          "base_uri": "https://localhost:8080/"
        },
        "id": "YeBntbOvPevN",
        "outputId": "dcf07067-7a5a-4d26-b350-77f28bae3dab"
      },
      "source": [
        "trainStd"
      ],
      "execution_count": null,
      "outputs": [
        {
          "output_type": "execute_result",
          "data": {
            "text/plain": [
              "tensor(0.2516)"
            ]
          },
          "metadata": {
            "tags": []
          },
          "execution_count": 103
        }
      ]
    },
    {
      "cell_type": "code",
      "metadata": {
        "id": "xYpULnsaPfLX"
      },
      "source": [
        "loader = torch.utils.data.DataLoader(test_set, batch_size=len(test_set), num_workers=1)\n",
        "data = next(iter(loader))\n",
        "testMean = data[0].mean()\n",
        "testStd = data[0].std()"
      ],
      "execution_count": null,
      "outputs": []
    },
    {
      "cell_type": "code",
      "metadata": {
        "colab": {
          "base_uri": "https://localhost:8080/"
        },
        "id": "69-wH0hpPqNw",
        "outputId": "aa3338aa-6d86-4df6-d9bc-2bd7996221fd"
      },
      "source": [
        "testMean"
      ],
      "execution_count": null,
      "outputs": [
        {
          "output_type": "execute_result",
          "data": {
            "text/plain": [
              "tensor(0.4766)"
            ]
          },
          "metadata": {
            "tags": []
          },
          "execution_count": 105
        }
      ]
    },
    {
      "cell_type": "code",
      "metadata": {
        "colab": {
          "base_uri": "https://localhost:8080/"
        },
        "id": "SL3fdN1OPqyO",
        "outputId": "4f2dec84-e1a6-42c5-ceca-fcf140094886"
      },
      "source": [
        "testStd"
      ],
      "execution_count": null,
      "outputs": [
        {
          "output_type": "execute_result",
          "data": {
            "text/plain": [
              "tensor(0.2512)"
            ]
          },
          "metadata": {
            "tags": []
          },
          "execution_count": 106
        }
      ]
    },
    {
      "cell_type": "code",
      "metadata": {
        "id": "hvMtv-JXP1RE"
      },
      "source": [
        "import shutil"
      ],
      "execution_count": null,
      "outputs": []
    },
    {
      "cell_type": "code",
      "metadata": {
        "id": "LLowgHMCP1xp"
      },
      "source": [
        "shutil.rmtree(\"/content/data\")"
      ],
      "execution_count": null,
      "outputs": []
    },
    {
      "cell_type": "markdown",
      "metadata": {
        "id": "v73Hb8qNQdJh"
      },
      "source": [
        "###Data augmentation transformations"
      ]
    },
    {
      "cell_type": "code",
      "metadata": {
        "id": "c969MuP-QgzV"
      },
      "source": [
        "import torchvision\n",
        "import torchvision.transforms as transforms\n",
        "  \n",
        "transform = transforms.Compose([\n",
        "    transforms.RandomCrop(32, padding=0),\n",
        "    transforms.RandomHorizontalFlip(),\n",
        "    transforms.ToTensor(),\n",
        "    transforms.Normalize(trainMean,trainStd)\n",
        "])\n",
        "transformTest = transforms.Compose([\n",
        "    transforms.ToTensor(),\n",
        "    transforms.Normalize(testMean, testStd)\n",
        "])"
      ],
      "execution_count": null,
      "outputs": []
    },
    {
      "cell_type": "markdown",
      "metadata": {
        "id": "kKCqo1nEQjAe"
      },
      "source": [
        "###Database"
      ]
    },
    {
      "cell_type": "code",
      "metadata": {
        "id": "QWjHSkQQQkBq"
      },
      "source": [
        "trainSet = torchvision.datasets.CIFAR10(root='./data', train=True,\n",
        "                                        download=True, transform=transform)\n",
        "trainLoader = torch.utils.data.DataLoader(trainSet, batch_size=128,\n",
        "                                          shuffle=True, num_workers=2)\n",
        "\n",
        "testSet = torchvision.datasets.CIFAR10(root='./data', train=False,\n",
        "                                       download=True, transform=transformTest)\n",
        "testLoader = torch.utils.data.DataLoader(testSet, batch_size=128,\n",
        "                                         shuffle=False, num_workers=2)\n",
        "\n",
        "classes = ('plane', 'car', 'bird', 'cat',\n",
        "           'deer', 'dog', 'frog', 'horse', 'ship', 'truck')"
      ],
      "execution_count": null,
      "outputs": []
    },
    {
      "cell_type": "code",
      "metadata": {
        "colab": {
          "base_uri": "https://localhost:8080/",
          "height": 127
        },
        "id": "GHI_DmSJIMN-",
        "outputId": "4c46da60-8626-465f-f00a-376d0f176be9"
      },
      "source": [
        "import matplotlib.pyplot as plt\n",
        "import numpy as np\n",
        "\n",
        "# functions to show an image\n",
        "def imshow(img):\n",
        "    img = (img * trainStd) + trainMean      # unnormalize\n",
        "    npimg = img.numpy()\n",
        "    plt.imshow(np.transpose(npimg, (1, 2, 0)))\n",
        "    plt.show()\n",
        "\n",
        "# get some random training images\n",
        "dataiter = iter(trainLoader)\n",
        "images, labels = dataiter.next()\n",
        "\n",
        "sampleImages = []\n",
        "for i in range(6):\n",
        "    sampleImages.append(images[i])\n",
        "    \n",
        "# show images\n",
        "imshow(torchvision.utils.make_grid(sampleImages))\n",
        "# print labels\n",
        "print(' '.join('%7s' % classes[labels[j]] for j in range(6)))"
      ],
      "execution_count": null,
      "outputs": [
        {
          "output_type": "display_data",
          "data": {
            "image/png": "[encoded data removed]",
            "text/plain": [
              "<Figure size 432x288 with 1 Axes>"
            ]
          },
          "metadata": {
            "tags": [],
            "needs_background": "light"
          }
        },
        {
          "output_type": "stream",
          "text": [
            "   deer    ship    deer    bird    bird   horse\n"
          ],
          "name": "stdout"
        }
      ]
    },
    {
      "cell_type": "markdown",
      "metadata": {
        "id": "62wZ5eMYk1yN"
      },
      "source": [
        "##MNIST"
      ]
    },
    {
      "cell_type": "code",
      "metadata": {
        "id": "QSQhVga7m0Bd"
      },
      "source": [
        "!wget www.di.ens.fr/~lelarge/MNIST.tar.gz\n",
        "!tar -zxvf MNIST.tar.gz"
      ],
      "execution_count": null,
      "outputs": []
    },
    {
      "cell_type": "code",
      "metadata": {
        "id": "wn6x8f5xnKdj"
      },
      "source": [
        "from torchvision.datasets import MNIST"
      ],
      "execution_count": null,
      "outputs": []
    },
    {
      "cell_type": "code",
      "metadata": {
        "id": "QPmfY-yyk1NO"
      },
      "source": [
        "train_set = MNIST(\n",
        "    root='./'\n",
        "    ,train=True\n",
        "    ,download=True\n",
        "    ,transform=transforms.Compose([\n",
        "        # transforms.RandomCrop(28, padding=0),\n",
        "        # transforms.RandomHorizontalFlip(),\n",
        "        transforms.ToTensor(),\n",
        "    ])\n",
        ")"
      ],
      "execution_count": null,
      "outputs": []
    },
    {
      "cell_type": "code",
      "metadata": {
        "id": "v3Zv0N2KKwmP"
      },
      "source": [
        "valid_set = MNIST(\n",
        "    root='./'\n",
        "    ,train=True\n",
        "    ,download=True\n",
        "    ,transform=transforms.Compose([\n",
        "        # transforms.RandomCrop(28, padding=0),\n",
        "        # transforms.RandomHorizontalFlip(),\n",
        "        transforms.ToTensor(),\n",
        "    ])\n",
        ")"
      ],
      "execution_count": null,
      "outputs": []
    },
    {
      "cell_type": "code",
      "metadata": {
        "id": "qaWzi31zk1Kv"
      },
      "source": [
        "test_set = torchvision.datasets.MNIST(\n",
        "    root='./'\n",
        "    ,train=False\n",
        "    ,download=True\n",
        "    ,transform=transforms.Compose([\n",
        "        transforms.ToTensor(),\n",
        "    ])\n",
        ")"
      ],
      "execution_count": null,
      "outputs": []
    },
    {
      "cell_type": "code",
      "metadata": {
        "id": "sUehuXW4mBDn"
      },
      "source": [
        "loader = torch.utils.data.DataLoader(train_set, batch_size=len(train_set), num_workers=1)\n",
        "data = next(iter(loader))\n",
        "trainMean = data[0].mean()\n",
        "trainStd = data[0].std()"
      ],
      "execution_count": null,
      "outputs": []
    },
    {
      "cell_type": "code",
      "metadata": {
        "colab": {
          "base_uri": "https://localhost:8080/"
        },
        "id": "BV2K2B9JmBpW",
        "outputId": "76dc2320-21e0-410b-a193-eb1041e0031e"
      },
      "source": [
        "trainMean"
      ],
      "execution_count": null,
      "outputs": [
        {
          "output_type": "execute_result",
          "data": {
            "text/plain": [
              "tensor(0.1307)"
            ]
          },
          "metadata": {
            "tags": []
          },
          "execution_count": 13
        }
      ]
    },
    {
      "cell_type": "code",
      "metadata": {
        "colab": {
          "base_uri": "https://localhost:8080/"
        },
        "id": "lo7oSydJmBli",
        "outputId": "f5526875-e041-475c-b288-61d1ee9bddb1"
      },
      "source": [
        "trainStd"
      ],
      "execution_count": null,
      "outputs": [
        {
          "output_type": "execute_result",
          "data": {
            "text/plain": [
              "tensor(0.3081)"
            ]
          },
          "metadata": {
            "tags": []
          },
          "execution_count": 14
        }
      ]
    },
    {
      "cell_type": "code",
      "metadata": {
        "id": "YWNNTV6aK_ua"
      },
      "source": [
        "loader = torch.utils.data.DataLoader(valid_set, batch_size=len(valid_set), num_workers=1)\n",
        "data = next(iter(loader))\n",
        "validMean = data[0].mean()\n",
        "validStd = data[0].std()"
      ],
      "execution_count": null,
      "outputs": []
    },
    {
      "cell_type": "code",
      "metadata": {
        "colab": {
          "base_uri": "https://localhost:8080/"
        },
        "id": "4mEoiv1HLLAP",
        "outputId": "edd2b02f-4df1-4d34-95b8-2df3e6c9b222"
      },
      "source": [
        "validMean"
      ],
      "execution_count": null,
      "outputs": [
        {
          "output_type": "execute_result",
          "data": {
            "text/plain": [
              "tensor(0.1307)"
            ]
          },
          "metadata": {
            "tags": []
          },
          "execution_count": 16
        }
      ]
    },
    {
      "cell_type": "code",
      "metadata": {
        "colab": {
          "base_uri": "https://localhost:8080/"
        },
        "id": "8mhoMk_ELMig",
        "outputId": "9f3f3bda-b456-49db-eaa2-cb07dafd1f79"
      },
      "source": [
        "validStd"
      ],
      "execution_count": null,
      "outputs": [
        {
          "output_type": "execute_result",
          "data": {
            "text/plain": [
              "tensor(0.3081)"
            ]
          },
          "metadata": {
            "tags": []
          },
          "execution_count": 17
        }
      ]
    },
    {
      "cell_type": "code",
      "metadata": {
        "id": "uJPB7yNGmBBL"
      },
      "source": [
        "loader = torch.utils.data.DataLoader(test_set, batch_size=len(test_set), num_workers=1)\n",
        "data = next(iter(loader))\n",
        "testMean = data[0].mean()\n",
        "testStd = data[0].std()"
      ],
      "execution_count": null,
      "outputs": []
    },
    {
      "cell_type": "code",
      "metadata": {
        "colab": {
          "base_uri": "https://localhost:8080/"
        },
        "id": "xEqguSLcmA7Q",
        "outputId": "2cda04c5-c7e6-4081-f589-1342d15ddcfa"
      },
      "source": [
        "testMean"
      ],
      "execution_count": null,
      "outputs": [
        {
          "output_type": "execute_result",
          "data": {
            "text/plain": [
              "tensor(0.1325)"
            ]
          },
          "metadata": {
            "tags": []
          },
          "execution_count": 19
        }
      ]
    },
    {
      "cell_type": "code",
      "metadata": {
        "colab": {
          "base_uri": "https://localhost:8080/"
        },
        "id": "a9i1Z6U6mJVx",
        "outputId": "885ebee7-93c1-4c21-ced8-8f82641a9b63"
      },
      "source": [
        "testStd"
      ],
      "execution_count": null,
      "outputs": [
        {
          "output_type": "execute_result",
          "data": {
            "text/plain": [
              "tensor(0.3105)"
            ]
          },
          "metadata": {
            "tags": []
          },
          "execution_count": 20
        }
      ]
    },
    {
      "cell_type": "code",
      "metadata": {
        "id": "KmN5c8TxmJQs"
      },
      "source": [
        "import shutil"
      ],
      "execution_count": null,
      "outputs": []
    },
    {
      "cell_type": "code",
      "metadata": {
        "id": "uDYyM9VxmA2d"
      },
      "source": [
        "shutil.rmtree(\"/content/MNIST\")"
      ],
      "execution_count": null,
      "outputs": []
    },
    {
      "cell_type": "markdown",
      "metadata": {
        "id": "AQk4Ux-kn916"
      },
      "source": [
        "###MINST"
      ]
    },
    {
      "cell_type": "code",
      "metadata": {
        "id": "ogK578XYoMRZ"
      },
      "source": [
        "!tar -zxvf MNIST.tar.gz"
      ],
      "execution_count": null,
      "outputs": []
    },
    {
      "cell_type": "code",
      "metadata": {
        "id": "A0IK8UCWn_LC"
      },
      "source": [
        "import torchvision\n",
        "import torchvision.transforms as transforms\n",
        "  \n",
        "transform = transforms.Compose([\n",
        "    # transforms.RandomCrop(28, padding=0),\n",
        "    # transforms.RandomHorizontalFlip(),\n",
        "    transforms.ToTensor(),\n",
        "    transforms.Normalize(trainMean,trainStd)\n",
        "])\n",
        "transformValid = transforms.Compose([\n",
        "    # transforms.RandomCrop(28, padding=0),\n",
        "    # transforms.RandomHorizontalFlip(),\n",
        "    transforms.ToTensor(),\n",
        "    transforms.Normalize(validMean, validStd)\n",
        "])\n",
        "transformTest = transforms.Compose([\n",
        "    transforms.ToTensor(),\n",
        "    transforms.Normalize(testMean, testStd)\n",
        "])"
      ],
      "execution_count": null,
      "outputs": []
    },
    {
      "cell_type": "code",
      "metadata": {
        "id": "VzYCDMyDLeyM"
      },
      "source": [
        "trainSet = torchvision.datasets.MNIST(root='./', train=True,\n",
        "                                        download=True, transform=transform)"
      ],
      "execution_count": null,
      "outputs": []
    },
    {
      "cell_type": "code",
      "metadata": {
        "id": "IaljXvHCL4F4"
      },
      "source": [
        "validSet = torchvision.datasets.MNIST(root='./', train=True,\n",
        "                                        download=True, transform=transformValid)"
      ],
      "execution_count": null,
      "outputs": []
    },
    {
      "cell_type": "code",
      "metadata": {
        "colab": {
          "base_uri": "https://localhost:8080/"
        },
        "id": "AWm3yXoEL-zu",
        "outputId": "fd2ef1c8-b157-41d7-9412-4c057c02b82f"
      },
      "source": [
        "num_train = len(trainSet)\n",
        "num_train"
      ],
      "execution_count": null,
      "outputs": [
        {
          "output_type": "execute_result",
          "data": {
            "text/plain": [
              "60000"
            ]
          },
          "metadata": {
            "tags": []
          },
          "execution_count": 27
        }
      ]
    },
    {
      "cell_type": "code",
      "metadata": {
        "id": "Fve16gCZMLmx"
      },
      "source": [
        "indices = list(range(num_train))"
      ],
      "execution_count": null,
      "outputs": []
    },
    {
      "cell_type": "code",
      "metadata": {
        "id": "WdtvhFPkMePL"
      },
      "source": [
        "valid_size = 0.2"
      ],
      "execution_count": null,
      "outputs": []
    },
    {
      "cell_type": "code",
      "metadata": {
        "id": "QIpL_x3yMkbE"
      },
      "source": [
        "import numpy as np"
      ],
      "execution_count": null,
      "outputs": []
    },
    {
      "cell_type": "code",
      "metadata": {
        "id": "BaEtWwu7Mc2a"
      },
      "source": [
        "split = int(np.floor(valid_size * num_train))"
      ],
      "execution_count": null,
      "outputs": []
    },
    {
      "cell_type": "code",
      "metadata": {
        "colab": {
          "base_uri": "https://localhost:8080/"
        },
        "id": "jNqaEJW_Ml6K",
        "outputId": "43e68a41-b6a6-4462-831d-ac6f2672773e"
      },
      "source": [
        "split"
      ],
      "execution_count": null,
      "outputs": [
        {
          "output_type": "execute_result",
          "data": {
            "text/plain": [
              "12000"
            ]
          },
          "metadata": {
            "tags": []
          },
          "execution_count": 32
        }
      ]
    },
    {
      "cell_type": "code",
      "metadata": {
        "id": "2fRm6AzUMzKT"
      },
      "source": [
        "np.random.seed(3)\n",
        "np.random.shuffle(indices)"
      ],
      "execution_count": null,
      "outputs": []
    },
    {
      "cell_type": "code",
      "metadata": {
        "id": "NZVz3PVmMzF_"
      },
      "source": [
        "from torch.utils.data.sampler import SubsetRandomSampler"
      ],
      "execution_count": null,
      "outputs": []
    },
    {
      "cell_type": "code",
      "metadata": {
        "id": "GUQFPgmvMzD8"
      },
      "source": [
        "train_idx, valid_idx = indices[split:], indices[:split]\n",
        "train_sampler = SubsetRandomSampler(train_idx)\n",
        "valid_sampler = SubsetRandomSampler(valid_idx)"
      ],
      "execution_count": null,
      "outputs": []
    },
    {
      "cell_type": "code",
      "metadata": {
        "id": "BrXtfvLsNDOV"
      },
      "source": [
        "trainLoader = torch.utils.data.DataLoader(trainSet, batch_size=128, \n",
        "                                          sampler=train_sampler, num_workers=2)"
      ],
      "execution_count": null,
      "outputs": []
    },
    {
      "cell_type": "code",
      "metadata": {
        "id": "ugzPgI7gNZ5R"
      },
      "source": [
        "validLoader = torch.utils.data.DataLoader(validSet, batch_size=128, \n",
        "                                          sampler=valid_sampler, num_workers=2)"
      ],
      "execution_count": null,
      "outputs": []
    },
    {
      "cell_type": "code",
      "metadata": {
        "id": "olnK3b3xoEh6"
      },
      "source": [
        "# trainSet = torchvision.datasets.MNIST(root='./', train=True,\n",
        "#                                         download=True, transform=transform)\n",
        "# trainLoader = torch.utils.data.DataLoader(trainSet, batch_size=128,\n",
        "#                                           shuffle=True, num_workers=2)\n",
        "\n",
        "# testSet = torchvision.datasets.MNIST(root='./', train=False,\n",
        "#                                        download=True, transform=transformTest)\n",
        "# testLoader = torch.utils.data.DataLoader(testSet, batch_size=128,\n",
        "#                                          shuffle=False, num_workers=2)"
      ],
      "execution_count": null,
      "outputs": []
    },
    {
      "cell_type": "code",
      "metadata": {
        "id": "1ANCUKxrNmIY"
      },
      "source": [
        "testSet = torchvision.datasets.MNIST(root='./', train=False,\n",
        "                                       download=True, transform=transformTest)\n",
        "testLoader = torch.utils.data.DataLoader(testSet, batch_size=128,\n",
        "                                         shuffle=False, num_workers=2)"
      ],
      "execution_count": null,
      "outputs": []
    },
    {
      "cell_type": "markdown",
      "metadata": {
        "id": "rg7w3SQxT5ir"
      },
      "source": [
        "#Model"
      ]
    },
    {
      "cell_type": "markdown",
      "metadata": {
        "id": "33vaWDAO_LbG"
      },
      "source": [
        "##1. version"
      ]
    },
    {
      "cell_type": "code",
      "metadata": {
        "id": "d0nHXnyrT-BU"
      },
      "source": [
        "import torch\n",
        "import torch.nn as nn\n",
        "\n",
        "class Conv(nn.Module):\n",
        "  def __init__(self, in_channels, out_channels, kernel_size, stride=1):\n",
        "    super(Conv, self).__init__()\n",
        "    self.conv = nn.Conv2d(in_channels, out_channels, kernel_size, \n",
        "                          padding=kernel_size//2, stride=stride)\n",
        "    self.bn = nn.BatchNorm2d(out_channels)\n",
        "\n",
        "  def forward(self, x):\n",
        "    return self.bn(torch.relu(self.conv(x)))\n",
        "\n",
        "class ConvNet(nn.Module):\n",
        "  def __init__(self, out_channels, kernel_size = 3):\n",
        "    super(ConvNet,self).__init__()\n",
        "    self.c1 = Conv(3, out_channels, kernel_size)\n",
        "    self.p1 = Conv(out_channels, out_channels*2, kernel_size, 2)\n",
        "\n",
        "    self.c2 = Conv(out_channels*2, out_channels*2, kernel_size)\n",
        "    self.p2 = Conv(out_channels*2, out_channels*4, kernel_size+2,4)\n",
        "\n",
        "    self.c3 = Conv(out_channels*4, out_channels*4, kernel_size)\n",
        "    self.p3 = Conv(out_channels*4, out_channels*8, kernel_size+2,4)\n",
        "\n",
        "    self.classifier = nn.Conv2d(out_channels*8, 10, 1)\n",
        "\n",
        "  def forward(self, x):\n",
        "    x = self.p1(self.c1(x))\n",
        "    x = self.p2(self.c2(x))\n",
        "    x = self.p3(self.c3(x))\n",
        "    return torch.squeeze(self.classifier(x))"
      ],
      "execution_count": null,
      "outputs": []
    },
    {
      "cell_type": "markdown",
      "metadata": {
        "id": "I2-CeM8O_RST"
      },
      "source": [
        "##2. version"
      ]
    },
    {
      "cell_type": "code",
      "metadata": {
        "id": "_zt9qyysdq2V"
      },
      "source": [
        "import torch\n",
        "import torch.nn as nn\n",
        "\n",
        "class CNN(nn.Module):\n",
        "  def __init__(self):\n",
        "    super(CNN, self).__init__()\n",
        "    self.conv_layer = nn.Sequential(\n",
        "      nn.Conv2d(in_channels=3, out_channels=16, kernel_size=3, padding=1),\n",
        "      nn.BatchNorm2d(16),\n",
        "      nn.ReLU(inplace=True),     \n",
        "      nn.MaxPool2d(kernel_size=2, stride=2),\n",
        "      nn.Dropout2d(p=0.05),\n",
        "\n",
        "      nn.Conv2d(in_channels=16, out_channels=32, kernel_size=3, padding=1),\n",
        "      nn.BatchNorm2d(32),\n",
        "      nn.ReLU(inplace=True),\n",
        "      nn.MaxPool2d(kernel_size=2, stride=2),\n",
        "      nn.Dropout2d(p=0.05),\n",
        "\n",
        "      nn.Conv2d(in_channels=32, out_channels=64, kernel_size=3, padding=1),\n",
        "      nn.BatchNorm2d(64),\n",
        "      nn.ReLU(inplace=True),\n",
        "      nn.MaxPool2d(kernel_size=2, stride=2),\n",
        "      nn.Dropout2d(p=0.05),\n",
        "    )\n",
        "\n",
        "    self.fc_layer = nn.Sequential(\n",
        "      nn.Linear(1024, 256),\n",
        "      nn.ReLU(inplace=True),\n",
        "      nn.Linear(256, 64),\n",
        "      nn.ReLU(inplace=True),\n",
        "      nn.Linear(64, 10),\n",
        "      nn.ReLU(inplace=True)\n",
        "    )\n",
        "\n",
        "  def forward(self, x):    \n",
        "    x = self.conv_layer(x)\n",
        "\n",
        "    # flatten\n",
        "    x = x.view(x.size(0), -1)\n",
        "    \n",
        "    x = self.fc_layer(x)\n",
        "\n",
        "    return x"
      ],
      "execution_count": null,
      "outputs": []
    },
    {
      "cell_type": "markdown",
      "metadata": {
        "id": "rrKOJK_tP_dn"
      },
      "source": [
        "##3. version"
      ]
    },
    {
      "cell_type": "markdown",
      "metadata": {
        "id": "JSVENHRyZgii"
      },
      "source": [
        "###CIFAR10"
      ]
    },
    {
      "cell_type": "code",
      "metadata": {
        "id": "suskHhKwueCP"
      },
      "source": [
        "import torch\n",
        "import torch.nn as nn\n",
        "\n",
        "class CNN(nn.Module):\n",
        "  def __init__(self):\n",
        "    super(CNN, self).__init__()\n",
        "    self.conv_layer = nn.Sequential(\n",
        "      nn.Conv2d(in_channels=3, out_channels=32, kernel_size=3, padding=1),\n",
        "      nn.ReLU(inplace=True), \n",
        "      nn.BatchNorm2d(32),\n",
        "      nn.Conv2d(in_channels=32, out_channels=64, kernel_size=3, padding=1),\n",
        "      nn.ReLU(inplace=True), \n",
        "      nn.BatchNorm2d(64),          \n",
        "      nn.MaxPool2d(kernel_size=2, stride=2),\n",
        "      nn.Dropout2d(p=0.05),\n",
        "\n",
        "      nn.Conv2d(in_channels=64, out_channels=64, kernel_size=3, padding=1),\n",
        "      nn.ReLU(inplace=True), \n",
        "      nn.BatchNorm2d(64),\n",
        "      nn.Conv2d(in_channels=64, out_channels=128, kernel_size=3, padding=1),\n",
        "      nn.ReLU(inplace=True), \n",
        "      nn.BatchNorm2d(128),          \n",
        "      nn.MaxPool2d(kernel_size=2, stride=2),\n",
        "      nn.Dropout2d(p=0.1),\n",
        "\n",
        "      nn.Conv2d(in_channels=128, out_channels=128, kernel_size=3, padding=1),\n",
        "      nn.ReLU(inplace=True), \n",
        "      nn.BatchNorm2d(128),\n",
        "      nn.Conv2d(in_channels=128, out_channels=128, kernel_size=3, padding=1),\n",
        "      nn.ReLU(inplace=True), \n",
        "      nn.BatchNorm2d(128),          \n",
        "      nn.MaxPool2d(kernel_size=2, stride=2),\n",
        "      nn.Dropout2d(p=0.2),\n",
        "    )\n",
        "\n",
        "    self.fc_layer = nn.Sequential(\n",
        "      nn.Linear(2048, 256),\n",
        "      nn.ReLU(inplace=True),\n",
        "      nn.Linear(256, 64),\n",
        "      nn.ReLU(inplace=True),\n",
        "      nn.Linear(64, 10)\n",
        "    )\n",
        "\n",
        "  def forward(self, x):    \n",
        "    x = self.conv_layer(x)\n",
        "\n",
        "    # flatten\n",
        "    x = x.view(x.size(0), -1)\n",
        "    \n",
        "    x = self.fc_layer(x)\n",
        "\n",
        "    return x"
      ],
      "execution_count": null,
      "outputs": []
    },
    {
      "cell_type": "markdown",
      "metadata": {
        "id": "NqEvQmGCZkQ3"
      },
      "source": [
        "###MNIST"
      ]
    },
    {
      "cell_type": "code",
      "metadata": {
        "id": "RuVLI_T6Zluc"
      },
      "source": [
        "import torch\n",
        "import torch.nn as nn\n",
        "\n",
        "class CNN(nn.Module):\n",
        "  def __init__(self):\n",
        "    super(CNN, self).__init__()\n",
        "    self.conv_layer = nn.Sequential(\n",
        "      nn.Conv2d(in_channels=1, out_channels=32, kernel_size=3, padding=1),\n",
        "      nn.ReLU(inplace=True), \n",
        "      nn.BatchNorm2d(32),\n",
        "      nn.Conv2d(in_channels=32, out_channels=64, kernel_size=3, padding=1),\n",
        "      nn.ReLU(inplace=True), \n",
        "      nn.BatchNorm2d(64),          \n",
        "      nn.MaxPool2d(kernel_size=2, stride=2),\n",
        "      nn.Dropout2d(p=0.05),\n",
        "\n",
        "      nn.Conv2d(in_channels=64, out_channels=64, kernel_size=3, padding=1),\n",
        "      nn.ReLU(inplace=True), \n",
        "      nn.BatchNorm2d(64),\n",
        "      nn.Conv2d(in_channels=64, out_channels=128, kernel_size=3, padding=1),\n",
        "      nn.ReLU(inplace=True), \n",
        "      nn.BatchNorm2d(128),          \n",
        "      nn.MaxPool2d(kernel_size=2, stride=2),\n",
        "      nn.Dropout2d(p=0.1),\n",
        "\n",
        "      nn.Conv2d(in_channels=128, out_channels=128, kernel_size=3, padding=1),\n",
        "      nn.ReLU(inplace=True), \n",
        "      nn.BatchNorm2d(128),\n",
        "      nn.Conv2d(in_channels=128, out_channels=128, kernel_size=3, padding=1),\n",
        "      nn.ReLU(inplace=True), \n",
        "      nn.BatchNorm2d(128),          \n",
        "      nn.MaxPool2d(kernel_size=2, stride=2),\n",
        "      nn.Dropout2d(p=0.15),\n",
        "\n",
        "      # nn.Conv2d(in_channels=256, out_channels=256, kernel_size=3, padding=1),\n",
        "      # nn.ReLU(inplace=True), \n",
        "      # nn.BatchNorm2d(256),\n",
        "      # nn.Conv2d(in_channels=256, out_channels=256, kernel_size=3, padding=1),\n",
        "      # nn.ReLU(inplace=True), \n",
        "      # nn.BatchNorm2d(256),          \n",
        "      # nn.MaxPool2d(kernel_size=2, stride=2),\n",
        "      # nn.Dropout2d(p=0.3),\n",
        "    )\n",
        "\n",
        "    self.fc_layer = nn.Sequential(\n",
        "      nn.Linear(1152, 256),\n",
        "      nn.ReLU(inplace=True),\n",
        "      nn.Linear(256, 64),\n",
        "      nn.ReLU(inplace=True),\n",
        "      nn.Linear(64, 10)\n",
        "    )\n",
        "\n",
        "  def forward(self, x):    \n",
        "    x = self.conv_layer(x)\n",
        "\n",
        "    # flatten\n",
        "    x = x.view(x.size(0), -1)\n",
        "    \n",
        "    x = self.fc_layer(x)\n",
        "\n",
        "    return x"
      ],
      "execution_count": null,
      "outputs": []
    },
    {
      "cell_type": "code",
      "metadata": {
        "id": "sVcFRf3b_tFq"
      },
      "source": [
        "# model=ConvNet(5)"
      ],
      "execution_count": null,
      "outputs": []
    },
    {
      "cell_type": "code",
      "metadata": {
        "id": "Gdoj_MVSkyDV"
      },
      "source": [
        "model=CNN()"
      ],
      "execution_count": null,
      "outputs": []
    },
    {
      "cell_type": "code",
      "metadata": {
        "id": "3mu3RByAlbXe"
      },
      "source": [
        "from torchsummary import summary"
      ],
      "execution_count": null,
      "outputs": []
    },
    {
      "cell_type": "code",
      "metadata": {
        "colab": {
          "base_uri": "https://localhost:8080/"
        },
        "id": "Xv_dFYPsmDfI",
        "outputId": "d20cee85-61ab-48c0-db02-4a44cc64bab9"
      },
      "source": [
        "summary(model.cuda(), input_size=(1, 28, 28))"
      ],
      "execution_count": null,
      "outputs": [
        {
          "output_type": "stream",
          "text": [
            "----------------------------------------------------------------\n",
            "        Layer (type)               Output Shape         Param #\n",
            "================================================================\n",
            "            Conv2d-1           [-1, 32, 28, 28]             320\n",
            "              ReLU-2           [-1, 32, 28, 28]               0\n",
            "       BatchNorm2d-3           [-1, 32, 28, 28]              64\n",
            "            Conv2d-4           [-1, 64, 28, 28]          18,496\n",
            "              ReLU-5           [-1, 64, 28, 28]               0\n",
            "       BatchNorm2d-6           [-1, 64, 28, 28]             128\n",
            "         MaxPool2d-7           [-1, 64, 14, 14]               0\n",
            "         Dropout2d-8           [-1, 64, 14, 14]               0\n",
            "            Conv2d-9           [-1, 64, 14, 14]          36,928\n",
            "             ReLU-10           [-1, 64, 14, 14]               0\n",
            "      BatchNorm2d-11           [-1, 64, 14, 14]             128\n",
            "           Conv2d-12          [-1, 128, 14, 14]          73,856\n",
            "             ReLU-13          [-1, 128, 14, 14]               0\n",
            "      BatchNorm2d-14          [-1, 128, 14, 14]             256\n",
            "        MaxPool2d-15            [-1, 128, 7, 7]               0\n",
            "        Dropout2d-16            [-1, 128, 7, 7]               0\n",
            "           Conv2d-17            [-1, 128, 7, 7]         147,584\n",
            "             ReLU-18            [-1, 128, 7, 7]               0\n",
            "      BatchNorm2d-19            [-1, 128, 7, 7]             256\n",
            "           Conv2d-20            [-1, 128, 7, 7]         147,584\n",
            "             ReLU-21            [-1, 128, 7, 7]               0\n",
            "      BatchNorm2d-22            [-1, 128, 7, 7]             256\n",
            "        MaxPool2d-23            [-1, 128, 3, 3]               0\n",
            "        Dropout2d-24            [-1, 128, 3, 3]               0\n",
            "           Linear-25                  [-1, 256]         295,168\n",
            "             ReLU-26                  [-1, 256]               0\n",
            "           Linear-27                   [-1, 64]          16,448\n",
            "             ReLU-28                   [-1, 64]               0\n",
            "           Linear-29                   [-1, 10]             650\n",
            "================================================================\n",
            "Total params: 738,122\n",
            "Trainable params: 738,122\n",
            "Non-trainable params: 0\n",
            "----------------------------------------------------------------\n",
            "Input size (MB): 0.00\n",
            "Forward/backward pass size (MB): 3.18\n",
            "Params size (MB): 2.82\n",
            "Estimated Total Size (MB): 6.00\n",
            "----------------------------------------------------------------\n"
          ],
          "name": "stdout"
        }
      ]
    },
    {
      "cell_type": "markdown",
      "metadata": {
        "id": "eP8u-j47WVUZ"
      },
      "source": [
        "#Epoch functions"
      ]
    },
    {
      "cell_type": "code",
      "metadata": {
        "id": "0LQYVpH9AqO_"
      },
      "source": [
        "from tqdm import tqdm"
      ],
      "execution_count": null,
      "outputs": []
    },
    {
      "cell_type": "markdown",
      "metadata": {
        "id": "0dA4lGN5WWsT"
      },
      "source": [
        "##Train"
      ]
    },
    {
      "cell_type": "code",
      "metadata": {
        "id": "-QTtQPzSWU9m"
      },
      "source": [
        "def train(epoch):\n",
        "  # variables for loss\n",
        "  running_loss = 0.0\n",
        "  correct = 0.0\n",
        "  total = 0\n",
        "\n",
        "  # set the network to train\n",
        "  net.train()\n",
        "\n",
        "  with tqdm(trainLoader, unit=\"batch\") as tepoch:\n",
        "    tepoch.set_description(f\"Epoch {epoch+1}\")\n",
        "    # Epoch loop\n",
        "    for data in tepoch:\n",
        "      # get the inputs\n",
        "      inputs, labels = data\n",
        "\n",
        "      # Convert to cuda conditionally\n",
        "      if haveCuda:\n",
        "          inputs, labels = inputs.cuda(), labels.cuda()\n",
        "\n",
        "      # zero the parameter gradients\n",
        "      optimizer.zero_grad()\n",
        "\n",
        "      # forward + backward + optimize\n",
        "      outputs = net(inputs)\n",
        "      loss = criterion(outputs, labels)\n",
        "      loss.backward()\n",
        "      optimizer.step()\n",
        "\n",
        "      # compute statistics\n",
        "      running_loss += loss.item()\n",
        "      _, predicted = torch.max(outputs, 1)\n",
        "      total += labels.size(0)\n",
        "      correct += predicted.eq(labels).sum().item()\n",
        "\n",
        "      tepoch.set_postfix(loss=loss.item(), accuracy=correct / total * 100)\n",
        "\n",
        "  # print and plot statistics\n",
        "  tr_loss = running_loss / len(trainLoader)\n",
        "  tr_corr = correct / total * 100\n",
        "  # print(\"\\nTrain epoch %d loss: %.3f correct: %.2f\" % (epoch + 1, tr_loss, tr_corr))\n",
        "\n",
        "  return tr_loss,tr_corr"
      ],
      "execution_count": null,
      "outputs": []
    },
    {
      "cell_type": "markdown",
      "metadata": {
        "id": "IuChspzcXG1j"
      },
      "source": [
        "##Validate"
      ]
    },
    {
      "cell_type": "code",
      "metadata": {
        "id": "yCag3ue5XLsl"
      },
      "source": [
        "def val(epoch):\n",
        "  # variables for loss\n",
        "  running_loss = 0.0\n",
        "  correct = 0.0\n",
        "  total = 0\n",
        "\n",
        "  # set the network to eval\n",
        "  net.eval()\n",
        "\n",
        "  # with tqdm(testLoader, unit=\"batch\") as tepoch:\n",
        "  with tqdm(validLoader, unit=\"batch\") as tepoch:\n",
        "    # Epoch loop\n",
        "    for data in tepoch:\n",
        "      tepoch.set_description(f\"Epoch {epoch+1}\")\n",
        "\n",
        "      # get the inputs\n",
        "      inputs, labels = data\n",
        "\n",
        "      # Convert to cuda conditionally\n",
        "      if haveCuda:\n",
        "          inputs, labels = inputs.cuda(), labels.cuda()\n",
        "\n",
        "      # forward\n",
        "      outputs = net(inputs)\n",
        "      loss = criterion(outputs, labels)\n",
        "\n",
        "      # compute statistics\n",
        "      running_loss += loss.item()\n",
        "      _, predicted = torch.max(outputs, 1)\n",
        "      total += labels.size(0)\n",
        "      correct += predicted.eq(labels).sum().item()\n",
        "\n",
        "      tepoch.set_postfix(loss=loss.item(), accuracy=correct / total * 100)\n",
        "\n",
        "  # print and plot statistics\n",
        "  # val_loss = running_loss / len(testLoader)\n",
        "  val_loss = running_loss / len(validLoader)\n",
        "  val_corr = correct / total * 100\n",
        "  # print(\"\\nTest epoch %d loss: %.3f correct: %.2f\" % (epoch + 1, val_loss, val_corr))\n",
        "\n",
        "  return val_loss, val_corr"
      ],
      "execution_count": null,
      "outputs": []
    },
    {
      "cell_type": "markdown",
      "metadata": {
        "id": "kpCgzPKsXWUg"
      },
      "source": [
        "#Main cycle"
      ]
    },
    {
      "cell_type": "code",
      "metadata": {
        "colab": {
          "base_uri": "https://localhost:8080/"
        },
        "id": "KEjZ9xFPPZ6v",
        "outputId": "918a2238-e0d1-414f-e44d-9660cdeeea4b"
      },
      "source": [
        "import torch.optim as optim\n",
        "from torch.optim import lr_scheduler\n",
        "\n",
        "%matplotlib inline\n",
        "import matplotlib\n",
        "import matplotlib.pyplot as plt\n",
        "\n",
        "# Makes multiple runs comparable\n",
        "torch.manual_seed(3)\n",
        "if haveCuda:\n",
        "  torch.cuda.manual_seed(3)\n",
        "  torch.backends.cudnn.deterministic = True\n",
        "  torch.backends.cudnn.benchmark = False\n",
        "\n",
        "#net = ConvNet(5)\n",
        "net = CNN()\n",
        "if haveCuda:\n",
        "  net = net.cuda()\n",
        "\n",
        "# Loss, and optimizer\n",
        "criterion = nn.CrossEntropyLoss()\n",
        "# optimizer = optim.SGD(net.parameters(), lr=0.01, momentum=0.9,\n",
        "#                       nesterov=True, weight_decay=1e-4)\n",
        "# optimizer = optim.SGD(net.parameters(), lr=0.1, momentum=0.9,\n",
        "#                       nesterov=True, weight_decay=1e-3)\n",
        "# optimizer = optim.SGD(net.parameters(), lr=0.01, momentum=0.95,\n",
        "#                       nesterov=True, weight_decay=1e-3)\n",
        "# optimizer = optim.SGD(net.parameters(), lr=0.1, momentum=0.95,\n",
        "#                       nesterov=True, weight_decay=1e-3)\n",
        "# optimizer = optim.Adam(net.parameters(), lr=0.0005, betas=(0.9, 0.999), \n",
        "#                        eps=1e-08, weight_decay=1e-6, amsgrad=False)\n",
        "# optimizer = optim.SGD(net.parameters(), lr=0.01, momentum=0.05,\n",
        "#                       nesterov=True, weight_decay=1e-3)\n",
        "optimizer = optim.SGD(net.parameters(), lr=0.1, momentum=0.9,\n",
        "                      nesterov=True, weight_decay=1e-4)\n",
        "\n",
        "# Create LR cheduler\n",
        "scheduler = lr_scheduler.StepLR(optimizer,10)\n",
        "\n",
        "# Epoch counter\n",
        "epochNumber = 40\n",
        "\n",
        "trLosses = []\n",
        "trAccs = []\n",
        "valLosses = []\n",
        "valAccs = []\n",
        "\n",
        "for epoch in range(epochNumber):\n",
        "  # Call train and val\n",
        "  tr_loss,tr_corr = train(epoch)\n",
        "  # print(\"\\nTrain epoch %d loss: %.3f correct: %.2f\" % (epoch + 1, tr_loss, tr_corr))\n",
        "  val_loss,val_corr = val(epoch)\n",
        "  # print(\"\\nTest epoch %d loss: %.3f correct: %.2f\" % (epoch + 1, val_loss, val_corr))\n",
        "  \n",
        "  trLosses.append(tr_loss)\n",
        "  trAccs.append(tr_corr)\n",
        "  valLosses.append(val_loss)\n",
        "  valAccs.append(val_corr)\n",
        "\n",
        "  # Step with the scheduler\n",
        "  scheduler.step()"
      ],
      "execution_count": null,
      "outputs": [
        {
          "output_type": "stream",
          "text": [
            "Epoch 1: 100%|██████████| 469/469 [00:13<00:00, 33.51batch/s, accuracy=93.3, loss=0.0797]\n",
            "Epoch 1: 100%|██████████| 79/79 [00:01<00:00, 40.28batch/s, accuracy=98.6, loss=0.00265]\n",
            "Epoch 2: 100%|██████████| 469/469 [00:13<00:00, 33.97batch/s, accuracy=98.3, loss=0.0053]\n",
            "Epoch 2: 100%|██████████| 79/79 [00:01<00:00, 42.90batch/s, accuracy=99.1, loss=0.0011]\n",
            "Epoch 3: 100%|██████████| 469/469 [00:14<00:00, 33.46batch/s, accuracy=98.8, loss=0.0911]\n",
            "Epoch 3: 100%|██████████| 79/79 [00:01<00:00, 42.34batch/s, accuracy=99.2, loss=0.000375]\n",
            "Epoch 4: 100%|██████████| 469/469 [00:13<00:00, 33.74batch/s, accuracy=99, loss=0.0404]\n",
            "Epoch 4: 100%|██████████| 79/79 [00:01<00:00, 42.64batch/s, accuracy=99.3, loss=9.93e-5]\n",
            "Epoch 5: 100%|██████████| 469/469 [00:14<00:00, 33.41batch/s, accuracy=99.2, loss=0.00257]\n",
            "Epoch 5: 100%|██████████| 79/79 [00:01<00:00, 41.80batch/s, accuracy=99.2, loss=0.000105]\n",
            "Epoch 6: 100%|██████████| 469/469 [00:14<00:00, 33.33batch/s, accuracy=99.2, loss=0.0445]\n",
            "Epoch 6: 100%|██████████| 79/79 [00:01<00:00, 40.92batch/s, accuracy=99.5, loss=9.3e-5]\n",
            "Epoch 7: 100%|██████████| 469/469 [00:13<00:00, 33.51batch/s, accuracy=99.3, loss=0.00585]\n",
            "Epoch 7: 100%|██████████| 79/79 [00:02<00:00, 39.01batch/s, accuracy=99.4, loss=2.86e-5]\n",
            "Epoch 8: 100%|██████████| 469/469 [00:14<00:00, 33.26batch/s, accuracy=99.4, loss=0.0307]\n",
            "Epoch 8: 100%|██████████| 79/79 [00:01<00:00, 42.77batch/s, accuracy=99.5, loss=2.78e-5]\n",
            "Epoch 9: 100%|██████████| 469/469 [00:14<00:00, 33.45batch/s, accuracy=99.5, loss=0.0509]\n",
            "Epoch 9: 100%|██████████| 79/79 [00:01<00:00, 41.97batch/s, accuracy=99.3, loss=0.000764]\n",
            "Epoch 10: 100%|██████████| 469/469 [00:14<00:00, 33.42batch/s, accuracy=99.5, loss=0.000707]\n",
            "Epoch 10: 100%|██████████| 79/79 [00:01<00:00, 41.73batch/s, accuracy=99.3, loss=0.000335]\n",
            "Epoch 11: 100%|██████████| 469/469 [00:13<00:00, 33.78batch/s, accuracy=99.7, loss=0.000754]\n",
            "Epoch 11: 100%|██████████| 79/79 [00:01<00:00, 41.00batch/s, accuracy=99.6, loss=2.7e-5]\n",
            "Epoch 12: 100%|██████████| 469/469 [00:14<00:00, 32.68batch/s, accuracy=99.8, loss=0.00433]\n",
            "Epoch 12: 100%|██████████| 79/79 [00:01<00:00, 42.21batch/s, accuracy=99.6, loss=9.13e-6]\n",
            "Epoch 13: 100%|██████████| 469/469 [00:14<00:00, 33.50batch/s, accuracy=99.8, loss=0.000987]\n",
            "Epoch 13: 100%|██████████| 79/79 [00:01<00:00, 42.33batch/s, accuracy=99.6, loss=1.29e-5]\n",
            "Epoch 14: 100%|██████████| 469/469 [00:14<00:00, 32.35batch/s, accuracy=99.8, loss=0.000738]\n",
            "Epoch 14: 100%|██████████| 79/79 [00:01<00:00, 42.16batch/s, accuracy=99.6, loss=4.31e-6]\n",
            "Epoch 15: 100%|██████████| 469/469 [00:13<00:00, 33.89batch/s, accuracy=99.9, loss=0.00798]\n",
            "Epoch 15: 100%|██████████| 79/79 [00:01<00:00, 41.57batch/s, accuracy=99.6, loss=5.46e-6]\n",
            "Epoch 16: 100%|██████████| 469/469 [00:14<00:00, 33.01batch/s, accuracy=99.9, loss=0.00898]\n",
            "Epoch 16: 100%|██████████| 79/79 [00:01<00:00, 41.15batch/s, accuracy=99.6, loss=4.57e-6]\n",
            "Epoch 17: 100%|██████████| 469/469 [00:13<00:00, 33.68batch/s, accuracy=99.9, loss=4.24e-5]\n",
            "Epoch 17: 100%|██████████| 79/79 [00:01<00:00, 41.38batch/s, accuracy=99.6, loss=3.43e-6]\n",
            "Epoch 18: 100%|██████████| 469/469 [00:14<00:00, 33.24batch/s, accuracy=99.9, loss=0.000961]\n",
            "Epoch 18: 100%|██████████| 79/79 [00:01<00:00, 41.26batch/s, accuracy=99.6, loss=4.16e-6]\n",
            "Epoch 19: 100%|██████████| 469/469 [00:14<00:00, 33.25batch/s, accuracy=99.9, loss=0.000693]\n",
            "Epoch 19: 100%|██████████| 79/79 [00:01<00:00, 40.74batch/s, accuracy=99.6, loss=2.95e-6]\n",
            "Epoch 20: 100%|██████████| 469/469 [00:15<00:00, 31.24batch/s, accuracy=99.9, loss=0.000288]\n",
            "Epoch 20: 100%|██████████| 79/79 [00:01<00:00, 41.08batch/s, accuracy=99.6, loss=1.97e-6]\n",
            "Epoch 21: 100%|██████████| 469/469 [00:14<00:00, 33.23batch/s, accuracy=99.9, loss=0.00238]\n",
            "Epoch 21: 100%|██████████| 79/79 [00:01<00:00, 40.87batch/s, accuracy=99.6, loss=2e-6]\n",
            "Epoch 22: 100%|██████████| 469/469 [00:14<00:00, 33.10batch/s, accuracy=99.9, loss=0.000153]\n",
            "Epoch 22: 100%|██████████| 79/79 [00:01<00:00, 40.91batch/s, accuracy=99.6, loss=2.15e-6]\n",
            "Epoch 23: 100%|██████████| 469/469 [00:14<00:00, 33.10batch/s, accuracy=99.9, loss=0.000234]\n",
            "Epoch 23: 100%|██████████| 79/79 [00:02<00:00, 39.02batch/s, accuracy=99.7, loss=2.23e-6]\n",
            "Epoch 24: 100%|██████████| 469/469 [00:14<00:00, 32.69batch/s, accuracy=99.9, loss=0.000656]\n",
            "Epoch 24: 100%|██████████| 79/79 [00:01<00:00, 41.10batch/s, accuracy=99.6, loss=2.47e-6]\n",
            "Epoch 25: 100%|██████████| 469/469 [00:14<00:00, 32.85batch/s, accuracy=99.9, loss=0.000165]\n",
            "Epoch 25: 100%|██████████| 79/79 [00:01<00:00, 40.14batch/s, accuracy=99.6, loss=2.34e-6]\n",
            "Epoch 26: 100%|██████████| 469/469 [00:14<00:00, 32.63batch/s, accuracy=99.9, loss=0.00359]\n",
            "Epoch 26: 100%|██████████| 79/79 [00:01<00:00, 40.93batch/s, accuracy=99.6, loss=2.56e-6]\n",
            "Epoch 27: 100%|██████████| 469/469 [00:14<00:00, 32.21batch/s, accuracy=99.9, loss=0.000611]\n",
            "Epoch 27: 100%|██████████| 79/79 [00:01<00:00, 41.33batch/s, accuracy=99.6, loss=2.61e-6]\n",
            "Epoch 28: 100%|██████████| 469/469 [00:14<00:00, 32.79batch/s, accuracy=99.9, loss=0.000242]\n",
            "Epoch 28: 100%|██████████| 79/79 [00:01<00:00, 40.48batch/s, accuracy=99.6, loss=2.41e-6]\n",
            "Epoch 29: 100%|██████████| 469/469 [00:14<00:00, 32.72batch/s, accuracy=99.9, loss=0.00105]\n",
            "Epoch 29: 100%|██████████| 79/79 [00:01<00:00, 40.75batch/s, accuracy=99.6, loss=2.57e-6]\n",
            "Epoch 30: 100%|██████████| 469/469 [00:14<00:00, 32.66batch/s, accuracy=99.9, loss=0.000106]\n",
            "Epoch 30: 100%|██████████| 79/79 [00:01<00:00, 40.07batch/s, accuracy=99.6, loss=2.6e-6]\n",
            "Epoch 31: 100%|██████████| 469/469 [00:14<00:00, 32.72batch/s, accuracy=99.9, loss=0.000827]\n",
            "Epoch 31: 100%|██████████| 79/79 [00:01<00:00, 40.46batch/s, accuracy=99.6, loss=2.6e-6]\n",
            "Epoch 32: 100%|██████████| 469/469 [00:14<00:00, 32.08batch/s, accuracy=99.9, loss=0.00407]\n",
            "Epoch 32: 100%|██████████| 79/79 [00:01<00:00, 41.19batch/s, accuracy=99.6, loss=2.5e-6]\n",
            "Epoch 33: 100%|██████████| 469/469 [00:14<00:00, 33.11batch/s, accuracy=99.9, loss=0.0102]\n",
            "Epoch 33: 100%|██████████| 79/79 [00:01<00:00, 39.73batch/s, accuracy=99.6, loss=2.56e-6]\n",
            "Epoch 34: 100%|██████████| 469/469 [00:14<00:00, 32.22batch/s, accuracy=99.9, loss=0.000171]\n",
            "Epoch 34: 100%|██████████| 79/79 [00:01<00:00, 39.75batch/s, accuracy=99.6, loss=2.67e-6]\n",
            "Epoch 35: 100%|██████████| 469/469 [00:14<00:00, 33.03batch/s, accuracy=99.9, loss=0.00137]\n",
            "Epoch 35: 100%|██████████| 79/79 [00:01<00:00, 41.10batch/s, accuracy=99.6, loss=2.7e-6]\n",
            "Epoch 36: 100%|██████████| 469/469 [00:14<00:00, 32.31batch/s, accuracy=99.9, loss=0.000962]\n",
            "Epoch 36: 100%|██████████| 79/79 [00:02<00:00, 37.01batch/s, accuracy=99.6, loss=2.44e-6]\n",
            "Epoch 37: 100%|██████████| 469/469 [00:14<00:00, 32.51batch/s, accuracy=99.9, loss=0.000194]\n",
            "Epoch 37: 100%|██████████| 79/79 [00:01<00:00, 40.98batch/s, accuracy=99.6, loss=2.44e-6]\n",
            "Epoch 38: 100%|██████████| 469/469 [00:14<00:00, 32.13batch/s, accuracy=99.9, loss=0.000266]\n",
            "Epoch 38: 100%|██████████| 79/79 [00:01<00:00, 40.02batch/s, accuracy=99.6, loss=2.44e-6]\n",
            "Epoch 39: 100%|██████████| 469/469 [00:14<00:00, 32.91batch/s, accuracy=99.9, loss=0.000161]\n",
            "Epoch 39: 100%|██████████| 79/79 [00:01<00:00, 40.63batch/s, accuracy=99.6, loss=2.5e-6]\n",
            "Epoch 40: 100%|██████████| 469/469 [00:14<00:00, 32.40batch/s, accuracy=99.9, loss=0.0154]\n",
            "Epoch 40: 100%|██████████| 79/79 [00:01<00:00, 41.18batch/s, accuracy=99.6, loss=2.53e-6]\n"
          ],
          "name": "stderr"
        }
      ]
    },
    {
      "cell_type": "markdown",
      "metadata": {
        "id": "SBg9KZiVPr7i"
      },
      "source": [
        "##CIFAR10"
      ]
    },
    {
      "cell_type": "markdown",
      "metadata": {
        "id": "XvEar7geaaCd"
      },
      "source": [
        "Dropout 0.1; 0.2; 0.3"
      ]
    },
    {
      "cell_type": "code",
      "metadata": {
        "colab": {
          "base_uri": "https://localhost:8080/"
        },
        "id": "XGxxil6zPZz6",
        "outputId": "e7c37c0d-d610-4f78-e326-47f895305407"
      },
      "source": [
        "for epoch in range(epochNumber):\n",
        "  print(\"Train epoch %d loss: %.3f correct: %.2f\" % (epoch + 1, trLosses[epoch], trAccs[epoch]))\n",
        "  print(\"Test epoch %d loss: %.3f correct: %.2f\" % (epoch + 1, valLosses[epoch], valAccs[epoch]))"
      ],
      "execution_count": null,
      "outputs": [
        {
          "output_type": "stream",
          "text": [
            "Train epoch 1 loss: 1.414 correct: 49.31\n",
            "Test epoch 1 loss: 1.092 correct: 62.38\n",
            "Train epoch 2 loss: 0.980 correct: 66.54\n",
            "Test epoch 2 loss: 0.850 correct: 70.88\n",
            "Train epoch 3 loss: 0.778 correct: 73.28\n",
            "Test epoch 3 loss: 0.715 correct: 75.74\n",
            "Train epoch 4 loss: 0.686 correct: 76.46\n",
            "Test epoch 4 loss: 0.630 correct: 78.61\n",
            "Train epoch 5 loss: 0.629 correct: 78.44\n",
            "Test epoch 5 loss: 0.595 correct: 80.36\n",
            "Train epoch 6 loss: 0.582 correct: 80.09\n",
            "Test epoch 6 loss: 0.566 correct: 80.56\n",
            "Train epoch 7 loss: 0.550 correct: 81.47\n",
            "Test epoch 7 loss: 0.563 correct: 81.70\n",
            "Train epoch 8 loss: 0.517 correct: 82.58\n",
            "Test epoch 8 loss: 0.554 correct: 81.65\n",
            "Train epoch 9 loss: 0.496 correct: 83.27\n",
            "Test epoch 9 loss: 0.536 correct: 82.44\n",
            "Train epoch 10 loss: 0.471 correct: 84.12\n",
            "Test epoch 10 loss: 0.528 correct: 82.43\n",
            "Train epoch 11 loss: 0.356 correct: 87.82\n",
            "Test epoch 11 loss: 0.427 correct: 86.22\n",
            "Train epoch 12 loss: 0.313 correct: 89.22\n",
            "Test epoch 12 loss: 0.414 correct: 86.56\n",
            "Train epoch 13 loss: 0.298 correct: 89.68\n",
            "Test epoch 13 loss: 0.412 correct: 86.62\n",
            "Train epoch 14 loss: 0.279 correct: 90.24\n",
            "Test epoch 14 loss: 0.406 correct: 87.03\n",
            "Train epoch 15 loss: 0.269 correct: 90.63\n",
            "Test epoch 15 loss: 0.400 correct: 87.06\n",
            "Train epoch 16 loss: 0.256 correct: 91.02\n",
            "Test epoch 16 loss: 0.394 correct: 87.45\n",
            "Train epoch 17 loss: 0.247 correct: 91.39\n",
            "Test epoch 17 loss: 0.398 correct: 87.41\n",
            "Train epoch 18 loss: 0.240 correct: 91.59\n",
            "Test epoch 18 loss: 0.399 correct: 87.30\n",
            "Train epoch 19 loss: 0.232 correct: 91.88\n",
            "Test epoch 19 loss: 0.394 correct: 87.67\n",
            "Train epoch 20 loss: 0.223 correct: 92.08\n",
            "Test epoch 20 loss: 0.398 correct: 87.45\n",
            "Train epoch 21 loss: 0.208 correct: 92.66\n",
            "Test epoch 21 loss: 0.398 correct: 87.80\n",
            "Train epoch 22 loss: 0.208 correct: 92.78\n",
            "Test epoch 22 loss: 0.397 correct: 87.78\n",
            "Train epoch 23 loss: 0.209 correct: 92.68\n",
            "Test epoch 23 loss: 0.395 correct: 87.77\n",
            "Train epoch 24 loss: 0.202 correct: 92.89\n",
            "Test epoch 24 loss: 0.398 correct: 87.55\n",
            "Train epoch 25 loss: 0.204 correct: 92.83\n",
            "Test epoch 25 loss: 0.397 correct: 87.75\n",
            "Train epoch 26 loss: 0.199 correct: 93.02\n",
            "Test epoch 26 loss: 0.397 correct: 87.75\n",
            "Train epoch 27 loss: 0.200 correct: 92.98\n",
            "Test epoch 27 loss: 0.399 correct: 87.52\n",
            "Train epoch 28 loss: 0.197 correct: 92.95\n",
            "Test epoch 28 loss: 0.399 correct: 87.74\n",
            "Train epoch 29 loss: 0.199 correct: 93.01\n",
            "Test epoch 29 loss: 0.399 correct: 87.58\n",
            "Train epoch 30 loss: 0.193 correct: 93.26\n",
            "Test epoch 30 loss: 0.398 correct: 87.77\n",
            "Train epoch 31 loss: 0.193 correct: 93.24\n",
            "Test epoch 31 loss: 0.397 correct: 87.80\n",
            "Train epoch 32 loss: 0.192 correct: 93.18\n",
            "Test epoch 32 loss: 0.398 correct: 87.82\n",
            "Train epoch 33 loss: 0.195 correct: 93.05\n",
            "Test epoch 33 loss: 0.399 correct: 87.74\n",
            "Train epoch 34 loss: 0.193 correct: 93.07\n",
            "Test epoch 34 loss: 0.399 correct: 87.75\n",
            "Train epoch 35 loss: 0.192 correct: 93.15\n",
            "Test epoch 35 loss: 0.399 correct: 87.70\n",
            "Train epoch 36 loss: 0.194 correct: 93.12\n",
            "Test epoch 36 loss: 0.398 correct: 87.71\n",
            "Train epoch 37 loss: 0.193 correct: 93.20\n",
            "Test epoch 37 loss: 0.399 correct: 87.70\n",
            "Train epoch 38 loss: 0.194 correct: 93.13\n",
            "Test epoch 38 loss: 0.399 correct: 87.72\n",
            "Train epoch 39 loss: 0.194 correct: 93.08\n",
            "Test epoch 39 loss: 0.399 correct: 87.64\n",
            "Train epoch 40 loss: 0.192 correct: 93.21\n",
            "Test epoch 40 loss: 0.400 correct: 87.73\n"
          ],
          "name": "stdout"
        }
      ]
    },
    {
      "cell_type": "code",
      "metadata": {
        "colab": {
          "base_uri": "https://localhost:8080/",
          "height": 590
        },
        "id": "76JJMWF1PZs4",
        "outputId": "955b0d82-b34e-4669-ee9e-edb6010159ee"
      },
      "source": [
        "# Finished\n",
        "print('Finished Training')\n",
        "plt.plot(trLosses)\n",
        "plt.plot(valLosses)\n",
        "plt.title('model loss')\n",
        "plt.ylabel('loss')\n",
        "plt.xlabel('epoch')\n",
        "plt.legend(['train', 'validation'], loc='upper right')\n",
        "plt.show()\n",
        "\n",
        "plt.plot(trAccs)\n",
        "plt.plot(valAccs)\n",
        "plt.title('model accuracy')\n",
        "plt.ylabel('accuracy')\n",
        "plt.xlabel('epoch')\n",
        "plt.legend(['train', 'validation'], loc='lower right')\n",
        "plt.show()"
      ],
      "execution_count": null,
      "outputs": [
        {
          "output_type": "stream",
          "text": [
            "Finished Training\n"
          ],
          "name": "stdout"
        },
        {
          "output_type": "display_data",
          "data": {
            "image/png": "[encoded data removed]",
            "text/plain": [
              "<Figure size 432x288 with 1 Axes>"
            ]
          },
          "metadata": {
            "tags": [],
            "needs_background": "light"
          }
        },
        {
          "output_type": "display_data",
          "data": {
            "image/png": "[encoded data removed]",
            "text/plain": [
              "<Figure size 432x288 with 1 Axes>"
            ]
          },
          "metadata": {
            "tags": [],
            "needs_background": "light"
          }
        }
      ]
    },
    {
      "cell_type": "markdown",
      "metadata": {
        "id": "uPpsYJQ3alJS"
      },
      "source": [
        "Dropout 0.05; 0.1; 0.2"
      ]
    },
    {
      "cell_type": "code",
      "metadata": {
        "colab": {
          "base_uri": "https://localhost:8080/"
        },
        "id": "P2cR3D1Qaq2_",
        "outputId": "5c58e2c1-6d9d-4901-98e6-36f3894e7c8f"
      },
      "source": [
        "for epoch in range(epochNumber):\n",
        "  print(\"Train epoch %d loss: %.3f correct: %.2f\" % (epoch + 1, trLosses[epoch], trAccs[epoch]))\n",
        "  print(\"Test epoch %d loss: %.3f correct: %.2f\" % (epoch + 1, valLosses[epoch], valAccs[epoch]))"
      ],
      "execution_count": null,
      "outputs": [
        {
          "output_type": "stream",
          "text": [
            "Train epoch 1 loss: 1.397 correct: 50.04\n",
            "Test epoch 1 loss: 1.057 correct: 63.94\n",
            "Train epoch 2 loss: 0.945 correct: 67.57\n",
            "Test epoch 2 loss: 0.860 correct: 70.62\n",
            "Train epoch 3 loss: 0.738 correct: 74.78\n",
            "Test epoch 3 loss: 0.695 correct: 76.38\n",
            "Train epoch 4 loss: 0.633 correct: 78.51\n",
            "Test epoch 4 loss: 0.633 correct: 78.50\n",
            "Train epoch 5 loss: 0.573 correct: 80.49\n",
            "Test epoch 5 loss: 0.584 correct: 80.79\n",
            "Train epoch 6 loss: 0.518 correct: 82.38\n",
            "Test epoch 6 loss: 0.572 correct: 81.12\n",
            "Train epoch 7 loss: 0.479 correct: 83.61\n",
            "Test epoch 7 loss: 0.540 correct: 82.17\n",
            "Train epoch 8 loss: 0.450 correct: 84.73\n",
            "Test epoch 8 loss: 0.531 correct: 82.42\n",
            "Train epoch 9 loss: 0.419 correct: 85.83\n",
            "Test epoch 9 loss: 0.519 correct: 83.01\n",
            "Train epoch 10 loss: 0.402 correct: 86.35\n",
            "Test epoch 10 loss: 0.523 correct: 83.21\n",
            "Train epoch 11 loss: 0.282 correct: 90.46\n",
            "Test epoch 11 loss: 0.436 correct: 86.28\n",
            "Train epoch 12 loss: 0.234 correct: 91.94\n",
            "Test epoch 12 loss: 0.426 correct: 86.98\n",
            "Train epoch 13 loss: 0.213 correct: 92.40\n",
            "Test epoch 13 loss: 0.426 correct: 87.23\n",
            "Train epoch 14 loss: 0.199 correct: 92.95\n",
            "Test epoch 14 loss: 0.427 correct: 86.98\n",
            "Train epoch 15 loss: 0.186 correct: 93.48\n",
            "Test epoch 15 loss: 0.420 correct: 87.46\n",
            "Train epoch 16 loss: 0.174 correct: 93.88\n",
            "Test epoch 16 loss: 0.436 correct: 87.52\n",
            "Train epoch 17 loss: 0.163 correct: 94.38\n",
            "Test epoch 17 loss: 0.430 correct: 87.39\n",
            "Train epoch 18 loss: 0.153 correct: 94.52\n",
            "Test epoch 18 loss: 0.437 correct: 87.45\n",
            "Train epoch 19 loss: 0.143 correct: 94.89\n",
            "Test epoch 19 loss: 0.449 correct: 87.46\n",
            "Train epoch 20 loss: 0.137 correct: 95.05\n",
            "Test epoch 20 loss: 0.451 correct: 87.67\n",
            "Train epoch 21 loss: 0.122 correct: 95.77\n",
            "Test epoch 21 loss: 0.452 correct: 87.66\n",
            "Train epoch 22 loss: 0.120 correct: 95.76\n",
            "Test epoch 22 loss: 0.452 correct: 87.71\n",
            "Train epoch 23 loss: 0.116 correct: 95.98\n",
            "Test epoch 23 loss: 0.452 correct: 87.80\n",
            "Train epoch 24 loss: 0.117 correct: 95.85\n",
            "Test epoch 24 loss: 0.453 correct: 87.74\n",
            "Train epoch 25 loss: 0.115 correct: 96.03\n",
            "Test epoch 25 loss: 0.455 correct: 87.68\n",
            "Train epoch 26 loss: 0.113 correct: 96.04\n",
            "Test epoch 26 loss: 0.457 correct: 87.75\n",
            "Train epoch 27 loss: 0.110 correct: 96.06\n",
            "Test epoch 27 loss: 0.458 correct: 87.71\n",
            "Train epoch 28 loss: 0.109 correct: 96.16\n",
            "Test epoch 28 loss: 0.461 correct: 87.73\n",
            "Train epoch 29 loss: 0.110 correct: 96.09\n",
            "Test epoch 29 loss: 0.461 correct: 87.77\n",
            "Train epoch 30 loss: 0.107 correct: 96.30\n",
            "Test epoch 30 loss: 0.461 correct: 87.62\n",
            "Train epoch 31 loss: 0.103 correct: 96.47\n",
            "Test epoch 31 loss: 0.460 correct: 87.70\n",
            "Train epoch 32 loss: 0.106 correct: 96.30\n",
            "Test epoch 32 loss: 0.461 correct: 87.80\n",
            "Train epoch 33 loss: 0.105 correct: 96.37\n",
            "Test epoch 33 loss: 0.462 correct: 87.69\n",
            "Train epoch 34 loss: 0.107 correct: 96.24\n",
            "Test epoch 34 loss: 0.462 correct: 87.72\n",
            "Train epoch 35 loss: 0.109 correct: 96.20\n",
            "Test epoch 35 loss: 0.462 correct: 87.68\n",
            "Train epoch 36 loss: 0.105 correct: 96.32\n",
            "Test epoch 36 loss: 0.461 correct: 87.60\n",
            "Train epoch 37 loss: 0.106 correct: 96.23\n",
            "Test epoch 37 loss: 0.462 correct: 87.74\n",
            "Train epoch 38 loss: 0.108 correct: 96.13\n",
            "Test epoch 38 loss: 0.463 correct: 87.70\n",
            "Train epoch 39 loss: 0.104 correct: 96.36\n",
            "Test epoch 39 loss: 0.463 correct: 87.64\n",
            "Train epoch 40 loss: 0.102 correct: 96.47\n",
            "Test epoch 40 loss: 0.464 correct: 87.75\n"
          ],
          "name": "stdout"
        }
      ]
    },
    {
      "cell_type": "code",
      "metadata": {
        "colab": {
          "base_uri": "https://localhost:8080/",
          "height": 590
        },
        "id": "rJbLA8_larK0",
        "outputId": "6cc51059-c8c7-4ae3-85ac-3a7011f0a057"
      },
      "source": [
        "# Finished\n",
        "print('Finished Training')\n",
        "plt.plot(trLosses)\n",
        "plt.plot(valLosses)\n",
        "plt.title('model loss')\n",
        "plt.ylabel('loss')\n",
        "plt.xlabel('epoch')\n",
        "plt.legend(['train', 'validation'], loc='upper right')\n",
        "plt.show()\n",
        "\n",
        "plt.plot(trAccs)\n",
        "plt.plot(valAccs)\n",
        "plt.title('model accuracy')\n",
        "plt.ylabel('accuracy')\n",
        "plt.xlabel('epoch')\n",
        "plt.legend(['train', 'validation'], loc='lower right')\n",
        "plt.show()"
      ],
      "execution_count": null,
      "outputs": [
        {
          "output_type": "stream",
          "text": [
            "Finished Training\n"
          ],
          "name": "stdout"
        },
        {
          "output_type": "display_data",
          "data": {
            "image/png": "[encoded data removed]",
            "text/plain": [
              "<Figure size 432x288 with 1 Axes>"
            ]
          },
          "metadata": {
            "tags": [],
            "needs_background": "light"
          }
        },
        {
          "output_type": "display_data",
          "data": {
            "image/png": "[encoded data removed]",
            "text/plain": [
              "<Figure size 432x288 with 1 Axes>"
            ]
          },
          "metadata": {
            "tags": [],
            "needs_background": "light"
          }
        }
      ]
    },
    {
      "cell_type": "markdown",
      "metadata": {
        "id": "OuIKdKNdQ9G1"
      },
      "source": [
        "##MNIST"
      ]
    },
    {
      "cell_type": "code",
      "metadata": {
        "colab": {
          "base_uri": "https://localhost:8080/"
        },
        "id": "MdL1iwCHYBiB",
        "outputId": "b93e7768-11a1-4ce2-c7ef-393dcc757755"
      },
      "source": [
        "for epoch in range(epochNumber):\n",
        "  print(\"Train epoch %d loss: %.3f correct: %.2f\" % (epoch + 1, trLosses[epoch], trAccs[epoch]))\n",
        "  print(\"Validate epoch %d loss: %.3f correct: %.2f\" % (epoch + 1, valLosses[epoch], valAccs[epoch]))"
      ],
      "execution_count": null,
      "outputs": [
        {
          "output_type": "stream",
          "text": [
            "Train epoch 1 loss: 0.148 correct: 95.35\n",
            "Validate epoch 1 loss: 0.036 correct: 98.88\n",
            "Train epoch 2 loss: 0.032 correct: 98.98\n",
            "Validate epoch 2 loss: 0.035 correct: 98.93\n",
            "Train epoch 3 loss: 0.020 correct: 99.38\n",
            "Validate epoch 3 loss: 0.028 correct: 99.14\n",
            "Train epoch 4 loss: 0.015 correct: 99.51\n",
            "Validate epoch 4 loss: 0.030 correct: 99.13\n",
            "Train epoch 5 loss: 0.010 correct: 99.70\n",
            "Validate epoch 5 loss: 0.029 correct: 99.11\n",
            "Train epoch 6 loss: 0.008 correct: 99.75\n",
            "Validate epoch 6 loss: 0.026 correct: 99.28\n",
            "Train epoch 7 loss: 0.007 correct: 99.79\n",
            "Validate epoch 7 loss: 0.025 correct: 99.30\n",
            "Train epoch 8 loss: 0.005 correct: 99.84\n",
            "Validate epoch 8 loss: 0.028 correct: 99.27\n",
            "Train epoch 9 loss: 0.005 correct: 99.85\n",
            "Validate epoch 9 loss: 0.030 correct: 99.25\n",
            "Train epoch 10 loss: 0.003 correct: 99.91\n",
            "Validate epoch 10 loss: 0.024 correct: 99.39\n",
            "Train epoch 11 loss: 0.001 correct: 99.98\n",
            "Validate epoch 11 loss: 0.022 correct: 99.44\n",
            "Train epoch 12 loss: 0.001 correct: 99.99\n",
            "Validate epoch 12 loss: 0.022 correct: 99.48\n",
            "Train epoch 13 loss: 0.001 correct: 99.99\n",
            "Validate epoch 13 loss: 0.022 correct: 99.47\n",
            "Train epoch 14 loss: 0.001 correct: 99.99\n",
            "Validate epoch 14 loss: 0.022 correct: 99.48\n",
            "Train epoch 15 loss: 0.001 correct: 99.99\n",
            "Validate epoch 15 loss: 0.022 correct: 99.48\n",
            "Train epoch 16 loss: 0.001 correct: 100.00\n",
            "Validate epoch 16 loss: 0.021 correct: 99.49\n",
            "Train epoch 17 loss: 0.001 correct: 100.00\n",
            "Validate epoch 17 loss: 0.022 correct: 99.47\n",
            "Train epoch 18 loss: 0.001 correct: 99.99\n",
            "Validate epoch 18 loss: 0.022 correct: 99.48\n",
            "Train epoch 19 loss: 0.001 correct: 100.00\n",
            "Validate epoch 19 loss: 0.022 correct: 99.48\n",
            "Train epoch 20 loss: 0.001 correct: 99.99\n",
            "Validate epoch 20 loss: 0.021 correct: 99.52\n",
            "Train epoch 21 loss: 0.001 correct: 100.00\n",
            "Validate epoch 21 loss: 0.021 correct: 99.50\n",
            "Train epoch 22 loss: 0.001 correct: 99.99\n",
            "Validate epoch 22 loss: 0.021 correct: 99.51\n",
            "Train epoch 23 loss: 0.001 correct: 100.00\n",
            "Validate epoch 23 loss: 0.021 correct: 99.49\n",
            "Train epoch 24 loss: 0.001 correct: 99.99\n",
            "Validate epoch 24 loss: 0.021 correct: 99.51\n",
            "Train epoch 25 loss: 0.001 correct: 99.99\n",
            "Validate epoch 25 loss: 0.021 correct: 99.49\n"
          ],
          "name": "stdout"
        }
      ]
    },
    {
      "cell_type": "code",
      "metadata": {
        "colab": {
          "base_uri": "https://localhost:8080/",
          "height": 590
        },
        "id": "krbmN4n6PCuv",
        "outputId": "e6148d93-75fb-48d3-8c22-826f4d8c161d"
      },
      "source": [
        "# Finished\n",
        "print('Finished Training')\n",
        "plt.plot(trLosses)\n",
        "plt.plot(valLosses)\n",
        "plt.title('model loss')\n",
        "plt.ylabel('loss')\n",
        "plt.xlabel('epoch')\n",
        "plt.legend(['train', 'validation'], loc='upper right')\n",
        "plt.show()\n",
        "\n",
        "plt.plot(trAccs)\n",
        "plt.plot(valAccs)\n",
        "plt.title('model accuracy')\n",
        "plt.ylabel('accuracy')\n",
        "plt.xlabel('epoch')\n",
        "plt.legend(['train', 'validation'], loc='lower right')\n",
        "plt.show()"
      ],
      "execution_count": null,
      "outputs": [
        {
          "output_type": "stream",
          "text": [
            "Finished Training\n"
          ],
          "name": "stdout"
        },
        {
          "output_type": "display_data",
          "data": {
            "image/png": "[encoded data removed]",
            "text/plain": [
              "<Figure size 432x288 with 1 Axes>"
            ]
          },
          "metadata": {
            "tags": [],
            "needs_background": "light"
          }
        },
        {
          "output_type": "display_data",
          "data": {
            "image/png": "[encoded data removed]",
            "text/plain": [
              "<Figure size 432x288 with 1 Axes>"
            ]
          },
          "metadata": {
            "tags": [],
            "needs_background": "light"
          }
        }
      ]
    },
    {
      "cell_type": "code",
      "metadata": {
        "colab": {
          "base_uri": "https://localhost:8080/",
          "height": 590
        },
        "id": "n8QR1L8CYCOU",
        "outputId": "58fa0877-9d60-486b-b045-12d01db707fd"
      },
      "source": [
        "# Finished\n",
        "print('Finished Training')\n",
        "plt.plot(trLosses)\n",
        "plt.plot(valLosses)\n",
        "plt.title('model loss')\n",
        "plt.ylabel('loss')\n",
        "plt.xlabel('epoch')\n",
        "plt.legend(['train', 'validation'], loc='upper right')\n",
        "plt.show()\n",
        "\n",
        "plt.plot(trAccs)\n",
        "plt.plot(valAccs)\n",
        "plt.title('model accuracy')\n",
        "plt.ylabel('accuracy')\n",
        "plt.xlabel('epoch')\n",
        "plt.legend(['train', 'validation'], loc='lower right')\n",
        "plt.show()"
      ],
      "execution_count": null,
      "outputs": [
        {
          "output_type": "stream",
          "text": [
            "Finished Training\n"
          ],
          "name": "stdout"
        },
        {
          "output_type": "display_data",
          "data": {
            "image/png": "[encoded data removed]",
            "text/plain": [
              "<Figure size 432x288 with 1 Axes>"
            ]
          },
          "metadata": {
            "tags": [],
            "needs_background": "light"
          }
        },
        {
          "output_type": "display_data",
          "data": {
            "image/png": "[encoded data removed]",
            "text/plain": [
              "<Figure size 432x288 with 1 Axes>"
            ]
          },
          "metadata": {
            "tags": [],
            "needs_background": "light"
          }
        }
      ]
    },
    {
      "cell_type": "code",
      "metadata": {
        "colab": {
          "base_uri": "https://localhost:8080/"
        },
        "id": "AeJvldYQUxjp",
        "outputId": "1fb41e4a-2638-417f-e62a-1d796022db93"
      },
      "source": [
        "for epoch in range(epochNumber):\n",
        "  print(\"Train epoch %d loss: %.3f correct: %.2f\" % (epoch + 1, trLosses[epoch], trAccs[epoch]))\n",
        "  print(\"Test epoch %d loss: %.3f correct: %.2f\" % (epoch + 1, valLosses[epoch], valAccs[epoch]))"
      ],
      "execution_count": null,
      "outputs": [
        {
          "output_type": "stream",
          "text": [
            "Train epoch 1 loss: 0.153 correct: 95.32\n",
            "Test epoch 1 loss: 0.040 correct: 98.85\n",
            "Train epoch 2 loss: 0.041 correct: 98.80\n",
            "Test epoch 2 loss: 0.028 correct: 99.15\n",
            "Train epoch 3 loss: 0.031 correct: 99.16\n",
            "Test epoch 3 loss: 0.024 correct: 99.32\n",
            "Train epoch 4 loss: 0.025 correct: 99.28\n",
            "Test epoch 4 loss: 0.026 correct: 99.11\n",
            "Train epoch 5 loss: 0.022 correct: 99.40\n",
            "Test epoch 5 loss: 0.020 correct: 99.46\n",
            "Train epoch 6 loss: 0.016 correct: 99.52\n",
            "Test epoch 6 loss: 0.021 correct: 99.36\n",
            "Train epoch 7 loss: 0.014 correct: 99.58\n",
            "Test epoch 7 loss: 0.021 correct: 99.33\n",
            "Train epoch 8 loss: 0.014 correct: 99.56\n",
            "Test epoch 8 loss: 0.027 correct: 99.23\n",
            "Train epoch 9 loss: 0.011 correct: 99.65\n",
            "Test epoch 9 loss: 0.019 correct: 99.52\n",
            "Train epoch 10 loss: 0.010 correct: 99.68\n",
            "Test epoch 10 loss: 0.034 correct: 99.09\n",
            "Train epoch 11 loss: 0.006 correct: 99.82\n",
            "Test epoch 11 loss: 0.015 correct: 99.58\n",
            "Train epoch 12 loss: 0.003 correct: 99.93\n",
            "Test epoch 12 loss: 0.014 correct: 99.60\n",
            "Train epoch 13 loss: 0.002 correct: 99.94\n",
            "Test epoch 13 loss: 0.015 correct: 99.60\n",
            "Train epoch 14 loss: 0.002 correct: 99.96\n",
            "Test epoch 14 loss: 0.015 correct: 99.61\n",
            "Train epoch 15 loss: 0.002 correct: 99.96\n",
            "Test epoch 15 loss: 0.015 correct: 99.61\n",
            "Train epoch 16 loss: 0.001 correct: 99.96\n",
            "Test epoch 16 loss: 0.015 correct: 99.63\n",
            "Train epoch 17 loss: 0.001 correct: 99.98\n",
            "Test epoch 17 loss: 0.015 correct: 99.60\n",
            "Train epoch 18 loss: 0.001 correct: 99.97\n",
            "Test epoch 18 loss: 0.015 correct: 99.60\n",
            "Train epoch 19 loss: 0.001 correct: 99.98\n",
            "Test epoch 19 loss: 0.016 correct: 99.59\n",
            "Train epoch 20 loss: 0.001 correct: 99.98\n",
            "Test epoch 20 loss: 0.015 correct: 99.62\n",
            "Train epoch 21 loss: 0.001 correct: 99.97\n",
            "Test epoch 21 loss: 0.015 correct: 99.61\n",
            "Train epoch 22 loss: 0.001 correct: 99.98\n",
            "Test epoch 22 loss: 0.015 correct: 99.62\n",
            "Train epoch 23 loss: 0.001 correct: 99.99\n",
            "Test epoch 23 loss: 0.016 correct: 99.61\n",
            "Train epoch 24 loss: 0.001 correct: 99.98\n",
            "Test epoch 24 loss: 0.015 correct: 99.61\n",
            "Train epoch 25 loss: 0.001 correct: 99.98\n",
            "Test epoch 25 loss: 0.016 correct: 99.61\n",
            "Train epoch 26 loss: 0.001 correct: 99.98\n",
            "Test epoch 26 loss: 0.015 correct: 99.63\n",
            "Train epoch 27 loss: 0.001 correct: 99.98\n",
            "Test epoch 27 loss: 0.016 correct: 99.62\n",
            "Train epoch 28 loss: 0.001 correct: 99.98\n",
            "Test epoch 28 loss: 0.015 correct: 99.62\n",
            "Train epoch 29 loss: 0.001 correct: 99.98\n",
            "Test epoch 29 loss: 0.016 correct: 99.62\n",
            "Train epoch 30 loss: 0.001 correct: 99.98\n",
            "Test epoch 30 loss: 0.015 correct: 99.63\n",
            "Train epoch 31 loss: 0.001 correct: 99.99\n",
            "Test epoch 31 loss: 0.015 correct: 99.62\n",
            "Train epoch 32 loss: 0.001 correct: 99.98\n",
            "Test epoch 32 loss: 0.015 correct: 99.62\n",
            "Train epoch 33 loss: 0.001 correct: 99.98\n",
            "Test epoch 33 loss: 0.016 correct: 99.63\n",
            "Train epoch 34 loss: 0.001 correct: 99.98\n",
            "Test epoch 34 loss: 0.016 correct: 99.62\n",
            "Train epoch 35 loss: 0.001 correct: 99.98\n",
            "Test epoch 35 loss: 0.015 correct: 99.62\n",
            "Train epoch 36 loss: 0.001 correct: 99.99\n",
            "Test epoch 36 loss: 0.016 correct: 99.62\n",
            "Train epoch 37 loss: 0.001 correct: 99.98\n",
            "Test epoch 37 loss: 0.015 correct: 99.62\n",
            "Train epoch 38 loss: 0.001 correct: 99.98\n",
            "Test epoch 38 loss: 0.016 correct: 99.62\n",
            "Train epoch 39 loss: 0.001 correct: 99.98\n",
            "Test epoch 39 loss: 0.016 correct: 99.61\n",
            "Train epoch 40 loss: 0.001 correct: 99.99\n",
            "Test epoch 40 loss: 0.015 correct: 99.63\n"
          ],
          "name": "stdout"
        }
      ]
    },
    {
      "cell_type": "code",
      "metadata": {
        "colab": {
          "base_uri": "https://localhost:8080/",
          "height": 590
        },
        "id": "ZpXFwtRgUySP",
        "outputId": "69075ef4-3374-493c-af4b-0b949be8ee94"
      },
      "source": [
        "# Finished\n",
        "print('Finished Training')\n",
        "plt.plot(trLosses)\n",
        "plt.plot(valLosses)\n",
        "plt.title('model loss')\n",
        "plt.ylabel('loss')\n",
        "plt.xlabel('epoch')\n",
        "plt.legend(['train', 'validation'], loc='upper right')\n",
        "plt.show()\n",
        "\n",
        "plt.plot(trAccs)\n",
        "plt.plot(valAccs)\n",
        "plt.title('model accuracy')\n",
        "plt.ylabel('accuracy')\n",
        "plt.xlabel('epoch')\n",
        "plt.legend(['train', 'validation'], loc='lower right')\n",
        "plt.show()"
      ],
      "execution_count": null,
      "outputs": [
        {
          "output_type": "stream",
          "text": [
            "Finished Training\n"
          ],
          "name": "stdout"
        },
        {
          "output_type": "display_data",
          "data": {
            "image/png": "[encoded data removed]",
            "text/plain": [
              "<Figure size 432x288 with 1 Axes>"
            ]
          },
          "metadata": {
            "tags": [],
            "needs_background": "light"
          }
        },
        {
          "output_type": "display_data",
          "data": {
            "image/png": "[encoded data removed]",
            "text/plain": [
              "<Figure size 432x288 with 1 Axes>"
            ]
          },
          "metadata": {
            "tags": [],
            "needs_background": "light"
          }
        }
      ]
    },
    {
      "cell_type": "markdown",
      "metadata": {
        "id": "keI7FJXfe2-j"
      },
      "source": [
        "Dropout 0.05; 0.1; 0.2"
      ]
    },
    {
      "cell_type": "code",
      "metadata": {
        "colab": {
          "base_uri": "https://localhost:8080/"
        },
        "id": "oTxsob0Ce3aC",
        "outputId": "841c3d95-3d55-47c6-9f41-93516a989706"
      },
      "source": [
        "for epoch in range(epochNumber):\n",
        "  print(\"Train epoch %d loss: %.3f correct: %.2f\" % (epoch + 1, trLosses[epoch], trAccs[epoch]))\n",
        "  print(\"Test epoch %d loss: %.3f correct: %.2f\" % (epoch + 1, valLosses[epoch], valAccs[epoch]))"
      ],
      "execution_count": null,
      "outputs": [
        {
          "output_type": "stream",
          "text": [
            "Train epoch 1 loss: 0.240 correct: 92.64\n",
            "Test epoch 1 loss: 0.076 correct: 97.88\n",
            "Train epoch 2 loss: 0.077 correct: 97.81\n",
            "Test epoch 2 loss: 0.046 correct: 98.67\n",
            "Train epoch 3 loss: 0.059 correct: 98.32\n",
            "Test epoch 3 loss: 0.041 correct: 98.67\n",
            "Train epoch 4 loss: 0.049 correct: 98.59\n",
            "Test epoch 4 loss: 0.035 correct: 98.91\n",
            "Train epoch 5 loss: 0.040 correct: 98.80\n",
            "Test epoch 5 loss: 0.036 correct: 98.92\n",
            "Train epoch 6 loss: 0.037 correct: 98.92\n",
            "Test epoch 6 loss: 0.028 correct: 99.03\n",
            "Train epoch 7 loss: 0.033 correct: 99.01\n",
            "Test epoch 7 loss: 0.027 correct: 99.09\n",
            "Train epoch 8 loss: 0.030 correct: 99.09\n",
            "Test epoch 8 loss: 0.040 correct: 98.71\n",
            "Train epoch 9 loss: 0.027 correct: 99.22\n",
            "Test epoch 9 loss: 0.040 correct: 98.88\n",
            "Train epoch 10 loss: 0.026 correct: 99.21\n",
            "Test epoch 10 loss: 0.038 correct: 98.74\n",
            "Train epoch 11 loss: 0.015 correct: 99.54\n",
            "Test epoch 11 loss: 0.019 correct: 99.36\n",
            "Train epoch 12 loss: 0.011 correct: 99.66\n",
            "Test epoch 12 loss: 0.020 correct: 99.41\n",
            "Train epoch 13 loss: 0.010 correct: 99.71\n",
            "Test epoch 13 loss: 0.023 correct: 99.29\n",
            "Train epoch 14 loss: 0.009 correct: 99.73\n",
            "Test epoch 14 loss: 0.021 correct: 99.34\n",
            "Train epoch 15 loss: 0.008 correct: 99.75\n",
            "Test epoch 15 loss: 0.019 correct: 99.40\n",
            "Train epoch 16 loss: 0.007 correct: 99.80\n",
            "Test epoch 16 loss: 0.022 correct: 99.33\n",
            "Train epoch 17 loss: 0.008 correct: 99.78\n",
            "Test epoch 17 loss: 0.020 correct: 99.37\n",
            "Train epoch 18 loss: 0.007 correct: 99.80\n",
            "Test epoch 18 loss: 0.019 correct: 99.40\n",
            "Train epoch 19 loss: 0.007 correct: 99.82\n",
            "Test epoch 19 loss: 0.021 correct: 99.36\n",
            "Train epoch 20 loss: 0.006 correct: 99.82\n",
            "Test epoch 20 loss: 0.020 correct: 99.39\n",
            "Train epoch 21 loss: 0.005 correct: 99.86\n",
            "Test epoch 21 loss: 0.020 correct: 99.36\n",
            "Train epoch 22 loss: 0.005 correct: 99.85\n",
            "Test epoch 22 loss: 0.021 correct: 99.33\n",
            "Train epoch 23 loss: 0.005 correct: 99.88\n",
            "Test epoch 23 loss: 0.021 correct: 99.35\n",
            "Train epoch 24 loss: 0.005 correct: 99.86\n",
            "Test epoch 24 loss: 0.020 correct: 99.36\n",
            "Train epoch 25 loss: 0.005 correct: 99.86\n",
            "Test epoch 25 loss: 0.021 correct: 99.37\n",
            "Train epoch 26 loss: 0.005 correct: 99.84\n",
            "Test epoch 26 loss: 0.021 correct: 99.38\n",
            "Train epoch 27 loss: 0.005 correct: 99.86\n",
            "Test epoch 27 loss: 0.020 correct: 99.37\n",
            "Train epoch 28 loss: 0.005 correct: 99.87\n",
            "Test epoch 28 loss: 0.021 correct: 99.37\n",
            "Train epoch 29 loss: 0.005 correct: 99.86\n",
            "Test epoch 29 loss: 0.021 correct: 99.37\n",
            "Train epoch 30 loss: 0.005 correct: 99.88\n",
            "Test epoch 30 loss: 0.021 correct: 99.38\n",
            "Train epoch 31 loss: 0.005 correct: 99.87\n",
            "Test epoch 31 loss: 0.020 correct: 99.40\n",
            "Train epoch 32 loss: 0.005 correct: 99.87\n",
            "Test epoch 32 loss: 0.020 correct: 99.38\n",
            "Train epoch 33 loss: 0.005 correct: 99.87\n",
            "Test epoch 33 loss: 0.021 correct: 99.38\n",
            "Train epoch 34 loss: 0.005 correct: 99.86\n",
            "Test epoch 34 loss: 0.020 correct: 99.39\n",
            "Train epoch 35 loss: 0.005 correct: 99.85\n",
            "Test epoch 35 loss: 0.020 correct: 99.36\n",
            "Train epoch 36 loss: 0.004 correct: 99.88\n",
            "Test epoch 36 loss: 0.020 correct: 99.38\n",
            "Train epoch 37 loss: 0.004 correct: 99.89\n",
            "Test epoch 37 loss: 0.021 correct: 99.38\n",
            "Train epoch 38 loss: 0.005 correct: 99.89\n",
            "Test epoch 38 loss: 0.021 correct: 99.37\n",
            "Train epoch 39 loss: 0.005 correct: 99.87\n",
            "Test epoch 39 loss: 0.021 correct: 99.35\n",
            "Train epoch 40 loss: 0.004 correct: 99.88\n",
            "Test epoch 40 loss: 0.021 correct: 99.35\n"
          ],
          "name": "stdout"
        }
      ]
    },
    {
      "cell_type": "code",
      "metadata": {
        "colab": {
          "base_uri": "https://localhost:8080/",
          "height": 590
        },
        "id": "I8S8aIBMe3y_",
        "outputId": "1769c083-1425-438d-85a0-6083f1468153"
      },
      "source": [
        "# Finished\n",
        "print('Finished Training')\n",
        "plt.plot(trLosses)\n",
        "plt.plot(valLosses)\n",
        "plt.title('model loss')\n",
        "plt.ylabel('loss')\n",
        "plt.xlabel('epoch')\n",
        "plt.legend(['train', 'validation'], loc='upper right')\n",
        "plt.show()\n",
        "\n",
        "plt.plot(trAccs)\n",
        "plt.plot(valAccs)\n",
        "plt.title('model accuracy')\n",
        "plt.ylabel('accuracy')\n",
        "plt.xlabel('epoch')\n",
        "plt.legend(['train', 'validation'], loc='lower right')\n",
        "plt.show()"
      ],
      "execution_count": null,
      "outputs": [
        {
          "output_type": "stream",
          "text": [
            "Finished Training\n"
          ],
          "name": "stdout"
        },
        {
          "output_type": "display_data",
          "data": {
            "image/png": "[encoded data removed]",
            "text/plain": [
              "<Figure size 432x288 with 1 Axes>"
            ]
          },
          "metadata": {
            "tags": [],
            "needs_background": "light"
          }
        },
        {
          "output_type": "display_data",
          "data": {
            "image/png": "[encoded data removed]",
            "text/plain": [
              "<Figure size 432x288 with 1 Axes>"
            ]
          },
          "metadata": {
            "tags": [],
            "needs_background": "light"
          }
        }
      ]
    },
    {
      "cell_type": "markdown",
      "metadata": {
        "id": "UD7NY4fBhnam"
      },
      "source": [
        "Dropout 0.2; 0.3; 0.4"
      ]
    },
    {
      "cell_type": "code",
      "metadata": {
        "colab": {
          "base_uri": "https://localhost:8080/"
        },
        "id": "aXtfJ-JUhmz4",
        "outputId": "6b97040b-51dd-4f26-94da-569a0acd0645"
      },
      "source": [
        "for epoch in range(epochNumber):\n",
        "  print(\"Train epoch %d loss: %.3f correct: %.2f\" % (epoch + 1, trLosses[epoch], trAccs[epoch]))\n",
        "  print(\"Test epoch %d loss: %.3f correct: %.2f\" % (epoch + 1, valLosses[epoch], valAccs[epoch]))"
      ],
      "execution_count": null,
      "outputs": [
        {
          "output_type": "stream",
          "text": [
            "Train epoch 1 loss: 0.321 correct: 89.83\n",
            "Test epoch 1 loss: 0.073 correct: 97.82\n",
            "Train epoch 2 loss: 0.107 correct: 97.02\n",
            "Test epoch 2 loss: 0.066 correct: 98.09\n",
            "Train epoch 3 loss: 0.078 correct: 97.89\n",
            "Test epoch 3 loss: 0.056 correct: 98.42\n",
            "Train epoch 4 loss: 0.064 correct: 98.14\n",
            "Test epoch 4 loss: 0.035 correct: 99.03\n",
            "Train epoch 5 loss: 0.055 correct: 98.39\n",
            "Test epoch 5 loss: 0.040 correct: 98.83\n",
            "Train epoch 6 loss: 0.048 correct: 98.62\n",
            "Test epoch 6 loss: 0.025 correct: 99.11\n",
            "Train epoch 7 loss: 0.043 correct: 98.69\n",
            "Test epoch 7 loss: 0.035 correct: 98.85\n",
            "Train epoch 8 loss: 0.040 correct: 98.79\n",
            "Test epoch 8 loss: 0.041 correct: 98.84\n",
            "Train epoch 9 loss: 0.039 correct: 98.83\n",
            "Test epoch 9 loss: 0.030 correct: 99.19\n",
            "Train epoch 10 loss: 0.035 correct: 98.93\n",
            "Test epoch 10 loss: 0.028 correct: 99.15\n",
            "Train epoch 11 loss: 0.023 correct: 99.31\n",
            "Test epoch 11 loss: 0.021 correct: 99.43\n",
            "Train epoch 12 loss: 0.020 correct: 99.41\n",
            "Test epoch 12 loss: 0.023 correct: 99.31\n",
            "Train epoch 13 loss: 0.019 correct: 99.43\n",
            "Test epoch 13 loss: 0.024 correct: 99.29\n",
            "Train epoch 14 loss: 0.017 correct: 99.47\n",
            "Test epoch 14 loss: 0.022 correct: 99.35\n",
            "Train epoch 15 loss: 0.015 correct: 99.53\n",
            "Test epoch 15 loss: 0.022 correct: 99.36\n",
            "Train epoch 16 loss: 0.014 correct: 99.55\n",
            "Test epoch 16 loss: 0.023 correct: 99.36\n",
            "Train epoch 17 loss: 0.014 correct: 99.54\n",
            "Test epoch 17 loss: 0.021 correct: 99.35\n",
            "Train epoch 18 loss: 0.013 correct: 99.57\n",
            "Test epoch 18 loss: 0.020 correct: 99.39\n",
            "Train epoch 19 loss: 0.013 correct: 99.62\n",
            "Test epoch 19 loss: 0.021 correct: 99.34\n",
            "Train epoch 20 loss: 0.013 correct: 99.60\n",
            "Test epoch 20 loss: 0.020 correct: 99.38\n",
            "Train epoch 21 loss: 0.012 correct: 99.65\n",
            "Test epoch 21 loss: 0.021 correct: 99.39\n",
            "Train epoch 22 loss: 0.012 correct: 99.63\n",
            "Test epoch 22 loss: 0.021 correct: 99.39\n",
            "Train epoch 23 loss: 0.012 correct: 99.62\n",
            "Test epoch 23 loss: 0.021 correct: 99.42\n",
            "Train epoch 24 loss: 0.012 correct: 99.63\n",
            "Test epoch 24 loss: 0.021 correct: 99.39\n",
            "Train epoch 25 loss: 0.011 correct: 99.66\n",
            "Test epoch 25 loss: 0.021 correct: 99.38\n",
            "Train epoch 26 loss: 0.012 correct: 99.62\n",
            "Test epoch 26 loss: 0.021 correct: 99.40\n",
            "Train epoch 27 loss: 0.011 correct: 99.64\n",
            "Test epoch 27 loss: 0.021 correct: 99.40\n",
            "Train epoch 28 loss: 0.011 correct: 99.63\n",
            "Test epoch 28 loss: 0.021 correct: 99.38\n",
            "Train epoch 29 loss: 0.011 correct: 99.67\n",
            "Test epoch 29 loss: 0.021 correct: 99.39\n",
            "Train epoch 30 loss: 0.011 correct: 99.66\n",
            "Test epoch 30 loss: 0.021 correct: 99.39\n",
            "Train epoch 31 loss: 0.012 correct: 99.63\n",
            "Test epoch 31 loss: 0.021 correct: 99.37\n",
            "Train epoch 32 loss: 0.011 correct: 99.64\n",
            "Test epoch 32 loss: 0.021 correct: 99.38\n",
            "Train epoch 33 loss: 0.011 correct: 99.67\n",
            "Test epoch 33 loss: 0.021 correct: 99.39\n",
            "Train epoch 34 loss: 0.011 correct: 99.65\n",
            "Test epoch 34 loss: 0.021 correct: 99.39\n",
            "Train epoch 35 loss: 0.011 correct: 99.66\n",
            "Test epoch 35 loss: 0.021 correct: 99.38\n",
            "Train epoch 36 loss: 0.011 correct: 99.66\n",
            "Test epoch 36 loss: 0.021 correct: 99.38\n",
            "Train epoch 37 loss: 0.012 correct: 99.63\n",
            "Test epoch 37 loss: 0.021 correct: 99.39\n",
            "Train epoch 38 loss: 0.011 correct: 99.62\n",
            "Test epoch 38 loss: 0.021 correct: 99.39\n",
            "Train epoch 39 loss: 0.012 correct: 99.64\n",
            "Test epoch 39 loss: 0.021 correct: 99.38\n",
            "Train epoch 40 loss: 0.011 correct: 99.63\n",
            "Test epoch 40 loss: 0.021 correct: 99.38\n"
          ],
          "name": "stdout"
        }
      ]
    },
    {
      "cell_type": "code",
      "metadata": {
        "colab": {
          "base_uri": "https://localhost:8080/",
          "height": 590
        },
        "id": "OWe2Ip9vhrNj",
        "outputId": "566f523e-92b4-4ac0-d84a-6355cc44f892"
      },
      "source": [
        "# Finished\n",
        "print('Finished Training')\n",
        "plt.plot(trLosses)\n",
        "plt.plot(valLosses)\n",
        "plt.title('model loss')\n",
        "plt.ylabel('loss')\n",
        "plt.xlabel('epoch')\n",
        "plt.legend(['train', 'validation'], loc='upper right')\n",
        "plt.show()\n",
        "\n",
        "plt.plot(trAccs)\n",
        "plt.plot(valAccs)\n",
        "plt.title('model accuracy')\n",
        "plt.ylabel('accuracy')\n",
        "plt.xlabel('epoch')\n",
        "plt.legend(['train', 'validation'], loc='lower right')\n",
        "plt.show()"
      ],
      "execution_count": null,
      "outputs": [
        {
          "output_type": "stream",
          "text": [
            "Finished Training\n"
          ],
          "name": "stdout"
        },
        {
          "output_type": "display_data",
          "data": {
            "image/png": "[encoded data removed]",
            "text/plain": [
              "<Figure size 432x288 with 1 Axes>"
            ]
          },
          "metadata": {
            "tags": [],
            "needs_background": "light"
          }
        },
        {
          "output_type": "display_data",
          "data": {
            "image/png": "[encoded data removed]",
            "text/plain": [
              "<Figure size 432x288 with 1 Axes>"
            ]
          },
          "metadata": {
            "tags": [],
            "needs_background": "light"
          }
        }
      ]
    },
    {
      "cell_type": "markdown",
      "metadata": {
        "id": "izeL41FVJzHo"
      },
      "source": [
        "#Test"
      ]
    },
    {
      "cell_type": "markdown",
      "metadata": {
        "id": "6T9waH4cfDuU"
      },
      "source": [
        "##CIFAR10"
      ]
    },
    {
      "cell_type": "code",
      "metadata": {
        "colab": {
          "base_uri": "https://localhost:8080/",
          "height": 144
        },
        "id": "WWL_liLFKAc8",
        "outputId": "3ef5f23d-3864-44f4-ce1f-0b5246205278"
      },
      "source": [
        "dataiter = iter(testLoader)\n",
        "images, labels = dataiter.next()\n",
        "\n",
        "sampleImages = []\n",
        "for i in range(6):\n",
        "    sampleImages.append(images[i])\n",
        "    \n",
        "# show images\n",
        "imshow(torchvision.utils.make_grid(sampleImages))\n",
        "# print labels\n",
        "print(' '.join('%7s' % classes[labels[j]] for j in range(6)))"
      ],
      "execution_count": null,
      "outputs": [
        {
          "output_type": "stream",
          "text": [
            "Clipping input data to the valid range for imshow with RGB data ([0..1] for floats or [0..255] for integers).\n"
          ],
          "name": "stderr"
        },
        {
          "output_type": "display_data",
          "data": {
            "image/png": "[encoded data removed]",
            "text/plain": [
              "<Figure size 432x288 with 1 Axes>"
            ]
          },
          "metadata": {
            "tags": [],
            "needs_background": "light"
          }
        },
        {
          "output_type": "stream",
          "text": [
            "    cat    ship    ship   plane    frog    frog\n"
          ],
          "name": "stdout"
        }
      ]
    },
    {
      "cell_type": "code",
      "metadata": {
        "id": "mZlRnGDPKXKM"
      },
      "source": [
        "outputs = net(images.cuda())"
      ],
      "execution_count": null,
      "outputs": []
    },
    {
      "cell_type": "code",
      "metadata": {
        "colab": {
          "base_uri": "https://localhost:8080/"
        },
        "id": "aYNa_a3FL_2j",
        "outputId": "5792918b-17bf-4c25-b82f-9bed8afc816d"
      },
      "source": [
        "_, predicted = torch.max(outputs, 1)\n",
        "\n",
        "print('Predicted: ', ' '.join('%7s' % classes[predicted[j]]\n",
        "                              for j in range(6)))"
      ],
      "execution_count": null,
      "outputs": [
        {
          "output_type": "stream",
          "text": [
            "Predicted:      cat    ship    ship   plane    frog    frog\n"
          ],
          "name": "stdout"
        }
      ]
    },
    {
      "cell_type": "code",
      "metadata": {
        "colab": {
          "base_uri": "https://localhost:8080/"
        },
        "id": "1w4yiJMkMSKf",
        "outputId": "a784feb4-1218-4ac2-9c51-d4d50a66b0e9"
      },
      "source": [
        "correct = 0\n",
        "total = 0\n",
        "with torch.no_grad():\n",
        "    for data in testLoader:\n",
        "        images, labels = data\n",
        "        outputs = net(images.cuda())\n",
        "        _, predicted = torch.max(outputs.data, 1)\n",
        "        total += labels.size(0)\n",
        "        correct += (predicted == labels.cuda()).sum().item()\n",
        "\n",
        "print('Accuracy of the network on the test images: %d %%' %(100*correct/total))"
      ],
      "execution_count": null,
      "outputs": [
        {
          "output_type": "stream",
          "text": [
            "Accuracy of the network on the test images: 87 %\n"
          ],
          "name": "stdout"
        }
      ]
    },
    {
      "cell_type": "code",
      "metadata": {
        "colab": {
          "base_uri": "https://localhost:8080/"
        },
        "id": "S08WeGDaMsiu",
        "outputId": "793e823a-485d-4e01-ab87-f5204428ecee"
      },
      "source": [
        "class_correct = list(0. for i in range(10))\n",
        "class_total = list(0. for i in range(10))\n",
        "with torch.no_grad():\n",
        "    for data in testLoader:\n",
        "        images, labels = data\n",
        "        outputs = net(images.cuda())\n",
        "        _, predicted = torch.max(outputs, 1)\n",
        "        c = (predicted == labels.cuda()).squeeze()\n",
        "        for i in range(4):\n",
        "            label = labels[i]\n",
        "            class_correct[label] += c[i].item()\n",
        "            class_total[label] += 1\n",
        "\n",
        "for i in range(10):\n",
        "    print('Accuracy of %5s : %2d %%' % (\n",
        "        classes[i], 100 * class_correct[i] / class_total[i]))"
      ],
      "execution_count": null,
      "outputs": [
        {
          "output_type": "stream",
          "text": [
            "Accuracy of plane : 93 %\n",
            "Accuracy of   car : 92 %\n",
            "Accuracy of  bird : 78 %\n",
            "Accuracy of   cat : 67 %\n",
            "Accuracy of  deer : 85 %\n",
            "Accuracy of   dog : 84 %\n",
            "Accuracy of  frog : 80 %\n",
            "Accuracy of horse : 92 %\n",
            "Accuracy of  ship : 96 %\n",
            "Accuracy of truck : 92 %\n"
          ],
          "name": "stdout"
        }
      ]
    },
    {
      "cell_type": "markdown",
      "metadata": {
        "id": "I0GX-8sufGz7"
      },
      "source": [
        "##MNIST"
      ]
    },
    {
      "cell_type": "code",
      "metadata": {
        "id": "4hwBKuLpfIlS"
      },
      "source": [
        "classes = ('0', '1', '2', '3', '4', '5', '6', '7', '8', '9')"
      ],
      "execution_count": null,
      "outputs": []
    },
    {
      "cell_type": "code",
      "metadata": {
        "id": "8FZHf0czhKKb"
      },
      "source": [
        "import matplotlib.pyplot as plt\n",
        "import numpy as np\n",
        "\n",
        "# functions to show an image\n",
        "def imshow(img):\n",
        "    img = (img * trainStd) + trainMean      # unnormalize\n",
        "    npimg = img.numpy()\n",
        "    plt.imshow(np.transpose(npimg, (1, 2, 0)))\n",
        "    plt.show()"
      ],
      "execution_count": null,
      "outputs": []
    },
    {
      "cell_type": "code",
      "metadata": {
        "colab": {
          "base_uri": "https://localhost:8080/",
          "height": 144
        },
        "id": "v0e7uzKmfq0V",
        "outputId": "b3a988a0-f603-4cab-9326-848f5c65b30b"
      },
      "source": [
        "dataiter = iter(testLoader)\n",
        "images, labels = dataiter.next()\n",
        "\n",
        "sampleImages = []\n",
        "for i in range(6):\n",
        "    sampleImages.append(images[i])\n",
        "    \n",
        "# show images\n",
        "imshow(torchvision.utils.make_grid(sampleImages))\n",
        "# print labels\n",
        "print(' '.join('%7s' % classes[labels[j]] for j in range(6)))"
      ],
      "execution_count": null,
      "outputs": [
        {
          "output_type": "stream",
          "text": [
            "Clipping input data to the valid range for imshow with RGB data ([0..1] for floats or [0..255] for integers).\n"
          ],
          "name": "stderr"
        },
        {
          "output_type": "display_data",
          "data": {
            "image/png": "[encoded data removed]",
            "text/plain": [
              "<Figure size 432x288 with 1 Axes>"
            ]
          },
          "metadata": {
            "tags": [],
            "needs_background": "light"
          }
        },
        {
          "output_type": "stream",
          "text": [
            "      7       2       1       0       4       1\n"
          ],
          "name": "stdout"
        }
      ]
    },
    {
      "cell_type": "code",
      "metadata": {
        "id": "A4kCinn3fsze"
      },
      "source": [
        "outputs = net(images.cuda())"
      ],
      "execution_count": null,
      "outputs": []
    },
    {
      "cell_type": "code",
      "metadata": {
        "colab": {
          "base_uri": "https://localhost:8080/"
        },
        "id": "w4U9jg4Mfuq2",
        "outputId": "6299822f-a4ff-421e-9704-c06807dda937"
      },
      "source": [
        "_, predicted = torch.max(outputs, 1)\n",
        "\n",
        "print('Predicted: ', ' '.join('%7s' % classes[predicted[j]]\n",
        "                              for j in range(6)))"
      ],
      "execution_count": null,
      "outputs": [
        {
          "output_type": "stream",
          "text": [
            "Predicted:        7       2       1       0       4       1\n"
          ],
          "name": "stdout"
        }
      ]
    },
    {
      "cell_type": "code",
      "metadata": {
        "colab": {
          "base_uri": "https://localhost:8080/"
        },
        "id": "Qvr6TJqnflFe",
        "outputId": "ef2a5c45-8726-4392-9e8d-3d2558806f23"
      },
      "source": [
        "correct = 0\n",
        "total = 0\n",
        "wrong = []\n",
        "batch = 0;\n",
        "with torch.no_grad():\n",
        "    for data in testLoader:\n",
        "        images, labels = data\n",
        "        outputs = net(images.cuda())\n",
        "        _, predicted = torch.max(outputs.data, 1)\n",
        "        total += labels.size(0)\n",
        "        correct += (predicted == labels.cuda()).sum().item()\n",
        "\n",
        "        # batch, position, true, predicted\n",
        "        for i in range(len(images)):\n",
        "          if (predicted[i].cpu().numpy() != labels.cuda()[i].cpu().numpy()):\n",
        "            wrong.append([batch, i, labels.cuda()[i].cpu().numpy(), predicted[i].cpu().numpy()])\n",
        "\n",
        "        batch += 1\n",
        "\n",
        "print('Accuracy of the network on the test images: %f %%' %(100*correct/total))"
      ],
      "execution_count": null,
      "outputs": [
        {
          "output_type": "stream",
          "text": [
            "Accuracy of the network on the test images: 99.590000 %\n"
          ],
          "name": "stdout"
        }
      ]
    },
    {
      "cell_type": "code",
      "metadata": {
        "colab": {
          "base_uri": "https://localhost:8080/"
        },
        "id": "Q2eM_U0Ld5b7",
        "outputId": "6be83a01-e74c-4aca-85c4-f448f24df2bb"
      },
      "source": [
        "correct = 0\n",
        "total = 0\n",
        "wrong = []\n",
        "batch = 0;\n",
        "with torch.no_grad():\n",
        "    for data in testLoader:\n",
        "        images, labels = data\n",
        "        outputs = net(images.cuda())\n",
        "        _, predicted = torch.max(outputs.data, 1)\n",
        "        total += labels.size(0)\n",
        "        correct += (predicted == labels.cuda()).sum().item()\n",
        "\n",
        "        # batch, position, true, predicted\n",
        "        for i in range(len(images)):\n",
        "          if (predicted[i].cpu().numpy() != labels.cuda()[i].cpu().numpy()):\n",
        "            wrong.append([batch, i, labels.cuda()[i].cpu().numpy(), predicted[i].cpu().numpy()])\n",
        "\n",
        "        batch += 1\n",
        "\n",
        "print('Accuracy of the network on the test images: %f %%' %(100*correct/total))"
      ],
      "execution_count": null,
      "outputs": [
        {
          "output_type": "stream",
          "text": [
            "Accuracy of the network on the test images: 99.660000 %\n"
          ],
          "name": "stdout"
        }
      ]
    },
    {
      "cell_type": "code",
      "metadata": {
        "colab": {
          "base_uri": "https://localhost:8080/"
        },
        "id": "Dni8NSYqUjRT",
        "outputId": "e34dce0c-163b-419e-a3de-5e12ee77f7f6"
      },
      "source": [
        "correct = 0\n",
        "total = 0\n",
        "wrong = []\n",
        "batch = 0;\n",
        "with torch.no_grad():\n",
        "    for data in testLoader:\n",
        "        images, labels = data\n",
        "        outputs = net(images.cuda())\n",
        "        _, predicted = torch.max(outputs.data, 1)\n",
        "        total += labels.size(0)\n",
        "        correct += (predicted == labels.cuda()).sum().item()\n",
        "\n",
        "        # batch, position, true, predicted\n",
        "        for i in range(len(images)):\n",
        "          if (predicted[i].cpu().numpy() != labels.cuda()[i].cpu().numpy()):\n",
        "            wrong.append([batch, i, labels.cuda()[i].cpu().numpy(), predicted[i].cpu().numpy()])\n",
        "\n",
        "        batch += 1\n",
        "\n",
        "print('Accuracy of the network on the test images: %f %%' %(100*correct/total))"
      ],
      "execution_count": null,
      "outputs": [
        {
          "output_type": "stream",
          "text": [
            "Accuracy of the network on the test images: 99.640000 %\n"
          ],
          "name": "stdout"
        }
      ]
    },
    {
      "cell_type": "code",
      "metadata": {
        "id": "R0NUtDLw1q0L"
      },
      "source": [
        "dataiter = iter(testLoader)\n",
        "batch = 0;\n",
        "sampleImages = []\n",
        "\n",
        "for i in range(len(dataiter)):\n",
        "  images, labels = dataiter.next()\n",
        "  for j in range(len(wrong)):\n",
        "    if (batch == wrong[j][0]):\n",
        "      sampleImages.append(images[wrong[j][1]])\n",
        "  batch += 1"
      ],
      "execution_count": null,
      "outputs": []
    },
    {
      "cell_type": "code",
      "metadata": {
        "colab": {
          "base_uri": "https://localhost:8080/",
          "height": 278
        },
        "id": "W4LHJsMqcWGz",
        "outputId": "ea6459bd-db83-4a64-808f-0cd3a4b04d2e"
      },
      "source": [
        "imshow(torchvision.utils.make_grid(sampleImages))"
      ],
      "execution_count": null,
      "outputs": [
        {
          "output_type": "stream",
          "text": [
            "Clipping input data to the valid range for imshow with RGB data ([0..1] for floats or [0..255] for integers).\n"
          ],
          "name": "stderr"
        },
        {
          "output_type": "display_data",
          "data": {
            "image/png": "[encoded data removed]",
            "text/plain": [
              "<Figure size 432x288 with 1 Axes>"
            ]
          },
          "metadata": {
            "tags": [],
            "needs_background": "light"
          }
        }
      ]
    },
    {
      "cell_type": "code",
      "metadata": {
        "colab": {
          "base_uri": "https://localhost:8080/"
        },
        "id": "RK1oTBihzsUy",
        "outputId": "9ad4f627-f833-4ab3-c96e-e4337608f28c"
      },
      "source": [
        "for i in range(len(wrong)):\n",
        "  print(wrong[i])"
      ],
      "execution_count": null,
      "outputs": [
        {
          "output_type": "stream",
          "text": [
            "[3, 65, array(3), array(5)]\n",
            "[5, 6, array(2), array(6)]\n",
            "[7, 118, array(6), array(0)]\n",
            "[9, 80, array(9), array(4)]\n",
            "[9, 108, array(7), array(1)]\n",
            "[10, 113, array(5), array(3)]\n",
            "[11, 36, array(6), array(0)]\n",
            "[14, 109, array(9), array(4)]\n",
            "[15, 115, array(5), array(3)]\n",
            "[16, 70, array(6), array(0)]\n",
            "[16, 82, array(4), array(9)]\n",
            "[16, 87, array(6), array(1)]\n",
            "[17, 6, array(1), array(3)]\n",
            "[19, 30, array(2), array(0)]\n",
            "[20, 37, array(5), array(3)]\n",
            "[20, 94, array(6), array(1)]\n",
            "[22, 80, array(8), array(0)]\n",
            "[23, 9, array(3), array(5)]\n",
            "[23, 86, array(6), array(0)]\n",
            "[25, 25, array(7), array(9)]\n",
            "[26, 94, array(6), array(0)]\n",
            "[27, 102, array(5), array(0)]\n",
            "[30, 13, array(6), array(0)]\n",
            "[35, 91, array(6), array(8)]\n",
            "[37, 4, array(3), array(5)]\n",
            "[37, 78, array(6), array(0)]\n",
            "[46, 49, array(5), array(3)]\n",
            "[51, 43, array(9), array(7)]\n",
            "[51, 48, array(7), array(1)]\n",
            "[51, 69, array(0), array(7)]\n",
            "[57, 104, array(2), array(7)]\n",
            "[64, 124, array(7), array(2)]\n",
            "[75, 42, array(9), array(7)]\n",
            "[76, 1, array(5), array(6)]\n"
          ],
          "name": "stdout"
        }
      ]
    },
    {
      "cell_type": "code",
      "metadata": {
        "colab": {
          "base_uri": "https://localhost:8080/"
        },
        "id": "XHAqW8xuYebi",
        "outputId": "e0548f76-b183-4cc4-cbb5-73a9500aa2e3"
      },
      "source": [
        "class_correct = list(0. for i in range(10))\n",
        "class_total = list(0. for i in range(10))\n",
        "with torch.no_grad():\n",
        "    for data in testLoader:\n",
        "        images, labels = data\n",
        "        outputs = net(images.cuda())\n",
        "        _, predicted = torch.max(outputs, 1)\n",
        "        c = (predicted == labels.cuda()).squeeze()\n",
        "        for i in range(len(images)):\n",
        "            label = labels[i]\n",
        "            class_correct[label] += c[i].item()\n",
        "            class_total[label] += 1\n",
        "\n",
        "for i in range(10):\n",
        "    print('Accuracy of %1s : %2f %%' % (\n",
        "        classes[i], 100 * class_correct[i] / class_total[i]))"
      ],
      "execution_count": null,
      "outputs": [
        {
          "output_type": "stream",
          "text": [
            "Accuracy of 0 : 99.897959 %\n",
            "Accuracy of 1 : 99.911894 %\n",
            "Accuracy of 2 : 99.806202 %\n",
            "Accuracy of 3 : 99.603960 %\n",
            "Accuracy of 4 : 99.796334 %\n",
            "Accuracy of 5 : 99.215247 %\n",
            "Accuracy of 6 : 99.269311 %\n",
            "Accuracy of 7 : 99.513619 %\n",
            "Accuracy of 8 : 99.794661 %\n",
            "Accuracy of 9 : 99.405352 %\n"
          ],
          "name": "stdout"
        }
      ]
    },
    {
      "cell_type": "code",
      "metadata": {
        "id": "uW6c-vlQUmnL"
      },
      "source": [
        "net.eval()\n",
        "conf = torch.zeros(10,10)\n",
        "\n",
        "# Epoch loop\n",
        "for i, data in enumerate(testLoader, 0):\n",
        "  # get the inputs\n",
        "  inputs, labels = data\n",
        "\n",
        "  # Convert to cuda conditionally\n",
        "  if haveCuda:\n",
        "      inputs, labels = inputs.cuda(), labels.cuda()\n",
        "\n",
        "  # forward\n",
        "  outputs = net(inputs)\n",
        "\n",
        "  # compute statistics\n",
        "  _, predicted = torch.max(outputs, 1)\n",
        "  for label,pred in zip (labels,predicted):\n",
        "    conf[label,pred] += 1\n",
        "\n",
        "# print(conf)"
      ],
      "execution_count": null,
      "outputs": []
    },
    {
      "cell_type": "code",
      "metadata": {
        "id": "jRDLOAJgriwW"
      },
      "source": [
        "conf_array=conf.numpy()"
      ],
      "execution_count": null,
      "outputs": []
    },
    {
      "cell_type": "code",
      "metadata": {
        "colab": {
          "base_uri": "https://localhost:8080/"
        },
        "id": "ysEO3-p4r2PP",
        "outputId": "6db02fd0-6f7a-4e43-95d7-e852a30707c5"
      },
      "source": [
        "for i in range(10):\n",
        "  line=\"\"\n",
        "  for j in range(10):\n",
        "    line+='| %4d ' % conf_array[i][j]\n",
        "  line+='|'\n",
        "  print(line)"
      ],
      "execution_count": null,
      "outputs": [
        {
          "output_type": "stream",
          "text": [
            "|  979 |    0 |    0 |    0 |    0 |    0 |    0 |    1 |    0 |    0 |\n",
            "|    0 | 1134 |    0 |    1 |    0 |    0 |    0 |    0 |    0 |    0 |\n",
            "|    0 |    0 | 1030 |    0 |    0 |    0 |    0 |    2 |    0 |    0 |\n",
            "|    0 |    0 |    0 | 1006 |    0 |    3 |    0 |    0 |    0 |    1 |\n",
            "|    0 |    0 |    0 |    0 |  980 |    0 |    0 |    0 |    0 |    2 |\n",
            "|    1 |    0 |    0 |    5 |    0 |  885 |    1 |    0 |    0 |    0 |\n",
            "|    4 |    1 |    0 |    0 |    1 |    0 |  951 |    0 |    1 |    0 |\n",
            "|    0 |    2 |    3 |    0 |    0 |    0 |    0 | 1023 |    0 |    0 |\n",
            "|    0 |    0 |    0 |    1 |    0 |    0 |    0 |    0 |  972 |    1 |\n",
            "|    0 |    0 |    0 |    0 |    5 |    0 |    0 |    0 |    1 | 1003 |\n"
          ],
          "name": "stdout"
        }
      ]
    }
  ]
}