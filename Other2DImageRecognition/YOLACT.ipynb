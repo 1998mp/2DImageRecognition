{
  "nbformat": 4,
  "nbformat_minor": 0,
  "metadata": {
    "colab": {
      "provenance": []
    },
    "kernelspec": {
      "name": "python3",
      "display_name": "Python 3"
    },
    "language_info": {
      "name": "python"
    },
    "accelerator": "GPU"
  },
  "cells": [
    {
      "cell_type": "markdown",
      "metadata": {
        "id": "S8rG9CEyqGdT"
      },
      "source": [
        "#YOLACT/YOLACT++"
      ]
    },
    {
      "cell_type": "markdown",
      "metadata": {
        "id": "jHUnlQburpC_"
      },
      "source": [
        "https://github.com/dbolya/yolact"
      ]
    },
    {
      "cell_type": "code",
      "metadata": {
        "id": "9dlXY5Mja0Ja"
      },
      "source": [
        "%cd /content/"
      ],
      "execution_count": null,
      "outputs": []
    },
    {
      "cell_type": "code",
      "metadata": {
        "id": "UQKHcvULMlqB"
      },
      "source": [
        "!git clone https://github.com/dbolya/yolact.git"
      ],
      "execution_count": null,
      "outputs": []
    },
    {
      "cell_type": "code",
      "metadata": {
        "id": "l2OXf9isNQQw"
      },
      "source": [
        "%cd yolact"
      ],
      "execution_count": null,
      "outputs": []
    },
    {
      "cell_type": "code",
      "metadata": {
        "id": "_ORQBNq6ux1U"
      },
      "source": [
        "!pip3 install torch torchvision Pillow"
      ],
      "execution_count": null,
      "outputs": []
    },
    {
      "cell_type": "code",
      "metadata": {
        "id": "WdR64N6RNR2n"
      },
      "source": [
        "import torch\n",
        "import torchvision"
      ],
      "execution_count": null,
      "outputs": []
    },
    {
      "cell_type": "code",
      "metadata": {
        "id": "NQyb_xmENVM-"
      },
      "source": [
        "!pip install cython\n",
        "!pip install opencv-python pillow pycocotools matplotlib "
      ],
      "execution_count": null,
      "outputs": []
    },
    {
      "cell_type": "markdown",
      "metadata": {
        "id": "jaOKAoJLYILR"
      },
      "source": [
        "YOLACT++"
      ]
    },
    {
      "cell_type": "code",
      "metadata": {
        "id": "sfXvOUVjhqZ7"
      },
      "source": [
        "!pip install ninja"
      ],
      "execution_count": null,
      "outputs": []
    },
    {
      "cell_type": "code",
      "metadata": {
        "id": "-ntYQKpQoKk-"
      },
      "source": [
        "!apt install cuda-11-2 -y"
      ],
      "execution_count": null,
      "outputs": []
    },
    {
      "cell_type": "markdown",
      "metadata": {
        "id": "iYI94P-vqLzC"
      },
      "source": [
        "A YOLACT++-hoz ezek a verziók kellenek."
      ]
    },
    {
      "cell_type": "code",
      "metadata": {
        "id": "w2ywlCiZn4DS"
      },
      "source": [
        "!pip install -q torch==1.4.0 torchvision==0.5.0 "
      ],
      "execution_count": null,
      "outputs": []
    },
    {
      "cell_type": "code",
      "metadata": {
        "id": "uR0vYcJLVLR2"
      },
      "source": [
        "# Change to the right directory\n",
        "%cd /content/yolact/external/DCNv2\n",
        "\n",
        "# Build DCNv2\n",
        "!python setup.py build develop"
      ],
      "execution_count": null,
      "outputs": []
    },
    {
      "cell_type": "code",
      "metadata": {
        "id": "ceJD0bF1pOHh"
      },
      "source": [
        "%cd /content/yolact"
      ],
      "execution_count": null,
      "outputs": []
    },
    {
      "cell_type": "code",
      "metadata": {
        "id": "ZDZItErTRYfs"
      },
      "source": [
        "!mkdir weights"
      ],
      "execution_count": null,
      "outputs": []
    },
    {
      "cell_type": "markdown",
      "metadata": {
        "id": "bgSrh2gpa8QL"
      },
      "source": [
        "A megfelelő súlyok letöltéséhez szükséges."
      ]
    },
    {
      "cell_type": "markdown",
      "metadata": {
        "id": "owY-TFPzbYAf"
      },
      "source": [
        "https://colab.research.google.com/drive/1ncRxvmNR-iTtQCscj2UFSGV8ZQX_LN0M#scrollTo=683HeW9lJ6cA"
      ]
    },
    {
      "cell_type": "code",
      "metadata": {
        "id": "ylJWaodITFKB"
      },
      "source": [
        "# Clone the repo\n",
        "!git clone https://github.com/chentinghao/download_google_drive.git"
      ],
      "execution_count": null,
      "outputs": []
    },
    {
      "cell_type": "markdown",
      "metadata": {
        "id": "4mnziuyubg_N"
      },
      "source": [
        "yolact_resnet50_54_800000.pth"
      ]
    },
    {
      "cell_type": "code",
      "metadata": {
        "id": "XgHpzRxQSy8F"
      },
      "source": [
        "!python ./download_google_drive/download_gdrive.py 1yp7ZbbDwvMiFJEq4ptVKTYTI2VeRDXl0 weights/yolact_resnet50_54_800000.pth"
      ],
      "execution_count": null,
      "outputs": []
    },
    {
      "cell_type": "markdown",
      "metadata": {
        "id": "0zYNBgf6bh90"
      },
      "source": [
        "yolact_darknet53_54_800000.pth"
      ]
    },
    {
      "cell_type": "code",
      "metadata": {
        "id": "IwuN0uOTbiWt"
      },
      "source": [
        "!python ./download_google_drive/download_gdrive.py 1dukLrTzZQEuhzitGkHaGjphlmRJOjVnP weights/yolact_darknet53_54_800000.pth"
      ],
      "execution_count": null,
      "outputs": []
    },
    {
      "cell_type": "markdown",
      "metadata": {
        "id": "OSrwjeAFbii5"
      },
      "source": [
        "yolact_base_54_800000.pth"
      ]
    },
    {
      "cell_type": "code",
      "metadata": {
        "id": "j1YL9oScbi9i"
      },
      "source": [
        "!python ./download_google_drive/download_gdrive.py 1UYy3dMapbH1BnmtZU4WH1zbYgOzzHHf_ weights/yolact_base_54_800000.pth"
      ],
      "execution_count": null,
      "outputs": []
    },
    {
      "cell_type": "markdown",
      "metadata": {
        "id": "dYXbwRsQbjXv"
      },
      "source": [
        "yolact_im700_54_800000.pth"
      ]
    },
    {
      "cell_type": "code",
      "metadata": {
        "id": "s0VHgfjxbjuu"
      },
      "source": [
        "!python ./download_google_drive/download_gdrive.py 1lE4Lz5p25teiXV-6HdTiOJSnS7u7GBzg weights/yolact_im700_54_800000.pth"
      ],
      "execution_count": null,
      "outputs": []
    },
    {
      "cell_type": "markdown",
      "metadata": {
        "id": "IN1TZyU0oxRK"
      },
      "source": [
        "yolact_plus_resnet50_54_800000.pth"
      ]
    },
    {
      "cell_type": "code",
      "metadata": {
        "id": "mCcdGvVmo4kO"
      },
      "source": [
        "!python ./download_google_drive/download_gdrive.py 1ZPu1YR2UzGHQD0o1rEqy-j5bmEm3lbyP weights/yolact_plus_resnet50_54_800000.pth"
      ],
      "execution_count": null,
      "outputs": []
    },
    {
      "cell_type": "markdown",
      "metadata": {
        "id": "Bigm6OsZpDmY"
      },
      "source": [
        "yolact_plus_base_54_800000.pth"
      ]
    },
    {
      "cell_type": "code",
      "metadata": {
        "id": "I9Z0zXd3pFTH"
      },
      "source": [
        "!python ./download_google_drive/download_gdrive.py 15id0Qq5eqRbkD-N3ZjDZXdCvRyIaHpFB weights/yolact_plus_base_54_800000.pth"
      ],
      "execution_count": null,
      "outputs": []
    },
    {
      "cell_type": "markdown",
      "metadata": {
        "id": "fsnnyNzRUrO8"
      },
      "source": [
        "## Training"
      ]
    },
    {
      "cell_type": "code",
      "metadata": {
        "id": "UgKMSuMgc7ho"
      },
      "source": [
        "!python train.py --help"
      ],
      "execution_count": null,
      "outputs": []
    },
    {
      "cell_type": "code",
      "metadata": {
        "id": "tH_HmAjCerz3"
      },
      "source": [
        "!python ./download_google_drive/download_gdrive.py 1tvqFPd4bJtakOlmn-uIA492g2qurRChj weights/resnet101_reducedfc.pth"
      ],
      "execution_count": null,
      "outputs": []
    },
    {
      "cell_type": "markdown",
      "metadata": {
        "id": "0fta5vpSep-2"
      },
      "source": [
        "A max_itert lejebb kell venni, a colab korlátai végett.\n",
        "\n",
        "my_custom_dataset = dataset_base.copy({ 'name': 'My Dataset',\n",
        "\n",
        "    'train_images': '/content/drive/MyDrive/SUNRGBD/dataset/train/',\n",
        "    'train_info':   '/content/drive/MyDrive/SUNRGBD/train.json',\n",
        "    \n",
        "    'valid_images': '/content/drive/MyDrive/SUNRGBD/dataset/test/',\n",
        "    'valid_info':   '/content/drive/MyDrive/SUNRGBD/test.json',\n",
        "    \n",
        "    'has_gt': True,\n",
        "    'class_names': (\"wall\", \"floor\", \"cabinet\", \"bed\", \"chair\", \"sofa\", \"table\", \"door\", \"window\", \"bookshelf\", \n",
        "                    \"picture\", \"counter\", \"blinds\", \"desk\", \"shelves\", \"curtain\", \"dresser\", \"pillow\", \n",
        "                    \"mirror\", \"floor_mat\", \"clothes\", \"ceiling\", \"books\", \"fridge\", \"tv\", \"paper\", \n",
        "                    \"towel\", \"shower_curtain\", \"box\", \"whiteboard\", \"person\", \"night_stand\", \"toilet\", \n",
        "                    \"sink\", \"lamp\", \"bathtub\", \"bag\")\n",
        "})\n",
        "\n",
        "A yolact_base_config-ban 2 helyen módosítani kell a dataset-t a my_custom_dataset-re."
      ]
    },
    {
      "cell_type": "code",
      "metadata": {
        "id": "_v_CJc-oeNLD"
      },
      "source": [
        "!python train.py --config=yolact_plus_base_config"
      ],
      "execution_count": null,
      "outputs": []
    },
    {
      "cell_type": "code",
      "metadata": {
        "id": "Ka_T677AfDbb"
      },
      "source": [
        "import shutil\n",
        "shutil.copytree(\"/content/yolact/weights/\", \"/content/drive/MyDrive/SUNRGBD/weights/\")"
      ],
      "execution_count": null,
      "outputs": []
    },
    {
      "cell_type": "code",
      "metadata": {
        "id": "hYtX3THPddvb"
      },
      "source": [
        "# Trains using the base config with a batch size of 8 (the default).\n",
        "!python train.py --config=yolact_base_config"
      ],
      "execution_count": null,
      "outputs": []
    },
    {
      "cell_type": "code",
      "metadata": {
        "id": "uqBL1SwrWcSC"
      },
      "source": [
        "import shutil"
      ],
      "execution_count": null,
      "outputs": []
    },
    {
      "cell_type": "code",
      "metadata": {
        "id": "cQ_FxrxmUnC-"
      },
      "source": [
        "shutil.copy(\"/content/yolact/weights/yolact_base_15_10000.pth\", \"/content/drive/MyDrive/SUNRGBD/yolact_base_15_10000.pth\")"
      ],
      "execution_count": null,
      "outputs": []
    },
    {
      "cell_type": "markdown",
      "metadata": {
        "id": "TQS0pb0kjBCf"
      },
      "source": [
        "## Eval\n",
        "- Video"
      ]
    },
    {
      "cell_type": "code",
      "metadata": {
        "id": "_m_pjxDnN_E-"
      },
      "source": [
        "# Process a video and save it to another file. This uses the same pipeline as the ones above now, so it's fast!\n",
        "# !python eval.py --trained_model=weights/yolact_base_54_800000.pth --score_threshold=0.15 --top_k=15 --video_multiframe=4 --video=input_video.mp4:output_video.mp4"
      ],
      "execution_count": null,
      "outputs": []
    },
    {
      "cell_type": "code",
      "metadata": {
        "id": "y4XHPiQoOekI"
      },
      "source": [
        "!python eval.py --trained_model=weights/yolact_resnet50_54_800000.pth --score_threshold=0.15 --top_k=15 --video_multiframe=4 --video=proba.mp4:yolact_resnet50_54_800000.mp4"
      ],
      "execution_count": null,
      "outputs": []
    },
    {
      "cell_type": "code",
      "metadata": {
        "id": "Gq7gPyqbhEbU"
      },
      "source": [
        "!python eval.py --trained_model=weights/yolact_darknet53_54_800000.pth --score_threshold=0.15 --top_k=15 --video_multiframe=4 --video=proba.mp4:yolact_darknet53_54_800000.mp4"
      ],
      "execution_count": null,
      "outputs": []
    },
    {
      "cell_type": "code",
      "metadata": {
        "id": "5N3u4I2NhE1s"
      },
      "source": [
        "!python eval.py --trained_model=weights/yolact_base_54_800000.pth --score_threshold=0.15 --top_k=15 --video_multiframe=4 --video=proba.mp4:yolact_base_54_800000.mp4"
      ],
      "execution_count": null,
      "outputs": []
    },
    {
      "cell_type": "code",
      "metadata": {
        "id": "5fmQPd6GhFIu"
      },
      "source": [
        "!python eval.py --trained_model=weights/yolact_im700_54_800000.pth --score_threshold=0.15 --top_k=15 --video_multiframe=4 --video=proba.mp4:yolact_im700_54_800000.mp4"
      ],
      "execution_count": null,
      "outputs": []
    },
    {
      "cell_type": "code",
      "metadata": {
        "id": "Lu-2OOsDpgzh"
      },
      "source": [
        "!python eval.py --trained_model=weights/yolact_plus_base_54_800000.pth --score_threshold=0.15 --top_k=15 --video_multiframe=4 --video=proba.mp4:yolact_plus_base_54_800000.mp4"
      ],
      "execution_count": null,
      "outputs": []
    },
    {
      "cell_type": "code",
      "metadata": {
        "id": "ZanUUDY3pgsa"
      },
      "source": [
        "!python eval.py --trained_model=weights/yolact_plus_resnet50_54_800000.pth --score_threshold=0.15 --top_k=15 --video_multiframe=4 --video=proba.mp4:yolact_plus_resnet50_54_800000.mp4"
      ],
      "execution_count": null,
      "outputs": []
    },
    {
      "cell_type": "markdown",
      "metadata": {
        "id": "uafYuuG8j83T"
      },
      "source": [
        "## OpenCV\n",
        "OpenCV segítségével a videóból képeket mentek el."
      ]
    },
    {
      "cell_type": "code",
      "metadata": {
        "id": "Et4q3ZhDkrjz"
      },
      "source": [
        "%cd /content/"
      ],
      "execution_count": null,
      "outputs": []
    },
    {
      "cell_type": "code",
      "metadata": {
        "id": "EcNZbfHSj6w7"
      },
      "source": [
        "import cv2"
      ],
      "execution_count": null,
      "outputs": []
    },
    {
      "cell_type": "code",
      "metadata": {
        "id": "u7Wd2Tx_kHv7"
      },
      "source": [
        "!mkdir images"
      ],
      "execution_count": null,
      "outputs": []
    },
    {
      "cell_type": "code",
      "metadata": {
        "id": "hoKzVAm1kHkW"
      },
      "source": [
        "def saveImages(pathIn, pathOut):\n",
        "    count = 0\n",
        "    time = 1000\n",
        "    videoCapture = cv2.VideoCapture(pathIn)\n",
        "    success,image = videoCapture.read()\n",
        "    success = True\n",
        "\n",
        "    while success:\n",
        "        videoCapture.set(cv2.CAP_PROP_POS_MSEC,(count*time))    \n",
        "        success,image = videoCapture.read()\n",
        "        if (success):\n",
        "            cv2.imwrite(pathOut + \"image%d.jpg\" % count, image)     \n",
        "        count += 1"
      ],
      "execution_count": null,
      "outputs": []
    },
    {
      "cell_type": "code",
      "metadata": {
        "id": "M62je8MrkK3d"
      },
      "source": [
        "saveImages(\"/content/video.mp4\",\"/content/images/\")"
      ],
      "execution_count": null,
      "outputs": []
    },
    {
      "cell_type": "code",
      "metadata": {
        "id": "FHlF_Kg1l-jH"
      },
      "source": [
        "%cd /content/yolact"
      ],
      "execution_count": null,
      "outputs": []
    },
    {
      "cell_type": "code",
      "metadata": {
        "id": "8Sn124SmlarE"
      },
      "source": [
        "!python ./download_google_drive/download_gdrive.py 1JDJZWtJf7ABN0U2JXNP3_M5xcGcb5ov6 kepek.zip"
      ],
      "execution_count": null,
      "outputs": []
    },
    {
      "cell_type": "code",
      "metadata": {
        "id": "XeWMgBMOmLaz"
      },
      "source": [
        "%cd /content/"
      ],
      "execution_count": null,
      "outputs": []
    },
    {
      "cell_type": "code",
      "metadata": {
        "id": "D9l4FSNxmPUC"
      },
      "source": [
        "!unzip /content/yolact/kepek.zip"
      ],
      "execution_count": null,
      "outputs": []
    },
    {
      "cell_type": "markdown",
      "metadata": {
        "id": "kGoRrqdTjRn8"
      },
      "source": [
        "## Eval\n",
        "- Images"
      ]
    },
    {
      "cell_type": "code",
      "metadata": {
        "id": "n0jfzR5cmhfU"
      },
      "source": [
        "%cd /content/yolact"
      ],
      "execution_count": null,
      "outputs": []
    },
    {
      "cell_type": "code",
      "metadata": {
        "id": "cNigYcnUm4Ds"
      },
      "source": [
        "!mkdir results\n",
        "!mkdir results/images\n",
        "!mkdir results/kepek"
      ],
      "execution_count": null,
      "outputs": []
    },
    {
      "cell_type": "code",
      "metadata": {
        "id": "nw17yFbTjUVz"
      },
      "source": [
        "# # Display qualitative results on the specified image.\n",
        "# python eval.py --trained_model=weights/yolact_base_54_800000.pth --score_threshold=0.15 --top_k=15 --image=my_image.png\n",
        "\n",
        "# # Process an image and save it to another file.\n",
        "# python eval.py --trained_model=weights/yolact_base_54_800000.pth --score_threshold=0.15 --top_k=15 --image=input_image.png:output_image.png\n",
        "\n",
        "# # Process a whole folder of images.\n",
        "# python eval.py --trained_model=weights/yolact_base_54_800000.pth --score_threshold=0.15 --top_k=15 --images=path/to/input/folder:path/to/output/folder"
      ],
      "execution_count": null,
      "outputs": []
    },
    {
      "cell_type": "code",
      "metadata": {
        "id": "I44XTEg4jcjC"
      },
      "source": [
        "!python eval.py --trained_model=weights/yolact_plus_base_54_800000.pth --score_threshold=0.15 --top_k=15 --images=/content/images:/content/yolact/results/images"
      ],
      "execution_count": null,
      "outputs": []
    },
    {
      "cell_type": "code",
      "metadata": {
        "id": "0ZwzV2l-n3Nq"
      },
      "source": [
        "!python eval.py --trained_model=weights/yolact_plus_base_54_800000.pth --score_threshold=0.15 --top_k=15 --images=/content/kepek:/content/yolact/results/kepek"
      ],
      "execution_count": null,
      "outputs": []
    },
    {
      "cell_type": "code",
      "metadata": {
        "id": "6OiUA0t6ZyHP"
      },
      "source": [
        "!python eval.py --trained_model=weights/yolact_base_15_10000.pth --score_threshold=0.15 --top_k=15 --images=/content/images:/content/yolact/results/images"
      ],
      "execution_count": null,
      "outputs": []
    },
    {
      "cell_type": "code",
      "metadata": {
        "id": "_2_sEiU1Zx_W"
      },
      "source": [
        "!python eval.py --trained_model=weights/yolact_base_15_10000.pth --score_threshold=0.15 --top_k=15 --images=/content/kepek:/content/yolact/results/kepek"
      ],
      "execution_count": null,
      "outputs": []
    },
    {
      "cell_type": "code",
      "metadata": {
        "id": "UWGDhN2hiaJt"
      },
      "source": [
        "%cd /content/yolact/"
      ],
      "execution_count": null,
      "outputs": []
    },
    {
      "cell_type": "code",
      "metadata": {
        "id": "b0LlzPVhjWo2"
      },
      "source": [
        "import shutil\n",
        "shutil.make_archive(\"images\", 'zip', \"/content/yolact/results/images\")"
      ],
      "execution_count": null,
      "outputs": []
    },
    {
      "cell_type": "code",
      "metadata": {
        "id": "fO-ynjNmkBdF"
      },
      "source": [
        "import shutil\n",
        "shutil.make_archive(\"images2\", 'zip', \"/content/yolact/results/kepek\")"
      ],
      "execution_count": null,
      "outputs": []
    },
    {
      "cell_type": "markdown",
      "metadata": {
        "id": "QUkHMfmOGg5M"
      },
      "source": [
        "https://www.imageclef.org/photodata"
      ]
    },
    {
      "cell_type": "code",
      "metadata": {
        "id": "M__zEQ1mxbIO"
      },
      "source": [
        "!wget http://www-i6.informatik.rwth-aachen.de/imageclef/resources/iaprtc12.tgz"
      ],
      "execution_count": null,
      "outputs": []
    },
    {
      "cell_type": "code",
      "metadata": {
        "id": "CLVbJPU1xopk"
      },
      "source": [
        "!tar -xvzf /content/yolact/iaprtc12.tgz"
      ],
      "execution_count": null,
      "outputs": []
    },
    {
      "cell_type": "code",
      "metadata": {
        "id": "KWLSQptU3JYV"
      },
      "source": [
        "import os\n",
        "dirs = os.listdir('/content/yolact/iaprtc12/images/')"
      ],
      "execution_count": null,
      "outputs": []
    },
    {
      "cell_type": "code",
      "metadata": {
        "id": "dLniuxJb51N1"
      },
      "source": [
        "os.mkdir('/content/iaprtc12/')"
      ],
      "execution_count": null,
      "outputs": []
    },
    {
      "cell_type": "code",
      "metadata": {
        "id": "EENJcDlH6CQP"
      },
      "source": [
        "for i in range(len(dirs)):\n",
        "  os.mkdir('/content/iaprtc12/'+dirs[i])"
      ],
      "execution_count": null,
      "outputs": []
    },
    {
      "cell_type": "code",
      "metadata": {
        "id": "YQY289V38bT1"
      },
      "source": [
        "delete_dir = []\n",
        "for i in range(len(dirs)):\n",
        "  original = '/content/yolact/iaprtc12/images/'+dirs[i]+'/'\n",
        "  files = os.listdir(original)\n",
        "  if (len(files)==0):\n",
        "    delete_dir.append(dirs[i])"
      ],
      "execution_count": null,
      "outputs": []
    },
    {
      "cell_type": "code",
      "metadata": {
        "id": "1SggLkJVKYee"
      },
      "source": [
        "for i in range(len(delete_dir)):\n",
        "  dirs.remove(delete_dir[i])"
      ],
      "execution_count": null,
      "outputs": []
    },
    {
      "cell_type": "code",
      "metadata": {
        "id": "WqMHZQtbKRqg"
      },
      "source": [
        "import shutil\n",
        "for i in range(len(dirs)):\n",
        "  original = '/content/yolact/iaprtc12/images/'+dirs[i]+'/'\n",
        "  target = '/content/iaprtc12/'+dirs[i]+'/'\n",
        "  files = os.listdir(original)\n",
        "\n",
        "  for j in range(15):\n",
        "    shutil.copyfile(original+files[j], target+files[j])"
      ],
      "execution_count": null,
      "outputs": []
    },
    {
      "cell_type": "code",
      "metadata": {
        "id": "yu55MahAMOVa"
      },
      "source": [
        "%cd /content/yolact"
      ],
      "execution_count": null,
      "outputs": []
    },
    {
      "cell_type": "code",
      "metadata": {
        "id": "GzJ5wf3_Me7k"
      },
      "source": [
        "os.mkdir('/content/iaprtc12/results')"
      ],
      "execution_count": null,
      "outputs": []
    },
    {
      "cell_type": "code",
      "metadata": {
        "id": "N_-n1Q0-NCgw"
      },
      "source": [
        "for i in range(len(dirs)):\n",
        "  os.mkdir('/content/iaprtc12/results/'+dirs[i])"
      ],
      "execution_count": null,
      "outputs": []
    },
    {
      "cell_type": "code",
      "metadata": {
        "id": "kBKy4rO5cq_m"
      },
      "source": [
        "!python eval.py --trained_model=weights/yolact_base_15_10000.pth --score_threshold=0.15 --top_k=15 --images=/content/iaprtc12/00:/content/iaprtc12/results/00\n",
        "!python eval.py --trained_model=weights/yolact_base_15_10000.pth --score_threshold=0.15 --top_k=15 --images=/content/iaprtc12/01:/content/iaprtc12/results/01\n",
        "!python eval.py --trained_model=weights/yolact_base_15_10000.pth --score_threshold=0.15 --top_k=15 --images=/content/iaprtc12/02:/content/iaprtc12/results/02\n",
        "!python eval.py --trained_model=weights/yolact_base_15_10000.pth --score_threshold=0.15 --top_k=15 --images=/content/iaprtc12/03:/content/iaprtc12/results/03\n",
        "!python eval.py --trained_model=weights/yolact_base_15_10000.pth --score_threshold=0.15 --top_k=15 --images=/content/iaprtc12/04:/content/iaprtc12/results/04\n",
        "!python eval.py --trained_model=weights/yolact_base_15_10000.pth --score_threshold=0.15 --top_k=15 --images=/content/iaprtc12/05:/content/iaprtc12/results/05\n",
        "!python eval.py --trained_model=weights/yolact_base_15_10000.pth --score_threshold=0.15 --top_k=15 --images=/content/iaprtc12/06:/content/iaprtc12/results/06\n",
        "!python eval.py --trained_model=weights/yolact_base_15_10000.pth --score_threshold=0.15 --top_k=15 --images=/content/iaprtc12/07:/content/iaprtc12/results/07\n",
        "!python eval.py --trained_model=weights/yolact_base_15_10000.pth --score_threshold=0.15 --top_k=15 --images=/content/iaprtc12/08:/content/iaprtc12/results/08\n",
        "!python eval.py --trained_model=weights/yolact_base_15_10000.pth --score_threshold=0.15 --top_k=15 --images=/content/iaprtc12/09:/content/iaprtc12/results/09\n",
        "!python eval.py --trained_model=weights/yolact_base_15_10000.pth --score_threshold=0.15 --top_k=15 --images=/content/iaprtc12/10:/content/iaprtc12/results/10\n",
        "!python eval.py --trained_model=weights/yolact_base_15_10000.pth --score_threshold=0.15 --top_k=15 --images=/content/iaprtc12/11:/content/iaprtc12/results/11\n",
        "!python eval.py --trained_model=weights/yolact_base_15_10000.pth --score_threshold=0.15 --top_k=15 --images=/content/iaprtc12/12:/content/iaprtc12/results/12\n",
        "!python eval.py --trained_model=weights/yolact_base_15_10000.pth --score_threshold=0.15 --top_k=15 --images=/content/iaprtc12/13:/content/iaprtc12/results/13\n",
        "!python eval.py --trained_model=weights/yolact_base_15_10000.pth --score_threshold=0.15 --top_k=15 --images=/content/iaprtc12/14:/content/iaprtc12/results/14\n",
        "!python eval.py --trained_model=weights/yolact_base_15_10000.pth --score_threshold=0.15 --top_k=15 --images=/content/iaprtc12/15:/content/iaprtc12/results/15\n",
        "!python eval.py --trained_model=weights/yolact_base_15_10000.pth --score_threshold=0.15 --top_k=15 --images=/content/iaprtc12/16:/content/iaprtc12/results/16\n",
        "!python eval.py --trained_model=weights/yolact_base_15_10000.pth --score_threshold=0.15 --top_k=15 --images=/content/iaprtc12/17:/content/iaprtc12/results/17\n",
        "!python eval.py --trained_model=weights/yolact_base_15_10000.pth --score_threshold=0.15 --top_k=15 --images=/content/iaprtc12/18:/content/iaprtc12/results/18\n",
        "!python eval.py --trained_model=weights/yolact_base_15_10000.pth --score_threshold=0.15 --top_k=15 --images=/content/iaprtc12/19:/content/iaprtc12/results/19\n",
        "!python eval.py --trained_model=weights/yolact_base_15_10000.pth --score_threshold=0.15 --top_k=15 --images=/content/iaprtc12/20:/content/iaprtc12/results/20\n",
        "!python eval.py --trained_model=weights/yolact_base_15_10000.pth --score_threshold=0.15 --top_k=15 --images=/content/iaprtc12/21:/content/iaprtc12/results/21\n",
        "!python eval.py --trained_model=weights/yolact_base_15_10000.pth --score_threshold=0.15 --top_k=15 --images=/content/iaprtc12/22:/content/iaprtc12/results/22\n",
        "!python eval.py --trained_model=weights/yolact_base_15_10000.pth --score_threshold=0.15 --top_k=15 --images=/content/iaprtc12/23:/content/iaprtc12/results/23\n",
        "!python eval.py --trained_model=weights/yolact_base_15_10000.pth --score_threshold=0.15 --top_k=15 --images=/content/iaprtc12/24:/content/iaprtc12/results/24\n",
        "!python eval.py --trained_model=weights/yolact_base_15_10000.pth --score_threshold=0.15 --top_k=15 --images=/content/iaprtc12/25:/content/iaprtc12/results/25\n",
        "!python eval.py --trained_model=weights/yolact_base_15_10000.pth --score_threshold=0.15 --top_k=15 --images=/content/iaprtc12/26:/content/iaprtc12/results/26\n",
        "!python eval.py --trained_model=weights/yolact_base_15_10000.pth --score_threshold=0.15 --top_k=15 --images=/content/iaprtc12/27:/content/iaprtc12/results/27\n",
        "!python eval.py --trained_model=weights/yolact_base_15_10000.pth --score_threshold=0.15 --top_k=15 --images=/content/iaprtc12/30:/content/iaprtc12/results/30\n",
        "!python eval.py --trained_model=weights/yolact_base_15_10000.pth --score_threshold=0.15 --top_k=15 --images=/content/iaprtc12/31:/content/iaprtc12/results/31\n",
        "!python eval.py --trained_model=weights/yolact_base_15_10000.pth --score_threshold=0.15 --top_k=15 --images=/content/iaprtc12/32:/content/iaprtc12/results/32\n",
        "!python eval.py --trained_model=weights/yolact_base_15_10000.pth --score_threshold=0.15 --top_k=15 --images=/content/iaprtc12/33:/content/iaprtc12/results/33\n",
        "!python eval.py --trained_model=weights/yolact_base_15_10000.pth --score_threshold=0.15 --top_k=15 --images=/content/iaprtc12/34:/content/iaprtc12/results/34\n",
        "!python eval.py --trained_model=weights/yolact_base_15_10000.pth --score_threshold=0.15 --top_k=15 --images=/content/iaprtc12/35:/content/iaprtc12/results/35\n",
        "!python eval.py --trained_model=weights/yolact_base_15_10000.pth --score_threshold=0.15 --top_k=15 --images=/content/iaprtc12/36:/content/iaprtc12/results/36\n",
        "!python eval.py --trained_model=weights/yolact_base_15_10000.pth --score_threshold=0.15 --top_k=15 --images=/content/iaprtc12/37:/content/iaprtc12/results/37\n",
        "!python eval.py --trained_model=weights/yolact_base_15_10000.pth --score_threshold=0.15 --top_k=15 --images=/content/iaprtc12/38:/content/iaprtc12/results/38\n",
        "!python eval.py --trained_model=weights/yolact_base_15_10000.pth --score_threshold=0.15 --top_k=15 --images=/content/iaprtc12/39:/content/iaprtc12/results/39\n",
        "!python eval.py --trained_model=weights/yolact_base_15_10000.pth --score_threshold=0.15 --top_k=15 --images=/content/iaprtc12/40:/content/iaprtc12/results/40"
      ],
      "execution_count": null,
      "outputs": []
    },
    {
      "cell_type": "code",
      "metadata": {
        "id": "QOry77iPPsHs"
      },
      "source": [
        "!python eval.py --trained_model=weights/yolact_plus_base_54_800000.pth --score_threshold=0.15 --top_k=15 --images=/content/iaprtc12/00:/content/iaprtc12/results/00\n",
        "!python eval.py --trained_model=weights/yolact_plus_base_54_800000.pth --score_threshold=0.15 --top_k=15 --images=/content/iaprtc12/01:/content/iaprtc12/results/01\n",
        "!python eval.py --trained_model=weights/yolact_plus_base_54_800000.pth --score_threshold=0.15 --top_k=15 --images=/content/iaprtc12/02:/content/iaprtc12/results/02\n",
        "!python eval.py --trained_model=weights/yolact_plus_base_54_800000.pth --score_threshold=0.15 --top_k=15 --images=/content/iaprtc12/03:/content/iaprtc12/results/03\n",
        "!python eval.py --trained_model=weights/yolact_plus_base_54_800000.pth --score_threshold=0.15 --top_k=15 --images=/content/iaprtc12/04:/content/iaprtc12/results/04\n",
        "!python eval.py --trained_model=weights/yolact_plus_base_54_800000.pth --score_threshold=0.15 --top_k=15 --images=/content/iaprtc12/05:/content/iaprtc12/results/05\n",
        "!python eval.py --trained_model=weights/yolact_plus_base_54_800000.pth --score_threshold=0.15 --top_k=15 --images=/content/iaprtc12/06:/content/iaprtc12/results/06\n",
        "!python eval.py --trained_model=weights/yolact_plus_base_54_800000.pth --score_threshold=0.15 --top_k=15 --images=/content/iaprtc12/07:/content/iaprtc12/results/07\n",
        "!python eval.py --trained_model=weights/yolact_plus_base_54_800000.pth --score_threshold=0.15 --top_k=15 --images=/content/iaprtc12/08:/content/iaprtc12/results/08\n",
        "!python eval.py --trained_model=weights/yolact_plus_base_54_800000.pth --score_threshold=0.15 --top_k=15 --images=/content/iaprtc12/09:/content/iaprtc12/results/09\n",
        "!python eval.py --trained_model=weights/yolact_plus_base_54_800000.pth --score_threshold=0.15 --top_k=15 --images=/content/iaprtc12/10:/content/iaprtc12/results/10\n",
        "!python eval.py --trained_model=weights/yolact_plus_base_54_800000.pth --score_threshold=0.15 --top_k=15 --images=/content/iaprtc12/11:/content/iaprtc12/results/11\n",
        "!python eval.py --trained_model=weights/yolact_plus_base_54_800000.pth --score_threshold=0.15 --top_k=15 --images=/content/iaprtc12/12:/content/iaprtc12/results/12\n",
        "!python eval.py --trained_model=weights/yolact_plus_base_54_800000.pth --score_threshold=0.15 --top_k=15 --images=/content/iaprtc12/13:/content/iaprtc12/results/13\n",
        "!python eval.py --trained_model=weights/yolact_plus_base_54_800000.pth --score_threshold=0.15 --top_k=15 --images=/content/iaprtc12/14:/content/iaprtc12/results/14\n",
        "!python eval.py --trained_model=weights/yolact_plus_base_54_800000.pth --score_threshold=0.15 --top_k=15 --images=/content/iaprtc12/15:/content/iaprtc12/results/15\n",
        "!python eval.py --trained_model=weights/yolact_plus_base_54_800000.pth --score_threshold=0.15 --top_k=15 --images=/content/iaprtc12/16:/content/iaprtc12/results/16\n",
        "!python eval.py --trained_model=weights/yolact_plus_base_54_800000.pth --score_threshold=0.15 --top_k=15 --images=/content/iaprtc12/17:/content/iaprtc12/results/17\n",
        "!python eval.py --trained_model=weights/yolact_plus_base_54_800000.pth --score_threshold=0.15 --top_k=15 --images=/content/iaprtc12/18:/content/iaprtc12/results/18\n",
        "!python eval.py --trained_model=weights/yolact_plus_base_54_800000.pth --score_threshold=0.15 --top_k=15 --images=/content/iaprtc12/19:/content/iaprtc12/results/19\n",
        "!python eval.py --trained_model=weights/yolact_plus_base_54_800000.pth --score_threshold=0.15 --top_k=15 --images=/content/iaprtc12/20:/content/iaprtc12/results/20\n",
        "!python eval.py --trained_model=weights/yolact_plus_base_54_800000.pth --score_threshold=0.15 --top_k=15 --images=/content/iaprtc12/21:/content/iaprtc12/results/21\n",
        "!python eval.py --trained_model=weights/yolact_plus_base_54_800000.pth --score_threshold=0.15 --top_k=15 --images=/content/iaprtc12/22:/content/iaprtc12/results/22\n",
        "!python eval.py --trained_model=weights/yolact_plus_base_54_800000.pth --score_threshold=0.15 --top_k=15 --images=/content/iaprtc12/23:/content/iaprtc12/results/23\n",
        "!python eval.py --trained_model=weights/yolact_plus_base_54_800000.pth --score_threshold=0.15 --top_k=15 --images=/content/iaprtc12/24:/content/iaprtc12/results/24\n",
        "!python eval.py --trained_model=weights/yolact_plus_base_54_800000.pth --score_threshold=0.15 --top_k=15 --images=/content/iaprtc12/25:/content/iaprtc12/results/25\n",
        "!python eval.py --trained_model=weights/yolact_plus_base_54_800000.pth --score_threshold=0.15 --top_k=15 --images=/content/iaprtc12/26:/content/iaprtc12/results/26\n",
        "!python eval.py --trained_model=weights/yolact_plus_base_54_800000.pth --score_threshold=0.15 --top_k=15 --images=/content/iaprtc12/27:/content/iaprtc12/results/27\n",
        "!python eval.py --trained_model=weights/yolact_plus_base_54_800000.pth --score_threshold=0.15 --top_k=15 --images=/content/iaprtc12/30:/content/iaprtc12/results/30\n",
        "!python eval.py --trained_model=weights/yolact_plus_base_54_800000.pth --score_threshold=0.15 --top_k=15 --images=/content/iaprtc12/31:/content/iaprtc12/results/31\n",
        "!python eval.py --trained_model=weights/yolact_plus_base_54_800000.pth --score_threshold=0.15 --top_k=15 --images=/content/iaprtc12/32:/content/iaprtc12/results/32\n",
        "!python eval.py --trained_model=weights/yolact_plus_base_54_800000.pth --score_threshold=0.15 --top_k=15 --images=/content/iaprtc12/33:/content/iaprtc12/results/33\n",
        "!python eval.py --trained_model=weights/yolact_plus_base_54_800000.pth --score_threshold=0.15 --top_k=15 --images=/content/iaprtc12/34:/content/iaprtc12/results/34\n",
        "!python eval.py --trained_model=weights/yolact_plus_base_54_800000.pth --score_threshold=0.15 --top_k=15 --images=/content/iaprtc12/35:/content/iaprtc12/results/35\n",
        "!python eval.py --trained_model=weights/yolact_plus_base_54_800000.pth --score_threshold=0.15 --top_k=15 --images=/content/iaprtc12/36:/content/iaprtc12/results/36\n",
        "!python eval.py --trained_model=weights/yolact_plus_base_54_800000.pth --score_threshold=0.15 --top_k=15 --images=/content/iaprtc12/37:/content/iaprtc12/results/37\n",
        "!python eval.py --trained_model=weights/yolact_plus_base_54_800000.pth --score_threshold=0.15 --top_k=15 --images=/content/iaprtc12/38:/content/iaprtc12/results/38\n",
        "!python eval.py --trained_model=weights/yolact_plus_base_54_800000.pth --score_threshold=0.15 --top_k=15 --images=/content/iaprtc12/39:/content/iaprtc12/results/39\n",
        "!python eval.py --trained_model=weights/yolact_plus_base_54_800000.pth --score_threshold=0.15 --top_k=15 --images=/content/iaprtc12/40:/content/iaprtc12/results/40"
      ],
      "execution_count": null,
      "outputs": []
    },
    {
      "cell_type": "code",
      "metadata": {
        "id": "fOTzL2zZpJM7"
      },
      "source": [
        "%cd /content/yolact/"
      ],
      "execution_count": null,
      "outputs": []
    },
    {
      "cell_type": "code",
      "metadata": {
        "id": "cwop60jpQF4s"
      },
      "source": [
        "import shutil\n",
        "shutil.make_archive(\"images3\", 'zip', \"/content/iaprtc12/results\")"
      ],
      "execution_count": null,
      "outputs": []
    },
    {
      "cell_type": "code",
      "metadata": {
        "id": "JEqRPBCiw33J"
      },
      "source": [
        "shutil.copy(\"/content/yolact/images2.zip\", \"/content/drive/MyDrive/SUNRGBD/images2.zip\")"
      ],
      "execution_count": null,
      "outputs": []
    }
  ]
}