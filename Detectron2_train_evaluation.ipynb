{
  "cells": [
    {
      "cell_type": "code",
      "execution_count": null,
      "metadata": {
        "id": "ZGbKnXj8Zequ"
      },
      "outputs": [],
      "source": [
        "!nvidia-smi -L"
      ]
    },
    {
      "cell_type": "code",
      "execution_count": null,
      "metadata": {
        "id": "0d288Z2mF5dC"
      },
      "outputs": [],
      "source": [
        "import torch, detectron2\n",
        "!nvcc --version\n",
        "TORCH_VERSION = \".\".join(torch.__version__.split(\".\")[:2])\n",
        "CUDA_VERSION = torch.__version__.split(\"+\")[-1]\n",
        "print(\"torch: \", TORCH_VERSION, \"; cuda: \", CUDA_VERSION)\n",
        "print(\"detectron2:\", detectron2.__version__)"
      ]
    },
    {
      "cell_type": "markdown",
      "metadata": {
        "id": "KoOhp5ABsmt9"
      },
      "source": [
        "### Some basic setup, import:"
      ]
    },
    {
      "cell_type": "code",
      "execution_count": null,
      "metadata": {
        "id": "ZyAvNCJMmvFF"
      },
      "outputs": [],
      "source": [
        "# %matplotlib inline\n",
        "\n",
        "# Setup detectron2 logger\n",
        "import detectron2\n",
        "from detectron2.utils.logger import setup_logger\n",
        "setup_logger()\n",
        "\n",
        "# import some common libraries\n",
        "import pandas as pd\n",
        "import numpy as np\n",
        "import os, json, cv2, random\n",
        "import glob\n",
        "# from matplotlib import pyplot as plt\n",
        "from IPython import display\n",
        "from IPython.display import Image\n",
        "# from google.colab.patches import cv2_imshow\n",
        "\n",
        "# import some common detectron2 utilities\n",
        "from detectron2 import model_zoo\n",
        "from detectron2.engine import DefaultPredictor\n",
        "from detectron2.config import get_cfg\n",
        "from detectron2.utils.visualizer import Visualizer\n",
        "from detectron2.data import MetadataCatalog, DatasetCatalog\n",
        "\n",
        "from detectron2.data.datasets import register_coco_instances\n",
        "from detectron2.engine import DefaultTrainer\n",
        "from detectron2.utils.visualizer import ColorMode\n",
        "from detectron2.evaluation import COCOEvaluator, inference_on_dataset\n",
        "from detectron2.data import build_detection_test_loader\n",
        "\n",
        "from detectron2.checkpoint import DetectionCheckpointer\n",
        "from detectron2.modeling import build_model\n",
        "\n",
        "import IPython\n",
        "from PIL import Image\n",
        "import itertools\n",
        "from tabulate import tabulate"
      ]
    },
    {
      "cell_type": "markdown",
      "metadata": {
        "id": "mA4U08qHshSs"
      },
      "source": [
        "Set seed for reproducibility"
      ]
    },
    {
      "cell_type": "code",
      "execution_count": null,
      "metadata": {
        "id": "HFjEIXlFfYRg"
      },
      "outputs": [],
      "source": [
        "SEED = 1234\n",
        "random.seed(SEED)\n",
        "np.random.seed(seed=SEED)\n",
        "torch.manual_seed(SEED)"
      ]
    },
    {
      "cell_type": "markdown",
      "metadata": {
        "id": "3vXtheaYjWPa"
      },
      "source": [
        "## Datasets"
      ]
    },
    {
      "cell_type": "code",
      "execution_count": null,
      "metadata": {
        "id": "lBW6BRp1MKfK"
      },
      "outputs": [],
      "source": [
        "def print_dataset_instances(dataset_dicts, class_names):\n",
        "    \"\"\"\n",
        "    Args:\n",
        "        dataset_dicts (list[dict]): list of dataset dicts.\n",
        "        class_names (list[str]): list of class names (zero-indexed).\n",
        "    \"\"\"\n",
        "    num_classes = len(class_names)\n",
        "    hist_bins = np.arange(num_classes + 1)\n",
        "    histogram = np.zeros((num_classes,), dtype=np.int32)\n",
        "    for entry in dataset_dicts:\n",
        "        annos = entry[\"annotations\"]\n",
        "        classes = np.asarray(\n",
        "            [x[\"category_id\"] for x in annos if not x.get(\"iscrowd\", 0)], dtype=np.int32\n",
        "        )\n",
        "        if len(classes):\n",
        "            assert classes.min() >= 0, f\"Got an invalid category_id={classes.min()}\"\n",
        "            assert (\n",
        "                classes.max() < num_classes\n",
        "            ), f\"Got an invalid category_id={classes.max()} for a dataset of {num_classes} classes\"\n",
        "        histogram += np.histogram(classes, bins=hist_bins)[0]\n",
        "\n",
        "    N_COLS = min(6, len(class_names) * 2)\n",
        "\n",
        "    def short_name(x):\n",
        "        # make long class names shorter. useful for lvis\n",
        "        if len(x) > 13:\n",
        "            return x[:11] + \"..\"\n",
        "        return x\n",
        "\n",
        "    data = list(\n",
        "        itertools.chain(*[[short_name(class_names[i]), int(v)] for i, v in enumerate(histogram)])\n",
        "    )\n",
        "    total_num_instances = sum(data[1::2])\n",
        "    data.extend([None] * (N_COLS - (len(data) % N_COLS)))\n",
        "    if num_classes > 1:\n",
        "        data.extend([\"total\", total_num_instances])\n",
        "    data = itertools.zip_longest(*[data[i::N_COLS] for i in range(N_COLS)])\n",
        "    table = tabulate(\n",
        "        data,\n",
        "        headers=[\"category\", \"#instances\"] * (N_COLS // 2),\n",
        "        tablefmt=\"pipe\",\n",
        "        numalign=\"left\",\n",
        "        stralign=\"center\",\n",
        "    )\n",
        "    print(\"Distribution of instances among all {} categories:\\n\".format(num_classes))\n",
        "    print(table)"
      ]
    },
    {
      "cell_type": "code",
      "execution_count": null,
      "metadata": {
        "id": "FwyqzqO-MKfL"
      },
      "outputs": [],
      "source": [
        "# print_dataset_instances(dataset_dicts, class_names)\n",
        "# \"\"\"\n",
        "# Args:\n",
        "#     dataset_dicts (list[dict]): list of dataset dicts.\n",
        "#     class_names (list[str]): list of class names (zero-indexed).\n",
        "# \"\"\""
      ]
    },
    {
      "cell_type": "markdown",
      "metadata": {
        "id": "B-2WVt7QMKfP"
      },
      "source": [
        "### Valid"
      ]
    },
    {
      "cell_type": "code",
      "execution_count": null,
      "metadata": {
        "id": "IvkJ7rLZMKfN"
      },
      "outputs": [],
      "source": [
        "val_dataset_name = \"BigScrewScrewWasherValid\"\n",
        "val_metadata = {}\n",
        "val_json_file = \"./data/screwwasherANDbigscrewvalid/result.json\"\n",
        "val_image_root = \"./data/screwwasherANDbigscrewvalid\"\n",
        "\n",
        "register_coco_instances(val_dataset_name, val_metadata, val_json_file, val_image_root)\n",
        "val_metadata = MetadataCatalog.get(val_dataset_name)\n",
        "val_dataset_dicts = DatasetCatalog.get(val_dataset_name)"
      ]
    },
    {
      "cell_type": "code",
      "execution_count": null,
      "metadata": {
        "id": "6ytCKmiEMKfP"
      },
      "outputs": [],
      "source": [
        "val_dataset_name1 = \"GlassMetalPaperPlasticValid\"\n",
        "val_metadata1 = {}\n",
        "val_json_file1 = \"./data/valid25/result.json\"\n",
        "val_image_root1 = \"./data/valid25\"\n",
        "\n",
        "register_coco_instances(val_dataset_name1, val_metadata1, val_json_file1, val_image_root1)\n",
        "val_metadata1 = MetadataCatalog.get(val_dataset_name1)\n",
        "val_dataset_dicts1 = DatasetCatalog.get(val_dataset_name1)"
      ]
    },
    {
      "cell_type": "code",
      "execution_count": null,
      "metadata": {
        "id": "SlIpMzVvtyW1"
      },
      "outputs": [],
      "source": [
        "val_dataset_name2 = \"ShowroomValid\"\n",
        "val_metadata2 = {}\n",
        "val_json_file2 = \"./data/showroomValid2/result.json\"\n",
        "val_image_root2 = \"./data/showroomValid2\"\n",
        "\n",
        "register_coco_instances(val_dataset_name2, val_metadata2, val_json_file2, val_image_root2)\n",
        "val_metadata2 = MetadataCatalog.get(val_dataset_name2)\n",
        "val_dataset_dicts2 = DatasetCatalog.get(val_dataset_name2)"
      ]
    },
    {
      "cell_type": "code",
      "execution_count": null,
      "metadata": {
        "id": "U-SqN9j7tyW0"
      },
      "outputs": [],
      "source": [
        "val_dataset_name3 = \"GlassMetalPaperPlasticAndShowroomValid\"\n",
        "val_metadata3 = {}\n",
        "val_json_file3 = \"./data/GlassMetalPaperPlasticAndShowroomValid/result.json\"\n",
        "val_image_root3 = \"./data/GlassMetalPaperPlasticAndShowroomValid\"\n",
        "\n",
        "register_coco_instances(val_dataset_name3, val_metadata3, val_json_file3, val_image_root3)\n",
        "val_metadata3 = MetadataCatalog.get(val_dataset_name3)\n",
        "val_dataset_dicts3 = DatasetCatalog.get(val_dataset_name3)"
      ]
    },
    {
      "cell_type": "code",
      "execution_count": null,
      "metadata": {
        "id": "USF3MBZUMKfO"
      },
      "outputs": [],
      "source": [
        "print_dataset_instances(dataset_dicts, metadata.thing_classes)"
      ]
    },
    {
      "cell_type": "code",
      "execution_count": null,
      "metadata": {
        "id": "hjmtEfC7MKfR"
      },
      "outputs": [],
      "source": [
        "print_dataset_instances(val_dataset_dicts1, val_metadata1.thing_classes)"
      ]
    },
    {
      "cell_type": "code",
      "execution_count": null,
      "metadata": {
        "id": "oRHLXJMTMKfR"
      },
      "outputs": [],
      "source": [
        "print_dataset_instances(val_dataset_dicts2, val_metadata2.thing_classes)"
      ]
    },
    {
      "cell_type": "code",
      "execution_count": null,
      "metadata": {
        "id": "yF6l6weAMKfS"
      },
      "outputs": [],
      "source": [
        "print_dataset_instances(val_dataset_dicts3, val_metadata3.thing_classes)"
      ]
    },
    {
      "cell_type": "markdown",
      "metadata": {
        "id": "9I6kO2YjMKfS"
      },
      "source": [
        "### Train"
      ]
    },
    {
      "cell_type": "code",
      "execution_count": null,
      "metadata": {
        "id": "s1muiXPmMKfM"
      },
      "outputs": [],
      "source": [
        "dataset_name = \"BigScrewScrewWasher\"\n",
        "metadata = {}\n",
        "json_file = \"./data/screwwasherANDbigscrew/result.json\"\n",
        "image_root = \"./data/screwwasherANDbigscrew\"\n",
        "\n",
        "register_coco_instances(dataset_name, metadata, json_file, image_root)\n",
        "metadata = MetadataCatalog.get(dataset_name)\n",
        "dataset_dicts = DatasetCatalog.get(dataset_name)"
      ]
    },
    {
      "cell_type": "code",
      "execution_count": null,
      "metadata": {
        "id": "LrbYaXjRMKfS"
      },
      "outputs": [],
      "source": [
        "dataset_name1 = \"glassMetalPapperPlastic\"\n",
        "metadata1 = {}\n",
        "json_file1 = \"./data/glassMetalPapperPlastic/result.json\"\n",
        "image_root1 = \"./data/glassMetalPapperPlastic\"\n",
        "\n",
        "register_coco_instances(dataset_name1, metadata1, json_file1, image_root1)\n",
        "metadata1 = MetadataCatalog.get(dataset_name1).set(thing_classes=[\"Glass\", \"Metal\", \"Paper\", \"Plastic\"])\n",
        "dataset_dicts1 = DatasetCatalog.get(dataset_name1)"
      ]
    },
    {
      "cell_type": "code",
      "execution_count": null,
      "metadata": {
        "id": "nZEevQueMKfT"
      },
      "outputs": [],
      "source": [
        "dataset_name2 = \"showroom\"\n",
        "metadata2 = {}\n",
        "json_file2 = \"./data/showroom/result.json\"\n",
        "image_root2 = \"./data/showroom\"\n",
        "\n",
        "register_coco_instances(dataset_name2, metadata2, json_file2, image_root2)\n",
        "metadata2 = MetadataCatalog.get(dataset_name2)\n",
        "dataset_dicts2 = DatasetCatalog.get(dataset_name2)"
      ]
    },
    {
      "cell_type": "code",
      "execution_count": null,
      "metadata": {
        "id": "Qk5UXkJSMKfT"
      },
      "outputs": [],
      "source": [
        "dataset_name3 = \"GlassMetalPaperPlasticAndShowroom\"\n",
        "metadata3 = {}\n",
        "json_file3 = \"./data/GlassMetalPaperPlasticAndShowroom/result.json\"\n",
        "image_root3 = \"./data/GlassMetalPaperPlasticAndShowroom\"\n",
        "\n",
        "register_coco_instances(dataset_name3, metadata3, json_file3, image_root3)\n",
        "metadata3 = MetadataCatalog.get(dataset_name3)\n",
        "dataset_dicts3 = DatasetCatalog.get(dataset_name3)"
      ]
    },
    {
      "cell_type": "code",
      "execution_count": null,
      "metadata": {
        "id": "C9VtBpS8MKfN"
      },
      "outputs": [],
      "source": [
        "print_dataset_instances(val_dataset_dicts, val_metadata.thing_classes)"
      ]
    },
    {
      "cell_type": "code",
      "execution_count": null,
      "metadata": {
        "id": "K4gZfK_BMKfU"
      },
      "outputs": [],
      "source": [
        "print_dataset_instances(dataset_dicts1, metadata1.thing_classes)"
      ]
    },
    {
      "cell_type": "code",
      "execution_count": null,
      "metadata": {
        "id": "WlSpv2fXMKfU"
      },
      "outputs": [],
      "source": [
        "print_dataset_instances(dataset_dicts2, metadata2.thing_classes)"
      ]
    },
    {
      "cell_type": "code",
      "execution_count": null,
      "metadata": {
        "id": "31cg26e1MKfU"
      },
      "outputs": [],
      "source": [
        "print_dataset_instances(dataset_dicts3, metadata3.thing_classes)"
      ]
    },
    {
      "cell_type": "code",
      "execution_count": null,
      "metadata": {
        "id": "Jh2cizYCtyU0"
      },
      "outputs": [],
      "source": [
        "def imshow(img):\n",
        "    _, ret = cv2.imencode('.jpg', img) \n",
        "    i = IPython.display.Image(data=ret)\n",
        "    IPython.display.display(i)"
      ]
    },
    {
      "cell_type": "code",
      "execution_count": null,
      "metadata": {
        "id": "0d6tkUXbmmtK"
      },
      "outputs": [],
      "source": [
        "def random_sample(dataset_dicts, number, metadata, save_image=False):\n",
        "    i = 0\n",
        "    for d in random.sample(dataset_dicts, number):\n",
        "        i += 1\n",
        "        img = cv2.imread(d[\"file_name\"])\n",
        "        visualizer = Visualizer(img[:, :, ::-1], metadata=metadata, scale=0.5)\n",
        "        vis = visualizer.draw_dataset_dict(d)\n",
        "        imshow(vis.get_image()[:, :, ::-1])\n",
        "        if save_image:        \n",
        "            im = cv2.cvtColor(vis.get_image()[:, :, ::-1], cv2.COLOR_BGR2RGB)\n",
        "            im = Image.fromarray(im)\n",
        "            im.save(\"evaluation/\" + str(i) + \".png\")"
      ]
    },
    {
      "cell_type": "code",
      "execution_count": null,
      "metadata": {
        "id": "MP0RODGMtyU_"
      },
      "outputs": [],
      "source": [
        "random_sample(val_dataset_dicts1, 5, val_metadata1, save_image=True)"
      ]
    },
    {
      "cell_type": "code",
      "execution_count": null,
      "metadata": {
        "id": "iypX3R5bMKfW"
      },
      "outputs": [],
      "source": [
        "random_sample(val_dataset_dicts2, 5, val_metadata2, save_image=True)"
      ]
    },
    {
      "cell_type": "code",
      "execution_count": null,
      "metadata": {
        "id": "AGno2cgwMKfW"
      },
      "outputs": [],
      "source": [
        "random_sample(val_dataset_dicts3, 5, val_metadata3, save_image=True)"
      ]
    },
    {
      "cell_type": "code",
      "execution_count": null,
      "metadata": {
        "id": "pso6O7JjMKfX"
      },
      "outputs": [],
      "source": [
        "random_sample(dataset_dicts, 5, metadata, save_image=True)"
      ]
    },
    {
      "cell_type": "markdown",
      "metadata": {
        "id": "0e4vdDIOXyxF"
      },
      "source": [
        "# Inference & evaluation using the trained models\n",
        "Let's run inference with the trained models on the validation datasets.\n",
        "\n"
      ]
    },
    {
      "cell_type": "code",
      "execution_count": null,
      "metadata": {
        "id": "U-KdkP7oMKfX"
      },
      "outputs": [],
      "source": [
        "def choose_model(output_path, model, epoch, dataset):\n",
        "    weight_path = None\n",
        "    dataset_yaml_file = None\n",
        "    if model == \"maskrcnn\":\n",
        "        directory_exists = os.path.exists(output_path + str(dataset) + \"/\" + str(epoch) + \"/output_mask_rcnn_R_50_FPN_3x/\")\n",
        "        if directory_exists:\n",
        "            weight_path = output_path + str(dataset) + \"/\" + str(epoch) + \"/output_mask_rcnn_R_50_FPN_3x/\"\n",
        "            dataset_yaml_file = weight_path + \"mask_rcnn_R_50_FPN_3x.yaml\"\n",
        "        else:\n",
        "            print(\"Wrong model or epoch number or dataset!\")\n",
        "    elif model == \"fasterrcnn\":\n",
        "        directory_exists = os.path.exists(output_path + str(dataset) + \"/\" + str(epoch) + \"/output_faster_rcnn_R_50_FPN_3x/\")\n",
        "        if directory_exists:\n",
        "            weight_path = output_path + str(dataset) + \"/\" + str(epoch) + \"/output_faster_rcnn_R_50_FPN_3x/\"\n",
        "            dataset_yaml_file = weight_path + \"faster_rcnn_R_50_FPN_3x.yaml\"\n",
        "        else:\n",
        "            print(\"Wrong model or epoch number or dataset!\")\n",
        "    elif model == \"retinanet\":\n",
        "        directory_exists = os.path.exists(output_path + str(dataset) + \"/\" + str(epoch) + \"/output_retinanet_R_50_FPN_3x/\")\n",
        "        if directory_exists:\n",
        "            weight_path = output_path + str(dataset) + \"/\" + str(epoch) + \"/output_retinanet_R_50_FPN_3x/\"\n",
        "            dataset_yaml_file = weight_path + \"retinanet_R_50_FPN_3x.yaml\"\n",
        "        else:\n",
        "            print(\"Wrong model or epoch number or dataset!\")  \n",
        "            \n",
        "    return weight_path, dataset_yaml_file"
      ]
    },
    {
      "cell_type": "code",
      "execution_count": null,
      "metadata": {
        "id": "mLH2t83gMKfY"
      },
      "outputs": [],
      "source": [
        "def get_predictor(weight_path, dataset_yaml_file, threshold=0.7):\n",
        "    cfg = get_cfg()\n",
        "    cfg.merge_from_file(dataset_yaml_file)\n",
        "    cfg.MODEL.WEIGHTS = os.path.join(weight_path, \"model_final.pth\")  # path to the model\n",
        "    cfg.MODEL.ROI_HEADS.SCORE_THRESH_TEST = threshold   # set a custom testing threshold\n",
        "    cfg.MODEL.RETINANET.SCORE_THRESH_TEST = threshold\n",
        "    predictor = DefaultPredictor(cfg)\n",
        "\n",
        "    return predictor"
      ]
    },
    {
      "cell_type": "code",
      "execution_count": null,
      "metadata": {
        "id": "InEmNiVLMKfY"
      },
      "outputs": [],
      "source": [
        "output_path = \"./detectron2/output/\"\n",
        "weight_path, dataset_yaml_file = choose_model(output_path, model=\"maskrcnn\", epoch=10000, dataset=\"Downloaded\")\n",
        "predictor = get_predictor(weight_path, dataset_yaml_file, threshold=0.7)"
      ]
    },
    {
      "cell_type": "code",
      "execution_count": null,
      "metadata": {
        "id": "Ts89UTlCMKfZ"
      },
      "outputs": [],
      "source": [
        "def evaluate(image, metadata, predictor, instance_mode=False, save_image=False):\n",
        "    im = cv2.imread(image)\n",
        "    outputs = predictor(im)  # format is documented at https://detectron2.readthedocs.io/tutorials/models.html#model-output-format\n",
        "    \n",
        "    v = {}\n",
        "    if instance_mode:\n",
        "        v = Visualizer(im[:, :, ::-1],\n",
        "                        metadata=metadata, \n",
        "                        scale=0.5, \n",
        "                        instance_mode=ColorMode.IMAGE_BW   # remove the colors of unsegmented pixels. This option is only available for segmentation models\n",
        "        )\n",
        "    else:\n",
        "        v = Visualizer(im[:, :, ::-1],\n",
        "                        metadata=metadata, \n",
        "                        scale=0.5,\n",
        "        )\n",
        "    out = v.draw_instance_predictions(outputs[\"instances\"].to(\"cpu\"))\n",
        "    \n",
        "    if save_image:        \n",
        "        im = cv2.cvtColor(out.get_image()[:, :, ::-1], cv2.COLOR_BGR2RGB)\n",
        "        im = Image.fromarray(im)\n",
        "        im.save(\"evaluation/\" +  str(image.rsplit('\\\\', 1)[1]))\n",
        "#         im.save(\"evaluation/\" +  str(image.rsplit('/', 1)[1]))\n",
        "\n",
        "    imshow(out.get_image()[:, :, ::-1])"
      ]
    },
    {
      "cell_type": "code",
      "execution_count": null,
      "metadata": {
        "id": "OSQyhyToMKgP"
      },
      "outputs": [],
      "source": [
        "evaluate(\"./data/dataset-resized/glass/test/glass458.jpg\", val_metadata1, predictor, instance_mode=True, save_image=True)"
      ]
    },
    {
      "cell_type": "code",
      "execution_count": null,
      "metadata": {
        "id": "_TexfdhyMKgQ"
      },
      "outputs": [],
      "source": [
        "evaluate(\"./data/dataset-resized/glass/test/glass458.jpg\", val_metadata1, predictor, instance_mode=True)"
      ]
    },
    {
      "cell_type": "code",
      "execution_count": null,
      "metadata": {
        "id": "1c85WEOvMKgR"
      },
      "outputs": [],
      "source": [
        "evaluate(\"./data/dataset-resized/glass/test/glass458.jpg\", val_metadata1, predictor, instance_mode=False)"
      ]
    },
    {
      "cell_type": "code",
      "execution_count": null,
      "metadata": {
        "id": "rOqK4tJ50kLt"
      },
      "outputs": [],
      "source": [
        "def random_test_sample(dataset_dicts, number, metadata, predictor, instance_mode=False, save_image=False):\n",
        "    for i in range(number):\n",
        "        images = glob.glob(dataset_dicts + \"*.png\")\n",
        "#         images = glob.glob(dataset_dicts + \"*.jpg\")\n",
        "        random_image = random.choice(images)\n",
        "        evaluate(random_image, metadata, predictor, instance_mode, save_image)"
      ]
    },
    {
      "cell_type": "code",
      "execution_count": null,
      "metadata": {
        "id": "BU29fS3HMKgS"
      },
      "outputs": [],
      "source": [
        "test_dataset_path = \"./data/dataset-resized/test/\"\n",
        "random_test_sample(test_dataset_path, 10, val_metadata1, predictor)"
      ]
    },
    {
      "cell_type": "code",
      "execution_count": null,
      "metadata": {
        "id": "kpg3FyV4MKgT"
      },
      "outputs": [],
      "source": []
    },
    {
      "cell_type": "code",
      "execution_count": null,
      "metadata": {
        "id": "HTtb_SETMKgT"
      },
      "outputs": [],
      "source": []
    },
    {
      "cell_type": "code",
      "execution_count": null,
      "metadata": {
        "id": "1mCjAbMBMKgU"
      },
      "outputs": [],
      "source": [
        "output_path = \"./detectron2/output/\"\n",
        "weight_path, dataset_yaml_file = choose_model(output_path, model=\"maskrcnn\", epoch=10000, dataset=\"Downloaded\")\n",
        "predictor = get_predictor(weight_path, dataset_yaml_file, threshold=0.7)\n",
        "\n",
        "test_dataset_path = \"./data/valid25/images/\"\n",
        "# test_dataset_path = \"./data/dataset-resized/test/\"\n",
        "random_test_sample(test_dataset_path, 5, val_metadata1, predictor, save_image=True)"
      ]
    },
    {
      "cell_type": "code",
      "execution_count": null,
      "metadata": {
        "id": "0UcZdnkKMKgU"
      },
      "outputs": [],
      "source": [
        "output_path = \"./detectron2/output/\"\n",
        "weight_path = \n",
        "dataset_yaml_file = choose_model(output_path, model=\"maskrcnn\", epoch=30000, dataset=\"Showroom\")\n",
        "predictor = get_predictor(weight_path, dataset_yaml_file, threshold=0.7)\n",
        "\n",
        "test_dataset_path = \"./data/showroomValid2/images/\"\n",
        "random_test_sample(test_dataset_path, 5, val_metadata2, predictor, save_image=True)"
      ]
    },
    {
      "cell_type": "code",
      "execution_count": null,
      "metadata": {
        "id": "MQ9ygI5fMKgV"
      },
      "outputs": [],
      "source": [
        "output_path = \"./detectron2/output/\"\n",
        "weight_path, dataset_yaml_file = choose_model(output_path, model=\"maskrcnn\", epoch=10000, dataset=\"DownloadedAndShowroom\")\n",
        "predictor = get_predictor(weight_path, dataset_yaml_file, threshold=0.7)\n",
        "\n",
        "test_dataset_path = \"./data/GlassMetalPaperPlasticAndShowroomValid/images/\"\n",
        "random_test_sample(test_dataset_path, 5, val_metadata3, predictor, save_image=True)"
      ]
    },
    {
      "cell_type": "code",
      "execution_count": null,
      "metadata": {
        "id": "ljYfXvWsMKgW"
      },
      "outputs": [],
      "source": [
        "output_path = \"./detectron2/output/\"\n",
        "weight_path, dataset_yaml_file = choose_model(output_path, model=\"maskrcnn\", epoch=30000, dataset=\"Showroom\")\n",
        "predictor = get_predictor(weight_path, dataset_yaml_file, threshold=0.7)\n",
        "\n",
        "test_dataset_path = \"./data/test/\"\n",
        "random_test_sample(test_dataset_path, 10, val_metadata2, predictor, save_image=True)"
      ]
    },
    {
      "cell_type": "code",
      "execution_count": null,
      "metadata": {
        "id": "wsztPm8TMKgY"
      },
      "outputs": [],
      "source": [
        "output_path = \"./detectron2/output/\"\n",
        "weight_path, dataset_yaml_file = choose_model(output_path, model=\"fasterrcnn\", epoch=30000, dataset=\"Showroom\")\n",
        "predictor = get_predictor(weight_path, dataset_yaml_file, threshold=0.7)\n",
        "\n",
        "test_dataset_path = \"./data/showroomValid2/images/\"\n",
        "# test_dataset_path = \"./data/dataset-resized/test/\"\n",
        "random_test_sample(test_dataset_path, 5, val_metadata2, predictor, save_image=True)"
      ]
    },
    {
      "cell_type": "code",
      "execution_count": null,
      "metadata": {
        "id": "6hccOiOkMKgZ"
      },
      "outputs": [],
      "source": [
        "output_path = \"./detectron2/output/\"\n",
        "weight_path, dataset_yaml_file = choose_model(output_path, model=\"retinanet\", epoch=30000, dataset=\"Showroom\")\n",
        "predictor = get_predictor(weight_path, dataset_yaml_file, threshold=0.7)\n",
        "\n",
        "test_dataset_path = \"./data/showroomValid2/images/\"\n",
        "# test_dataset_path = \"./data/dataset-resized/test/\"\n",
        "random_test_sample(test_dataset_path, 5, val_metadata2, predictor, save_image=True)"
      ]
    },
    {
      "cell_type": "code",
      "execution_count": null,
      "metadata": {
        "id": "VYQxMv88MKgZ"
      },
      "outputs": [],
      "source": [
        "output_path = \"./detectron2/output/\"\n",
        "weight_path, dataset_yaml_file = choose_model(output_path, model=\"fasterrcnn\", epoch=30000, dataset=\"Showroom\")\n",
        "predictor = get_predictor(weight_path, dataset_yaml_file, threshold=0.7)\n",
        "\n",
        "test_dataset_path = \"./data/test/\"\n",
        "random_test_sample(test_dataset_path, 10, val_metadata2, predictor, save_image=True)"
      ]
    },
    {
      "cell_type": "code",
      "execution_count": null,
      "metadata": {
        "id": "J-3y3mhfMKga"
      },
      "outputs": [],
      "source": [
        "output_path = \"./detectron2/output/\"\n",
        "weight_path, dataset_yaml_file = choose_model(output_path, model=\"retinanet\", epoch=30000, dataset=\"Showroom\")\n",
        "predictor = get_predictor(weight_path, dataset_yaml_file, threshold=0.7)\n",
        "\n",
        "test_dataset_path = \"./data/test/\"\n",
        "random_test_sample(test_dataset_path, 10, val_metadata2, predictor, save_image=True)"
      ]
    },
    {
      "cell_type": "code",
      "execution_count": null,
      "metadata": {
        "id": "NQmNWSZEMKga"
      },
      "outputs": [],
      "source": [
        "dataset_yaml_file = \"./detectron2/output/BulkGoods/10000/BigScrewANDScrewWasher/output_mask_rcnn_R_50_FPN_3x/model_mask_rcnn_R_50_FPN_3x.yaml\"\n",
        "weight_path = \"./detectron2/output/BulkGoods/10000/BigScrewANDScrewWasher/output_mask_rcnn_R_50_FPN_3x/\"\n",
        "predictor = get_predictor(weight_path, dataset_yaml_file, threshold=0.7)\n",
        "\n",
        "test_dataset_path = \"./data/screwwasherANDbigscrewvalid/\"\n",
        "random_test_sample(test_dataset_path, 10, metadata, predictor, save_image=True)"
      ]
    },
    {
      "cell_type": "code",
      "execution_count": null,
      "metadata": {
        "id": "dE2axbieMKgb"
      },
      "outputs": [],
      "source": []
    },
    {
      "cell_type": "code",
      "execution_count": null,
      "metadata": {
        "id": "E5tLMV_YMKgb"
      },
      "outputs": [],
      "source": []
    },
    {
      "cell_type": "code",
      "execution_count": null,
      "metadata": {
        "id": "LKz-Tpt1MKgc"
      },
      "outputs": [],
      "source": []
    },
    {
      "cell_type": "code",
      "execution_count": null,
      "metadata": {
        "id": "sQSwQEPrMKgc"
      },
      "outputs": [],
      "source": []
    },
    {
      "cell_type": "code",
      "execution_count": null,
      "metadata": {
        "id": "lTLuZvK5MKgc"
      },
      "outputs": [],
      "source": [
        "def inference(dataset_name, dataset_yaml_file, weight_path, model_pth=\"model_final.pth\", threshold=0.7):\n",
        "    cfg = get_cfg()\n",
        "    cfg.merge_from_file(dataset_yaml_file)\n",
        "    cfg.MODEL.WEIGHTS = os.path.join(weight_path, model_pth)  # path to the model\n",
        "    cfg.MODEL.ROI_HEADS.SCORE_THRESH_TEST = threshold   # set a custom testing threshold\n",
        "    predictor = DefaultPredictor(cfg)\n",
        "    evaluator = COCOEvaluator(dataset_name, output_dir=\"./output\")\n",
        "    val_loader = build_detection_test_loader(cfg, dataset_name)\n",
        "    evaluation_results = inference_on_dataset(predictor.model, val_loader, evaluator)\n",
        "    return evaluation_results"
      ]
    },
    {
      "cell_type": "code",
      "execution_count": null,
      "metadata": {
        "id": "tVLiGtGaMKgd"
      },
      "outputs": [],
      "source": [
        "dataset_yaml_file = \"./detectron2/output/Showroom/30000/output_mask_rcnn_R_50_FPN_3x/mask_rcnn_R_50_FPN_3x.yaml\"\n",
        "weight_path = \"./detectron2/output/Showroom/30000/output_mask_rcnn_R_50_FPN_3x/\"\n",
        "model_pth = \"model_final.pth\"\n",
        "threshold = 0.7\n",
        "dataset_name = val_dataset_name2\n",
        "\n",
        "evaluation_results = inference(dataset_name, dataset_yaml_file, weight_path, model_pth, threshold)"
      ]
    },
    {
      "cell_type": "code",
      "execution_count": null,
      "metadata": {
        "id": "ZPddtxidMKgd"
      },
      "outputs": [],
      "source": [
        "evaluation_results"
      ]
    },
    {
      "cell_type": "code",
      "execution_count": null,
      "metadata": {
        "id": "6c15O2_RMKge"
      },
      "outputs": [],
      "source": [
        "output_path = \"./detectron2/output/\"\n",
        "models = [\"maskrcnn\", \"fasterrcnn\", \"retinanet\"]\n",
        "epoch = [10000, 30000, 50000, 80000]\n",
        "datasets = [\"Downloaded\", \"Showroom\", \"DownloadedAndShowroom\"]\n",
        "\n",
        "result = []\n",
        "for i in models:\n",
        "    for j in epoch:\n",
        "        for k in datasets:\n",
        "            segmentation = None\n",
        "            if i == \"maskrcnn\":\n",
        "                directory_exists = os.path.exists(output_path + str(k) + \"/\" + str(j) + \"/output_mask_rcnn_R_50_FPN_3x/\")\n",
        "                if directory_exists:\n",
        "                    weight_path = output_path + str(k) + \"/\" + str(j) + \"/output_mask_rcnn_R_50_FPN_3x/\"\n",
        "                    dataset_yaml_file = weight_path + \"mask_rcnn_R_50_FPN_3x.yaml\"\n",
        "                    segmentation = True\n",
        "            elif i == \"fasterrcnn\":\n",
        "                directory_exists = os.path.exists(output_path + str(k) + \"/\" + str(j) + \"/output_faster_rcnn_R_50_FPN_3x/\")\n",
        "                if directory_exists:\n",
        "                    weight_path = output_path + str(k) + \"/\" + str(j) + \"/output_faster_rcnn_R_50_FPN_3x/\"\n",
        "                    dataset_yaml_file = weight_path + \"faster_rcnn_R_50_FPN_3x.yaml\"\n",
        "                    segmentation = False\n",
        "            elif i == \"retinanet\":\n",
        "                directory_exists = os.path.exists(output_path + str(k) + \"/\" + str(j) + \"/output_retinanet_R_50_FPN_3x/\")\n",
        "                if directory_exists:\n",
        "                    weight_path = output_path + str(k) + \"/\" + str(j) + \"/output_retinanet_R_50_FPN_3x/\"\n",
        "                    dataset_yaml_file = weight_path + \"retinanet_R_50_FPN_3x.yaml\"\n",
        "                    segmentation = False\n",
        "            \n",
        "            model_pth = \"model_final.pth\"\n",
        "            threshold = 0.7\n",
        "            \n",
        "            if k == \"Downloaded\":\n",
        "                dataset_name = val_dataset_name1\n",
        "            elif k == \"Showroom\":\n",
        "                dataset_name = val_dataset_name2\n",
        "            elif k == \"DownloadedAndShowroom\":\n",
        "                dataset_name = val_dataset_name3\n",
        "\n",
        "            if directory_exists:\n",
        "                evaluation_results = inference(dataset_name, dataset_yaml_file, weight_path, model_pth, threshold)            \n",
        "                result.append([i, j, k, segmentation, evaluation_results])                   "
      ]
    },
    {
      "cell_type": "code",
      "execution_count": null,
      "metadata": {
        "id": "S3itFZVwMKgf"
      },
      "outputs": [],
      "source": [
        "def save_result(result):\n",
        "    df = pd.DataFrame()\n",
        "    for i in range(len(result)):\n",
        "        temp = pd.DataFrame(result[i][4], columns=result[i][4].keys())\n",
        "        temp = temp.T\n",
        "        \n",
        "        temp = temp.drop(['APs', 'APm', 'APl', 'AR1', 'AR10'], axis=1)\n",
        "\n",
        "        segmentation = result[i][3]\n",
        "\n",
        "        if segmentation:\n",
        "            model = pd.Series([result[i][0], result[i][0]], index=[0, 1])\n",
        "            epoch = pd.Series([result[i][1], result[i][1]], index=[0, 1])\n",
        "            dataset = pd.Series([result[i][2], result[i][2]], index=[0, 1])\n",
        "        else:\n",
        "            model = pd.Series([result[i][0]], index=[0])\n",
        "            epoch = pd.Series([result[i][1]], index=[0])\n",
        "            dataset = pd.Series([result[i][2]], index=[0])\n",
        "\n",
        "        temp['model'] = model.values\n",
        "        temp['epoch'] = epoch.values\n",
        "        temp['dataset'] = dataset.values\n",
        "\n",
        "        df = pd.concat([df, temp])\n",
        "        df.to_csv('result/train_evaulation.csv', index=True, index_label=\"Result-type\") \n",
        "    \n",
        "    return df"
      ]
    },
    {
      "cell_type": "code",
      "execution_count": null,
      "metadata": {
        "id": "B7JVVtteMKgf"
      },
      "outputs": [],
      "source": [
        "print_dataset_instances(val_dataset_dicts1, val_metadata1.thing_classes)"
      ]
    },
    {
      "cell_type": "code",
      "execution_count": null,
      "metadata": {
        "id": "f8iIznHCMKgg"
      },
      "outputs": [],
      "source": [
        "print_dataset_instances(val_dataset_dicts2, val_metadata2.thing_classes)"
      ]
    },
    {
      "cell_type": "code",
      "execution_count": null,
      "metadata": {
        "id": "-05my0UhMKgg"
      },
      "outputs": [],
      "source": [
        "print_dataset_instances(val_dataset_dicts3, val_metadata3.thing_classes)"
      ]
    },
    {
      "cell_type": "code",
      "execution_count": null,
      "metadata": {
        "id": "mYUYSxbpMKgh"
      },
      "outputs": [],
      "source": [
        "df = save_result(result)"
      ]
    },
    {
      "cell_type": "code",
      "execution_count": null,
      "metadata": {
        "id": "EezuQnTHMKgh"
      },
      "outputs": [],
      "source": [
        "df"
      ]
    },
    {
      "cell_type": "markdown",
      "metadata": {
        "id": "O2sFVJDHMKgj"
      },
      "source": [
        "### Check result in resolution"
      ]
    },
    {
      "cell_type": "code",
      "execution_count": null,
      "metadata": {
        "id": "ja9vplJlMKgk"
      },
      "outputs": [],
      "source": [
        "# Import class time from time module\n",
        "from time import time"
      ]
    },
    {
      "cell_type": "code",
      "execution_count": null,
      "metadata": {
        "id": "tC2UaZ2GMKgl"
      },
      "outputs": [],
      "source": [
        "def resize_with_aspect_ratio(image, width=None, height=None):\n",
        "    dim = None\n",
        "    (h, w) = image.shape[:2]\n",
        "\n",
        "    if width is None and height is None:\n",
        "        return image\n",
        "    if width is None:\n",
        "        r = height / float(h)\n",
        "        dim = (int(w * r), height)\n",
        "    else:\n",
        "        r = width / float(w)\n",
        "        dim = (width, int(h * r))\n",
        "\n",
        "    return dim"
      ]
    },
    {
      "cell_type": "code",
      "execution_count": null,
      "metadata": {
        "id": "rGkvrtAtMKgl"
      },
      "outputs": [],
      "source": [
        "def evaluate2(image, metadata, predictor, width=1280, instance_mode=False, save_image=False):\n",
        "    start = int(time() * 1000)\n",
        "    \n",
        "    im = cv2.imread(image)\n",
        "    print(\"Original image shape: \" + str(im.shape))\n",
        "    \n",
        "    downsize = resize_with_aspect_ratio(im, width=width)\n",
        "    img = cv2.resize(im, dsize=downsize, interpolation=cv2.INTER_AREA)\n",
        "    print(\"Resized image shape: \" + str(img.shape))\n",
        "    \n",
        "    startPredictor = int(time() * 1000)\n",
        "    outputs = predictor(img)  # format is documented at https://detectron2.readthedocs.io/tutorials/models.html#model-output-format\n",
        "    endPredictor = int(time() * 1000)\n",
        "    \n",
        "#     print(outputs)\n",
        "    \n",
        "    v = {}\n",
        "    if instance_mode:\n",
        "        v = Visualizer(img[:, :, ::-1],\n",
        "                        metadata=metadata, \n",
        "                        scale=0.5, \n",
        "                        instance_mode=ColorMode.IMAGE_BW   # remove the colors of unsegmented pixels. This option is only available for segmentation models\n",
        "        )\n",
        "    else:\n",
        "        v = Visualizer(img[:, :, ::-1],\n",
        "                        metadata=metadata, \n",
        "                        scale=0.5,\n",
        "        )\n",
        "    out = v.draw_instance_predictions(outputs[\"instances\"].to(\"cpu\"))\n",
        "    \n",
        "    if save_image:        \n",
        "        im = cv2.cvtColor(out.get_image()[:, :, ::-1], cv2.COLOR_BGR2RGB)\n",
        "        im = Image.fromarray(im)\n",
        "        im.save(image.rsplit('/', 1)[1])\n",
        "\n",
        "    imshow(out.get_image()[:, :, ::-1])\n",
        "    \n",
        "    end = int(time() * 1000)\n",
        "    \n",
        "    print(\"The whole process \" + str(end-start) + \" ms\")\n",
        "    print(\"The prediction time \" + str(endPredictor-startPredictor) + \" ms\")"
      ]
    },
    {
      "cell_type": "code",
      "execution_count": null,
      "metadata": {
        "id": "pQjb2EGQMKgm"
      },
      "outputs": [],
      "source": [
        "output_path = \"./detectron2/output/\"\n",
        "weight_path, dataset_yaml_file = choose_model(output_path, model=\"maskrcnn\", epoch=30000, dataset=\"Showroom\")\n",
        "predictor = get_predictor(weight_path, dataset_yaml_file, threshold=0.7)"
      ]
    },
    {
      "cell_type": "code",
      "execution_count": null,
      "metadata": {
        "id": "pab74WpyMKgm"
      },
      "outputs": [],
      "source": [
        "predictor = get_predictor(weight_path, dataset_yaml_file, threshold=0.7)\n",
        "evaluate2(\"./data/test/200.png\", val_metadata2, predictor, width=2448, instance_mode=False, save_image=False)"
      ]
    },
    {
      "cell_type": "code",
      "execution_count": null,
      "metadata": {
        "id": "dR2m1XHUMKgn"
      },
      "outputs": [],
      "source": [
        "predictor = get_predictor(weight_path, dataset_yaml_file, threshold=0.7)\n",
        "evaluate2(\"./data/test/200.png\", val_metadata2, predictor, width=2000, instance_mode=False, save_image=False)"
      ]
    },
    {
      "cell_type": "code",
      "execution_count": null,
      "metadata": {
        "id": "0Hyg1du_MKgo"
      },
      "outputs": [],
      "source": [
        "predictor = get_predictor(weight_path, dataset_yaml_file, threshold=0.7)\n",
        "evaluate2(\"./data/test/200.png\", val_metadata2, predictor, width=1600, instance_mode=False, save_image=False)"
      ]
    },
    {
      "cell_type": "code",
      "execution_count": null,
      "metadata": {
        "id": "sXKuuGLeMKgo"
      },
      "outputs": [],
      "source": [
        "predictor = get_predictor(weight_path, dataset_yaml_file, threshold=0.7)\n",
        "evaluate2(\"./data/test/200.png\", val_metadata2, predictor, width=1280, instance_mode=False, save_image=False)"
      ]
    },
    {
      "cell_type": "code",
      "execution_count": null,
      "metadata": {
        "id": "CAh0A0YIMKgp"
      },
      "outputs": [],
      "source": [
        "predictor = get_predictor(weight_path, dataset_yaml_file, threshold=0.7)\n",
        "evaluate2(\"./data/test/200.png\", val_metadata2, predictor, width=1000, instance_mode=False, save_image=False)"
      ]
    },
    {
      "cell_type": "code",
      "execution_count": null,
      "metadata": {
        "id": "1AY_57PbMKgp"
      },
      "outputs": [],
      "source": [
        "predictor = get_predictor(weight_path, dataset_yaml_file, threshold=0.7)\n",
        "evaluate2(\"./data/test/200.png\", val_metadata2, predictor, width=720, instance_mode=False, save_image=False)"
      ]
    },
    {
      "cell_type": "code",
      "execution_count": null,
      "metadata": {
        "id": "NvWp4HsnMKgp"
      },
      "outputs": [],
      "source": [
        "predictor = get_predictor(weight_path, dataset_yaml_file, threshold=0.7)\n",
        "evaluate2(\"./data/test/200.png\", val_metadata2, predictor, width=500, instance_mode=False, save_image=False)"
      ]
    },
    {
      "cell_type": "code",
      "execution_count": null,
      "metadata": {
        "id": "n_1lvDiuMKgq"
      },
      "outputs": [],
      "source": [
        "predictor = get_predictor(weight_path, dataset_yaml_file, threshold=0.7)\n",
        "evaluate2(\"./data/test/200.png\", val_metadata2, predictor, width=400, instance_mode=False, save_image=False)"
      ]
    },
    {
      "cell_type": "code",
      "execution_count": null,
      "metadata": {
        "id": "bi_7wWDSMKgr"
      },
      "outputs": [],
      "source": [
        "predictor = get_predictor(weight_path, dataset_yaml_file, threshold=0.7)\n",
        "evaluate2(\"./data/test/200.png\", val_metadata2, predictor, width=200, instance_mode=False, save_image=False)"
      ]
    },
    {
      "cell_type": "markdown",
      "metadata": {
        "id": "gGGkEOQGtyW5"
      },
      "source": [
        "### COCO-pretrained R50-FPN Mask R-CNN"
      ]
    },
    {
      "cell_type": "markdown",
      "metadata": {
        "id": "5OEBncyMMKgs"
      },
      "source": [
        "#### Learned on downloaded dataset"
      ]
    },
    {
      "cell_type": "code",
      "execution_count": null,
      "metadata": {
        "id": "Xh3e4eiHMKgs"
      },
      "outputs": [],
      "source": [
        "output_path = \"./detectron2/output/\"\n",
        "weight_path, dataset_yaml_file = choose_model(output_path, model=\"maskrcnn\", epoch=10000, dataset=\"Downloaded\")\n",
        "predictor = get_predictor(weight_path, dataset_yaml_file, threshold=0.7)\n",
        "\n",
        "test_dataset_path = \"./data/dataset-resized/test/\"\n",
        "random_test_sample(test_dataset_path, 5, val_metadata1, predictor)"
      ]
    },
    {
      "cell_type": "code",
      "execution_count": null,
      "metadata": {
        "id": "2i3GRey-MKgt"
      },
      "outputs": [],
      "source": [
        "output_path = \"./detectron2/output/\"\n",
        "weight_path, dataset_yaml_file = choose_model(output_path, model=\"maskrcnn\", epoch=30000, dataset=\"Downloaded\")\n",
        "predictor = get_predictor(weight_path, dataset_yaml_file, threshold=0.7)\n",
        "\n",
        "test_dataset_path = \"./data/dataset-resized/test/\"\n",
        "random_test_sample(test_dataset_path, 5, val_metadata1, predictor)"
      ]
    },
    {
      "cell_type": "code",
      "execution_count": null,
      "metadata": {
        "id": "pws9HhY3MKgu"
      },
      "outputs": [],
      "source": [
        "output_path = \"./detectron2/output/\"\n",
        "weight_path, dataset_yaml_file = choose_model(output_path, model=\"maskrcnn\", epoch=80000, dataset=\"Downloaded\")\n",
        "predictor = get_predictor(weight_path, dataset_yaml_file, threshold=0.7)\n",
        "\n",
        "test_dataset_path = \"./data/dataset-resized/test/\"\n",
        "random_test_sample(test_dataset_path, 5, val_metadata1, predictor)"
      ]
    },
    {
      "cell_type": "markdown",
      "metadata": {
        "id": "QlTMY9vMMKgv"
      },
      "source": [
        "#### Learned on showroom dataset"
      ]
    },
    {
      "cell_type": "code",
      "execution_count": null,
      "metadata": {
        "id": "P2rnKNflMKgv"
      },
      "outputs": [],
      "source": [
        "output_path = \"./detectron2/output/\"\n",
        "weight_path, dataset_yaml_file = choose_model(output_path, model=\"maskrcnn\", epoch=30000, dataset=\"Showroom\")\n",
        "predictor = get_predictor(weight_path, dataset_yaml_file, threshold=0.7)\n",
        "\n",
        "test_dataset_path = \"./data/showroomImagesResized/test/\"\n",
        "random_test_sample(test_dataset_path, 5, val_metadata1, predictor)"
      ]
    },
    {
      "cell_type": "markdown",
      "metadata": {
        "id": "ePWbN7VPMKgw"
      },
      "source": [
        "#### Learned on showroom and downloaded dataset"
      ]
    },
    {
      "cell_type": "code",
      "execution_count": null,
      "metadata": {
        "id": "bZI3QggaMKgw"
      },
      "outputs": [],
      "source": [
        "output_path = \"./detectron2/output/\"\n",
        "weight_path, dataset_yaml_file = choose_model(output_path, model=\"maskrcnn\", epoch=10000, dataset=\"DownloadedAndShowroom\")\n",
        "predictor = get_predictor(weight_path, dataset_yaml_file, threshold=0.7)\n",
        "\n",
        "test_dataset_path = \"./data/dataset-resized/test/\"\n",
        "random_test_sample(test_dataset_path, 5, val_metadata1, predictor)"
      ]
    },
    {
      "cell_type": "code",
      "execution_count": null,
      "metadata": {
        "id": "2CijcjPDMKgx"
      },
      "outputs": [],
      "source": [
        "output_path = \"./detectron2/output/\"\n",
        "weight_path, dataset_yaml_file = choose_model(output_path, model=\"maskrcnn\", epoch=10000, dataset=\"DownloadedAndShowroom\")\n",
        "predictor = get_predictor(weight_path, dataset_yaml_file, threshold=0.7)\n",
        "\n",
        "test_dataset_path = \"./data/showroomImagesResized/test/\"\n",
        "random_test_sample(test_dataset_path, 5, val_metadata1, predictor)"
      ]
    },
    {
      "cell_type": "code",
      "execution_count": null,
      "metadata": {
        "id": "HgQCj6WzMKgy"
      },
      "outputs": [],
      "source": [
        "output_path = \"./detectron2/output/\"\n",
        "weight_path, dataset_yaml_file = choose_model(output_path, model=\"maskrcnn\", epoch=30000, dataset=\"DownloadedAndShowroom\")\n",
        "predictor = get_predictor(weight_path, dataset_yaml_file, threshold=0.7)\n",
        "\n",
        "test_dataset_path = \"./data/dataset-resized/test/\"\n",
        "random_test_sample(test_dataset_path, 5, val_metadata1, predictor)"
      ]
    },
    {
      "cell_type": "code",
      "execution_count": null,
      "metadata": {
        "id": "RrQjgVshMKgz"
      },
      "outputs": [],
      "source": [
        "output_path = \"./detectron2/output/\"\n",
        "weight_path, dataset_yaml_file = choose_model(output_path, model=\"maskrcnn\", epoch=30000, dataset=\"DownloadedAndShowroom\")\n",
        "predictor = get_predictor(weight_path, dataset_yaml_file, threshold=0.7)\n",
        "\n",
        "test_dataset_path = \"./data/showroomImagesResized/test/\"\n",
        "random_test_sample(test_dataset_path, 5, val_metadata1, predictor)"
      ]
    },
    {
      "cell_type": "markdown",
      "metadata": {
        "id": "Bot9wrniMKg0"
      },
      "source": [
        "### COCO-pretrained R50-FPN Faster R-CNN"
      ]
    },
    {
      "cell_type": "markdown",
      "metadata": {
        "id": "QEJWZsQ5MKg0"
      },
      "source": [
        "#### Learned on downloaded dataset"
      ]
    },
    {
      "cell_type": "code",
      "execution_count": null,
      "metadata": {
        "id": "F7HFmY8qMKg0"
      },
      "outputs": [],
      "source": [
        "output_path = \"./detectron2/output/\"\n",
        "weight_path, dataset_yaml_file = choose_model(output_path, model=\"fasterrcnn\", epoch=10000, dataset=\"Downloaded\")\n",
        "predictor = get_predictor(weight_path, dataset_yaml_file, threshold=0.7)\n",
        "\n",
        "test_dataset_path = \"./data/dataset-resized/test/\"\n",
        "random_test_sample(test_dataset_path, 5, val_metadata1, predictor)"
      ]
    },
    {
      "cell_type": "code",
      "execution_count": null,
      "metadata": {
        "id": "gbHA-jvLMKg1"
      },
      "outputs": [],
      "source": [
        "output_path = \"./detectron2/output/\"\n",
        "weight_path, dataset_yaml_file = choose_model(output_path, model=\"fasterrcnn\", epoch=30000, dataset=\"Downloaded\")\n",
        "predictor = get_predictor(weight_path, dataset_yaml_file, threshold=0.7)\n",
        "\n",
        "test_dataset_path = \"./data/dataset-resized/test/\"\n",
        "random_test_sample(test_dataset_path, 5, val_metadata1, predictor)"
      ]
    },
    {
      "cell_type": "code",
      "execution_count": null,
      "metadata": {
        "id": "ZbPa1lLWMKg2"
      },
      "outputs": [],
      "source": [
        "output_path = \"./detectron2/output/\"\n",
        "weight_path, dataset_yaml_file = choose_model(output_path, model=\"fasterrcnn\", epoch=80000, dataset=\"Downloaded\")\n",
        "predictor = get_predictor(weight_path, dataset_yaml_file, threshold=0.7)\n",
        "\n",
        "test_dataset_path = \"./data/dataset-resized/test/\"\n",
        "random_test_sample(test_dataset_path, 5, val_metadata1, predictor)"
      ]
    },
    {
      "cell_type": "markdown",
      "metadata": {
        "id": "js2ovRkvMKg3"
      },
      "source": [
        "#### Learned on showroom dataset"
      ]
    },
    {
      "cell_type": "code",
      "execution_count": null,
      "metadata": {
        "id": "wNrwDgVnMKg3"
      },
      "outputs": [],
      "source": [
        "output_path = \"./detectron2/output/\"\n",
        "weight_path, dataset_yaml_file = choose_model(output_path, model=\"fasterrcnn\", epoch=30000, dataset=\"Showroom\")\n",
        "predictor = get_predictor(weight_path, dataset_yaml_file, threshold=0.7)\n",
        "\n",
        "test_dataset_path = \"./data/showroomImagesResized/test/\"\n",
        "random_test_sample(test_dataset_path, 5, val_metadata1, predictor)"
      ]
    },
    {
      "cell_type": "markdown",
      "metadata": {
        "id": "awMKJK0AMKg4"
      },
      "source": [
        "#### Learned on showroom and downloaded dataset"
      ]
    },
    {
      "cell_type": "code",
      "execution_count": null,
      "metadata": {
        "id": "qq6m_wCtMKg4"
      },
      "outputs": [],
      "source": [
        "output_path = \"./detectron2/output/\"\n",
        "weight_path, dataset_yaml_file = choose_model(output_path, model=\"fasterrcnn\", epoch=10000, dataset=\"DownloadedAndShowroom\")\n",
        "predictor = get_predictor(weight_path, dataset_yaml_file, threshold=0.7)\n",
        "\n",
        "test_dataset_path = \"./data/dataset-resized/test/\"\n",
        "random_test_sample(test_dataset_path, 5, val_metadata1, predictor)"
      ]
    },
    {
      "cell_type": "code",
      "execution_count": null,
      "metadata": {
        "id": "9YX77yCIMKg5"
      },
      "outputs": [],
      "source": [
        "output_path = \"./detectron2/output/\"\n",
        "weight_path, dataset_yaml_file = choose_model(output_path, model=\"fasterrcnn\", epoch=10000, dataset=\"DownloadedAndShowroom\")\n",
        "predictor = get_predictor(weight_path, dataset_yaml_file, threshold=0.7)\n",
        "\n",
        "test_dataset_path = \"./data/showroomImagesResized/test/\"\n",
        "random_test_sample(test_dataset_path, 5, val_metadata1, predictor)"
      ]
    },
    {
      "cell_type": "code",
      "execution_count": null,
      "metadata": {
        "id": "-ZxTYyV7tyW9"
      },
      "outputs": [],
      "source": [
        "output_path = \"./detectron2/output/\"\n",
        "weight_path, dataset_yaml_file = choose_model(output_path, model=\"fasterrcnn\", epoch=30000, dataset=\"DownloadedAndShowroom\")\n",
        "predictor = get_predictor(weight_path, dataset_yaml_file, threshold=0.7)\n",
        "\n",
        "test_dataset_path = \"./data/dataset-resized/test/\"\n",
        "random_test_sample(test_dataset_path, 5, val_metadata1, predictor)"
      ]
    },
    {
      "cell_type": "code",
      "execution_count": null,
      "metadata": {
        "id": "SN4Hq4HKjIzP"
      },
      "outputs": [],
      "source": [
        "output_path = \"./detectron2/output/\"\n",
        "weight_path, dataset_yaml_file = choose_model(output_path, model=\"fasterrcnn\", epoch=30000, dataset=\"DownloadedAndShowroom\")\n",
        "predictor = get_predictor(weight_path, dataset_yaml_file, threshold=0.7)\n",
        "\n",
        "test_dataset_path = \"./data/showroomImagesResized/test/\"\n",
        "random_test_sample(test_dataset_path, 5, val_metadata1, predictor)"
      ]
    },
    {
      "cell_type": "markdown",
      "metadata": {
        "id": "z7lCexpMtyXE"
      },
      "source": [
        "### COCO-pretrained R50-FPN RetinaNet"
      ]
    },
    {
      "cell_type": "markdown",
      "metadata": {
        "id": "7o1h5e3MMKg_"
      },
      "source": [
        "#### Learned on downloaded dataset"
      ]
    },
    {
      "cell_type": "code",
      "execution_count": null,
      "metadata": {
        "id": "Ag0aZTs8MKhA"
      },
      "outputs": [],
      "source": [
        "output_path = \"./detectron2/output/\"\n",
        "weight_path, dataset_yaml_file = choose_model(output_path, model=\"retinanet\", epoch=10000, dataset=\"Downloaded\")\n",
        "predictor = get_predictor(weight_path, dataset_yaml_file, threshold=0.7)\n",
        "\n",
        "test_dataset_path = \"./data/dataset-resized/test/\"\n",
        "random_test_sample(test_dataset_path, 5, val_metadata1, predictor)"
      ]
    },
    {
      "cell_type": "code",
      "execution_count": null,
      "metadata": {
        "id": "UsPr8enAMKhA"
      },
      "outputs": [],
      "source": [
        "output_path = \"./detectron2/output/\"\n",
        "weight_path, dataset_yaml_file = choose_model(output_path, model=\"retinanet\", epoch=30000, dataset=\"Downloaded\")\n",
        "predictor = get_predictor(weight_path, dataset_yaml_file, threshold=0.7)\n",
        "\n",
        "test_dataset_path = \"./data/dataset-resized/test/\"\n",
        "random_test_sample(test_dataset_path, 5, val_metadata1, predictor)"
      ]
    },
    {
      "cell_type": "code",
      "execution_count": null,
      "metadata": {
        "id": "HUMIPIUUMKhB"
      },
      "outputs": [],
      "source": [
        "output_path = \"./detectron2/output/\"\n",
        "weight_path, dataset_yaml_file = choose_model(output_path, model=\"retinanet\", epoch=80000, dataset=\"Downloaded\")\n",
        "predictor = get_predictor(weight_path, dataset_yaml_file, threshold=0.7)\n",
        "\n",
        "test_dataset_path = \"./data/dataset-resized/test/\"\n",
        "random_test_sample(test_dataset_path, 5, val_metadata1, predictor)"
      ]
    },
    {
      "cell_type": "markdown",
      "metadata": {
        "id": "BH9Y--SkMKhC"
      },
      "source": [
        "#### Learned on showroom dataset"
      ]
    },
    {
      "cell_type": "code",
      "execution_count": null,
      "metadata": {
        "id": "2f24cHiUMKhC"
      },
      "outputs": [],
      "source": [
        "output_path = \"./detectron2/output/\"\n",
        "weight_path, dataset_yaml_file = choose_model(output_path, model=\"retinanet\", epoch=30000, dataset=\"Showroom\")\n",
        "predictor = get_predictor(weight_path, dataset_yaml_file, threshold=0.7)\n",
        "\n",
        "test_dataset_path = \"./data/showroomImagesResized/test/\"\n",
        "random_test_sample(test_dataset_path, 5, val_metadata1, predictor)"
      ]
    },
    {
      "cell_type": "markdown",
      "metadata": {
        "id": "wckFiWC-MKhE"
      },
      "source": [
        "#### Learned on showroom and downloaded dataset"
      ]
    },
    {
      "cell_type": "code",
      "execution_count": null,
      "metadata": {
        "id": "EqGzDML-MKhG"
      },
      "outputs": [],
      "source": [
        "output_path = \"./detectron2/output/\"\n",
        "weight_path, dataset_yaml_file = choose_model(output_path, model=\"retinanet\", epoch=10000, dataset=\"DownloadedAndShowroom\")\n",
        "predictor = get_predictor(weight_path, dataset_yaml_file, threshold=0.7)\n",
        "\n",
        "test_dataset_path = \"./data/dataset-resized/test/\"\n",
        "random_test_sample(test_dataset_path, 5, val_metadata1, predictor)"
      ]
    },
    {
      "cell_type": "code",
      "execution_count": null,
      "metadata": {
        "id": "a0a6L4rvMKhG"
      },
      "outputs": [],
      "source": [
        "output_path = \"./detectron2/output/\"\n",
        "weight_path, dataset_yaml_file = choose_model(output_path, model=\"retinanet\", epoch=10000, dataset=\"DownloadedAndShowroom\")\n",
        "predictor = get_predictor(weight_path, dataset_yaml_file, threshold=0.7)\n",
        "\n",
        "test_dataset_path = \"./data/showroomImagesResized/test/\"\n",
        "random_test_sample(test_dataset_path, 5, val_metadata1, predictor)"
      ]
    },
    {
      "cell_type": "code",
      "execution_count": null,
      "metadata": {
        "id": "TBLiX5bWMKhH"
      },
      "outputs": [],
      "source": [
        "output_path = \"./detectron2/output/\"\n",
        "weight_path, dataset_yaml_file = choose_model(output_path, model=\"retinanet\", epoch=30000, dataset=\"DownloadedAndShowroom\")\n",
        "predictor = get_predictor(weight_path, dataset_yaml_file, threshold=0.7)\n",
        "\n",
        "test_dataset_path = \"./data/dataset-resized/test/\"\n",
        "random_test_sample(test_dataset_path, 5, val_metadata1, predictor)"
      ]
    },
    {
      "cell_type": "code",
      "execution_count": null,
      "metadata": {
        "id": "tWhqX--AMKhI"
      },
      "outputs": [],
      "source": [
        "output_path = \"./detectron2/output/\"\n",
        "weight_path, dataset_yaml_file = choose_model(output_path, model=\"retinanet\", epoch=30000, dataset=\"DownloadedAndShowroom\")\n",
        "predictor = get_predictor(weight_path, dataset_yaml_file, threshold=0.7)\n",
        "\n",
        "test_dataset_path = \"./data/showroomImagesResized/test/\"\n",
        "random_test_sample(test_dataset_path, 5, val_metadata1, predictor)"
      ]
    }
  ],
  "metadata": {
    "accelerator": "GPU",
    "colab": {
      "provenance": [],
      "toc_visible": true
    },
    "gpuClass": "standard",
    "kernelspec": {
      "display_name": "Python 3 (ipykernel)",
      "language": "python",
      "name": "python3"
    },
    "language_info": {
      "codemirror_mode": {
        "name": "ipython",
        "version": 3
      },
      "file_extension": ".py",
      "mimetype": "text/x-python",
      "name": "python",
      "nbconvert_exporter": "python",
      "pygments_lexer": "ipython3",
      "version": "3.7.0"
    }
  },
  "nbformat": 4,
  "nbformat_minor": 0
}